{
 "cells": [
  {
   "cell_type": "markdown",
   "source": [
    "# 010 :  Who owns the plants and their turbines across the USA --> Footprint of turbine owners\n",
    "* will be joining turbines --> operators table on eia_id --> plant_id (gives us plant identification and plant name)\n",
    "* place the plants on a map --> geographic distribution/ density --> get plant_state \n",
    "* --> get operator_name, operator_id for each plant.  "
   ],
   "metadata": {
    "collapsed": false
   },
   "id": "7635eae462866d7f"
  },
  {
   "cell_type": "code",
   "execution_count": 2,
   "id": "initial_id",
   "metadata": {
    "collapsed": true,
    "ExecuteTime": {
     "end_time": "2024-01-22T22:58:32.403779300Z",
     "start_time": "2024-01-22T22:58:32.348795900Z"
    }
   },
   "outputs": [],
   "source": [
    "# import necessary modules\n",
    "import requests\n",
    "import pandas as pd\n",
    "import numpy as np\n",
    "import seaborn as sns\n",
    "import matplotlib.pyplot as plt\n",
    "\n",
    "\n",
    "%matplotlib inline"
   ]
  },
  {
   "cell_type": "markdown",
   "source": [
    "# import .csv data"
   ],
   "metadata": {
    "collapsed": false
   },
   "id": "c5643c5b0f93c82a"
  },
  {
   "cell_type": "code",
   "execution_count": 3,
   "outputs": [
    {
     "data": {
      "text/plain": "       case_id faa_ors faa_asn  usgs_pr_id   eia_id t_state  \\\n0      3000001     NaN     NaN      6569.0  54686.0      CA   \n1      3000003     NaN     NaN      3100.0      NaN      CA   \n2      3000008     NaN     NaN      3463.0  10597.0      CA   \n3      3000016     NaN     NaN     15543.0  50535.0      CA   \n4      3000020     NaN     NaN      1944.0      NaN      AK   \n...        ...     ...     ...         ...      ...     ...   \n70803  3118667     NaN     NaN         NaN      NaN      NM   \n70804  3118668     NaN     NaN         NaN      NaN      NM   \n70805  3118669     NaN     NaN         NaN      NaN      NM   \n70806  3118670     NaN     NaN         NaN      NaN      NM   \n70807  3118671     NaN     NaN         NaN      NaN      NM   \n\n                 t_county  t_fips                                  p_name  \\\n0             Kern County    6029                               Difwind 6   \n1             Kern County    6029  unknown Tehachapi Wind Resource Area 1   \n2             Kern County    6029                                Ridgetop   \n3        Riverside County    6065                          Mesa Wind Farm   \n4      Bethel Census Area    2050                             Tuntutuliak   \n...                   ...     ...                                     ...   \n70803       Catron County   35003                   unknown Catron County   \n70804       Catron County   35003                   unknown Catron County   \n70805       Catron County   35003                   unknown Catron County   \n70806       Catron County   35003                   unknown Catron County   \n70807     Torrance County   35057                 unknown Torrance County   \n\n       p_year  ...   t_rsa  t_ttlh retrofit retrofit_year  t_conf_atr  \\\n0      1987.0  ...     NaN     NaN        0           NaN           1   \n1      1982.0  ...     NaN     NaN        0           NaN           1   \n2      1985.0  ...     NaN     NaN        0           NaN           1   \n3      1983.0  ...  183.85    30.4        0           NaN           3   \n4      2012.0  ...  226.98    39.5        0           NaN           3   \n...       ...  ...     ...     ...      ...           ...         ...   \n70803     NaN  ...     NaN     NaN        0           NaN           1   \n70804     NaN  ...     NaN     NaN        0           NaN           1   \n70805     NaN  ...     NaN     NaN        0           NaN           1   \n70806     NaN  ...     NaN     NaN        0           NaN           1   \n70807     NaN  ...     NaN     NaN        0           NaN           1   \n\n       t_conf_loc  t_img_date     t_img_srce       xlong       ylat  \n0               3  2018-11-03  Digital Globe -118.270027  35.066048  \n1               3  2018-11-03  Digital Globe -118.299385  35.044796  \n2               3  2018-05-08  Digital Globe -118.302780  35.078526  \n3               3  2018-11-03  Digital Globe -116.652931  33.954193  \n4               3  2020-05-19  Digital Globe -162.661880  60.336800  \n...           ...         ...            ...         ...        ...  \n70803           3  2021-12-02  Digital Globe -108.901253  34.164696  \n70804           3  2021-12-02  Digital Globe -108.907745  34.103058  \n70805           3  2021-12-02  Digital Globe -108.915382  34.110283  \n70806           3  2021-12-02  Digital Globe -108.869209  34.157585  \n70807           3  2021-12-05  Digital Globe -105.590172  34.613602  \n\n[70808 rows x 27 columns]",
      "text/html": "<div>\n<style scoped>\n    .dataframe tbody tr th:only-of-type {\n        vertical-align: middle;\n    }\n\n    .dataframe tbody tr th {\n        vertical-align: top;\n    }\n\n    .dataframe thead th {\n        text-align: right;\n    }\n</style>\n<table border=\"1\" class=\"dataframe\">\n  <thead>\n    <tr style=\"text-align: right;\">\n      <th></th>\n      <th>case_id</th>\n      <th>faa_ors</th>\n      <th>faa_asn</th>\n      <th>usgs_pr_id</th>\n      <th>eia_id</th>\n      <th>t_state</th>\n      <th>t_county</th>\n      <th>t_fips</th>\n      <th>p_name</th>\n      <th>p_year</th>\n      <th>...</th>\n      <th>t_rsa</th>\n      <th>t_ttlh</th>\n      <th>retrofit</th>\n      <th>retrofit_year</th>\n      <th>t_conf_atr</th>\n      <th>t_conf_loc</th>\n      <th>t_img_date</th>\n      <th>t_img_srce</th>\n      <th>xlong</th>\n      <th>ylat</th>\n    </tr>\n  </thead>\n  <tbody>\n    <tr>\n      <th>0</th>\n      <td>3000001</td>\n      <td>NaN</td>\n      <td>NaN</td>\n      <td>6569.0</td>\n      <td>54686.0</td>\n      <td>CA</td>\n      <td>Kern County</td>\n      <td>6029</td>\n      <td>Difwind 6</td>\n      <td>1987.0</td>\n      <td>...</td>\n      <td>NaN</td>\n      <td>NaN</td>\n      <td>0</td>\n      <td>NaN</td>\n      <td>1</td>\n      <td>3</td>\n      <td>2018-11-03</td>\n      <td>Digital Globe</td>\n      <td>-118.270027</td>\n      <td>35.066048</td>\n    </tr>\n    <tr>\n      <th>1</th>\n      <td>3000003</td>\n      <td>NaN</td>\n      <td>NaN</td>\n      <td>3100.0</td>\n      <td>NaN</td>\n      <td>CA</td>\n      <td>Kern County</td>\n      <td>6029</td>\n      <td>unknown Tehachapi Wind Resource Area 1</td>\n      <td>1982.0</td>\n      <td>...</td>\n      <td>NaN</td>\n      <td>NaN</td>\n      <td>0</td>\n      <td>NaN</td>\n      <td>1</td>\n      <td>3</td>\n      <td>2018-11-03</td>\n      <td>Digital Globe</td>\n      <td>-118.299385</td>\n      <td>35.044796</td>\n    </tr>\n    <tr>\n      <th>2</th>\n      <td>3000008</td>\n      <td>NaN</td>\n      <td>NaN</td>\n      <td>3463.0</td>\n      <td>10597.0</td>\n      <td>CA</td>\n      <td>Kern County</td>\n      <td>6029</td>\n      <td>Ridgetop</td>\n      <td>1985.0</td>\n      <td>...</td>\n      <td>NaN</td>\n      <td>NaN</td>\n      <td>0</td>\n      <td>NaN</td>\n      <td>1</td>\n      <td>3</td>\n      <td>2018-05-08</td>\n      <td>Digital Globe</td>\n      <td>-118.302780</td>\n      <td>35.078526</td>\n    </tr>\n    <tr>\n      <th>3</th>\n      <td>3000016</td>\n      <td>NaN</td>\n      <td>NaN</td>\n      <td>15543.0</td>\n      <td>50535.0</td>\n      <td>CA</td>\n      <td>Riverside County</td>\n      <td>6065</td>\n      <td>Mesa Wind Farm</td>\n      <td>1983.0</td>\n      <td>...</td>\n      <td>183.85</td>\n      <td>30.4</td>\n      <td>0</td>\n      <td>NaN</td>\n      <td>3</td>\n      <td>3</td>\n      <td>2018-11-03</td>\n      <td>Digital Globe</td>\n      <td>-116.652931</td>\n      <td>33.954193</td>\n    </tr>\n    <tr>\n      <th>4</th>\n      <td>3000020</td>\n      <td>NaN</td>\n      <td>NaN</td>\n      <td>1944.0</td>\n      <td>NaN</td>\n      <td>AK</td>\n      <td>Bethel Census Area</td>\n      <td>2050</td>\n      <td>Tuntutuliak</td>\n      <td>2012.0</td>\n      <td>...</td>\n      <td>226.98</td>\n      <td>39.5</td>\n      <td>0</td>\n      <td>NaN</td>\n      <td>3</td>\n      <td>3</td>\n      <td>2020-05-19</td>\n      <td>Digital Globe</td>\n      <td>-162.661880</td>\n      <td>60.336800</td>\n    </tr>\n    <tr>\n      <th>...</th>\n      <td>...</td>\n      <td>...</td>\n      <td>...</td>\n      <td>...</td>\n      <td>...</td>\n      <td>...</td>\n      <td>...</td>\n      <td>...</td>\n      <td>...</td>\n      <td>...</td>\n      <td>...</td>\n      <td>...</td>\n      <td>...</td>\n      <td>...</td>\n      <td>...</td>\n      <td>...</td>\n      <td>...</td>\n      <td>...</td>\n      <td>...</td>\n      <td>...</td>\n      <td>...</td>\n    </tr>\n    <tr>\n      <th>70803</th>\n      <td>3118667</td>\n      <td>NaN</td>\n      <td>NaN</td>\n      <td>NaN</td>\n      <td>NaN</td>\n      <td>NM</td>\n      <td>Catron County</td>\n      <td>35003</td>\n      <td>unknown Catron County</td>\n      <td>NaN</td>\n      <td>...</td>\n      <td>NaN</td>\n      <td>NaN</td>\n      <td>0</td>\n      <td>NaN</td>\n      <td>1</td>\n      <td>3</td>\n      <td>2021-12-02</td>\n      <td>Digital Globe</td>\n      <td>-108.901253</td>\n      <td>34.164696</td>\n    </tr>\n    <tr>\n      <th>70804</th>\n      <td>3118668</td>\n      <td>NaN</td>\n      <td>NaN</td>\n      <td>NaN</td>\n      <td>NaN</td>\n      <td>NM</td>\n      <td>Catron County</td>\n      <td>35003</td>\n      <td>unknown Catron County</td>\n      <td>NaN</td>\n      <td>...</td>\n      <td>NaN</td>\n      <td>NaN</td>\n      <td>0</td>\n      <td>NaN</td>\n      <td>1</td>\n      <td>3</td>\n      <td>2021-12-02</td>\n      <td>Digital Globe</td>\n      <td>-108.907745</td>\n      <td>34.103058</td>\n    </tr>\n    <tr>\n      <th>70805</th>\n      <td>3118669</td>\n      <td>NaN</td>\n      <td>NaN</td>\n      <td>NaN</td>\n      <td>NaN</td>\n      <td>NM</td>\n      <td>Catron County</td>\n      <td>35003</td>\n      <td>unknown Catron County</td>\n      <td>NaN</td>\n      <td>...</td>\n      <td>NaN</td>\n      <td>NaN</td>\n      <td>0</td>\n      <td>NaN</td>\n      <td>1</td>\n      <td>3</td>\n      <td>2021-12-02</td>\n      <td>Digital Globe</td>\n      <td>-108.915382</td>\n      <td>34.110283</td>\n    </tr>\n    <tr>\n      <th>70806</th>\n      <td>3118670</td>\n      <td>NaN</td>\n      <td>NaN</td>\n      <td>NaN</td>\n      <td>NaN</td>\n      <td>NM</td>\n      <td>Catron County</td>\n      <td>35003</td>\n      <td>unknown Catron County</td>\n      <td>NaN</td>\n      <td>...</td>\n      <td>NaN</td>\n      <td>NaN</td>\n      <td>0</td>\n      <td>NaN</td>\n      <td>1</td>\n      <td>3</td>\n      <td>2021-12-02</td>\n      <td>Digital Globe</td>\n      <td>-108.869209</td>\n      <td>34.157585</td>\n    </tr>\n    <tr>\n      <th>70807</th>\n      <td>3118671</td>\n      <td>NaN</td>\n      <td>NaN</td>\n      <td>NaN</td>\n      <td>NaN</td>\n      <td>NM</td>\n      <td>Torrance County</td>\n      <td>35057</td>\n      <td>unknown Torrance County</td>\n      <td>NaN</td>\n      <td>...</td>\n      <td>NaN</td>\n      <td>NaN</td>\n      <td>0</td>\n      <td>NaN</td>\n      <td>1</td>\n      <td>3</td>\n      <td>2021-12-05</td>\n      <td>Digital Globe</td>\n      <td>-105.590172</td>\n      <td>34.613602</td>\n    </tr>\n  </tbody>\n</table>\n<p>70808 rows × 27 columns</p>\n</div>"
     },
     "execution_count": 3,
     "metadata": {},
     "output_type": "execute_result"
    }
   ],
   "source": [
    "# import turbines data\n",
    "\n",
    "turbines = pd.read_csv('wind_turbine_20220114.csv')\n",
    "turbines"
   ],
   "metadata": {
    "collapsed": false,
    "ExecuteTime": {
     "end_time": "2024-01-22T23:02:37.983894200Z",
     "start_time": "2024-01-22T23:02:37.594271200Z"
    }
   },
   "id": "d754bf0ca346f4d0"
  },
  {
   "cell_type": "code",
   "execution_count": 4,
   "outputs": [
    {
     "name": "stderr",
     "output_type": "stream",
     "text": [
      "C:\\Users\\Public\\Documents\\Wondershare\\CreatorTemp\\ipykernel_44736\\2873213737.py:3: DtypeWarning: Columns (5) have mixed types. Specify dtype option on import or set low_memory=False.\n",
      "  operators = pd.read_csv('eia923_operators.csv')\n"
     ]
    },
    {
     "data": {
      "text/plain": "       plant_id combined_heat_and_power_plant nuclear_unit_id  \\\n0             1                             N               .   \n1             2                             N               .   \n2             3                             N               .   \n3             3                             N               .   \n4             3                             N               .   \n...         ...                           ...             ...   \n15110     99999                             N               .   \n15111     99999                             N               .   \n15112     99999                             N               .   \n15113     99999                             N               .   \n15114     99999                             N               .   \n\n                       plant_name                   operator_name operator_id  \\\n0                      Sand Point  TDX Sand Point Generating, LLC       63560   \n1                    Bankhead Dam                Alabama Power Co         195   \n2                           Barry                Alabama Power Co         195   \n3                           Barry                Alabama Power Co         195   \n4                           Barry                Alabama Power Co         195   \n...                           ...                             ...         ...   \n15110  State-Fuel Level Increment      State-Fuel Level Increment       99999   \n15111  State-Fuel Level Increment      State-Fuel Level Increment       99999   \n15112  State-Fuel Level Increment      State-Fuel Level Increment       99999   \n15113  State-Fuel Level Increment      State-Fuel Level Increment       99999   \n15114  State-Fuel Level Increment      State-Fuel Level Increment       99999   \n\n      plant_state census_region nerc_region  reserved  ...  netgen_september  \\\n0              AK          PACN         NaN       NaN  ...              24.0   \n1              AL           ESC        SERC       NaN  ...            9187.0   \n2              AL           ESC        SERC       NaN  ...          254351.0   \n3              AL           ESC        SERC       NaN  ...          486059.0   \n4              AL           ESC        SERC       NaN  ...          347191.0   \n...           ...           ...         ...       ...  ...               ...   \n15110          NV           MTN         NaN       NaN  ...               0.0   \n15111          MD           SAT         NaN       NaN  ...               0.0   \n15112          NH           NEW         NaN       NaN  ...               0.0   \n15113          MA           NEW         NaN       NaN  ...               0.0   \n15114          ID           MTN         NaN       NaN  ...               0.0   \n\n       netgen_october netgen_november netgen_december  \\\n0                29.0            33.0            31.0   \n1              9137.0         10514.0         10936.0   \n2            220717.0        248068.0        227801.0   \n3            420338.0        483657.0        455550.0   \n4            424258.0        335570.0        144471.0   \n...               ...             ...             ...   \n15110             0.0             0.0             0.0   \n15111             0.0             0.0             0.0   \n15112             0.0             0.0             0.0   \n15113             0.0             0.0             0.0   \n15114             0.0             0.0             0.0   \n\n      total_fuel_consumption_quantity electric_fuel_consumption_quantity  \\\n0                                   0                                  0   \n1                                   0                                  0   \n2                             1219642                            1219642   \n3                            52001418                           52001418   \n4                             1292499                            1292499   \n...                               ...                                ...   \n15110                               0                                  0   \n15111                               0                                  0   \n15112                               0                                  0   \n15113                               0                                  0   \n15114                               0                                  0   \n\n      total_fuel_consumption_mm_btu elec_fuel_consumption_mm_btu  \\\n0                              3045                         3045   \n1                           1220939                      1220939   \n2                           1243854                      1243854   \n3                          53006762                     53006762   \n4                          26188716                     26188716   \n...                             ...                          ...   \n15110                        279086                       279086   \n15111                         76102                        76102   \n15112                         84267                        84267   \n15113                          6973                         6973   \n15114                         39234                        39234   \n\n      net_generation_megawatthours  year  \n0                            347.0  2020  \n1                         139170.0  2020  \n2                        2633517.0  2020  \n3                        5084350.0  2020  \n4                        2625835.0  2020  \n...                            ...   ...  \n15110                      31812.0  2020  \n15111                       8675.0  2020  \n15112                       9605.0  2020  \n15113                        795.0  2020  \n15114                       4472.0  2020  \n\n[15115 rows x 97 columns]",
      "text/html": "<div>\n<style scoped>\n    .dataframe tbody tr th:only-of-type {\n        vertical-align: middle;\n    }\n\n    .dataframe tbody tr th {\n        vertical-align: top;\n    }\n\n    .dataframe thead th {\n        text-align: right;\n    }\n</style>\n<table border=\"1\" class=\"dataframe\">\n  <thead>\n    <tr style=\"text-align: right;\">\n      <th></th>\n      <th>plant_id</th>\n      <th>combined_heat_and_power_plant</th>\n      <th>nuclear_unit_id</th>\n      <th>plant_name</th>\n      <th>operator_name</th>\n      <th>operator_id</th>\n      <th>plant_state</th>\n      <th>census_region</th>\n      <th>nerc_region</th>\n      <th>reserved</th>\n      <th>...</th>\n      <th>netgen_september</th>\n      <th>netgen_october</th>\n      <th>netgen_november</th>\n      <th>netgen_december</th>\n      <th>total_fuel_consumption_quantity</th>\n      <th>electric_fuel_consumption_quantity</th>\n      <th>total_fuel_consumption_mm_btu</th>\n      <th>elec_fuel_consumption_mm_btu</th>\n      <th>net_generation_megawatthours</th>\n      <th>year</th>\n    </tr>\n  </thead>\n  <tbody>\n    <tr>\n      <th>0</th>\n      <td>1</td>\n      <td>N</td>\n      <td>.</td>\n      <td>Sand Point</td>\n      <td>TDX Sand Point Generating, LLC</td>\n      <td>63560</td>\n      <td>AK</td>\n      <td>PACN</td>\n      <td>NaN</td>\n      <td>NaN</td>\n      <td>...</td>\n      <td>24.0</td>\n      <td>29.0</td>\n      <td>33.0</td>\n      <td>31.0</td>\n      <td>0</td>\n      <td>0</td>\n      <td>3045</td>\n      <td>3045</td>\n      <td>347.0</td>\n      <td>2020</td>\n    </tr>\n    <tr>\n      <th>1</th>\n      <td>2</td>\n      <td>N</td>\n      <td>.</td>\n      <td>Bankhead Dam</td>\n      <td>Alabama Power Co</td>\n      <td>195</td>\n      <td>AL</td>\n      <td>ESC</td>\n      <td>SERC</td>\n      <td>NaN</td>\n      <td>...</td>\n      <td>9187.0</td>\n      <td>9137.0</td>\n      <td>10514.0</td>\n      <td>10936.0</td>\n      <td>0</td>\n      <td>0</td>\n      <td>1220939</td>\n      <td>1220939</td>\n      <td>139170.0</td>\n      <td>2020</td>\n    </tr>\n    <tr>\n      <th>2</th>\n      <td>3</td>\n      <td>N</td>\n      <td>.</td>\n      <td>Barry</td>\n      <td>Alabama Power Co</td>\n      <td>195</td>\n      <td>AL</td>\n      <td>ESC</td>\n      <td>SERC</td>\n      <td>NaN</td>\n      <td>...</td>\n      <td>254351.0</td>\n      <td>220717.0</td>\n      <td>248068.0</td>\n      <td>227801.0</td>\n      <td>1219642</td>\n      <td>1219642</td>\n      <td>1243854</td>\n      <td>1243854</td>\n      <td>2633517.0</td>\n      <td>2020</td>\n    </tr>\n    <tr>\n      <th>3</th>\n      <td>3</td>\n      <td>N</td>\n      <td>.</td>\n      <td>Barry</td>\n      <td>Alabama Power Co</td>\n      <td>195</td>\n      <td>AL</td>\n      <td>ESC</td>\n      <td>SERC</td>\n      <td>NaN</td>\n      <td>...</td>\n      <td>486059.0</td>\n      <td>420338.0</td>\n      <td>483657.0</td>\n      <td>455550.0</td>\n      <td>52001418</td>\n      <td>52001418</td>\n      <td>53006762</td>\n      <td>53006762</td>\n      <td>5084350.0</td>\n      <td>2020</td>\n    </tr>\n    <tr>\n      <th>4</th>\n      <td>3</td>\n      <td>N</td>\n      <td>.</td>\n      <td>Barry</td>\n      <td>Alabama Power Co</td>\n      <td>195</td>\n      <td>AL</td>\n      <td>ESC</td>\n      <td>SERC</td>\n      <td>NaN</td>\n      <td>...</td>\n      <td>347191.0</td>\n      <td>424258.0</td>\n      <td>335570.0</td>\n      <td>144471.0</td>\n      <td>1292499</td>\n      <td>1292499</td>\n      <td>26188716</td>\n      <td>26188716</td>\n      <td>2625835.0</td>\n      <td>2020</td>\n    </tr>\n    <tr>\n      <th>...</th>\n      <td>...</td>\n      <td>...</td>\n      <td>...</td>\n      <td>...</td>\n      <td>...</td>\n      <td>...</td>\n      <td>...</td>\n      <td>...</td>\n      <td>...</td>\n      <td>...</td>\n      <td>...</td>\n      <td>...</td>\n      <td>...</td>\n      <td>...</td>\n      <td>...</td>\n      <td>...</td>\n      <td>...</td>\n      <td>...</td>\n      <td>...</td>\n      <td>...</td>\n      <td>...</td>\n    </tr>\n    <tr>\n      <th>15110</th>\n      <td>99999</td>\n      <td>N</td>\n      <td>.</td>\n      <td>State-Fuel Level Increment</td>\n      <td>State-Fuel Level Increment</td>\n      <td>99999</td>\n      <td>NV</td>\n      <td>MTN</td>\n      <td>NaN</td>\n      <td>NaN</td>\n      <td>...</td>\n      <td>0.0</td>\n      <td>0.0</td>\n      <td>0.0</td>\n      <td>0.0</td>\n      <td>0</td>\n      <td>0</td>\n      <td>279086</td>\n      <td>279086</td>\n      <td>31812.0</td>\n      <td>2020</td>\n    </tr>\n    <tr>\n      <th>15111</th>\n      <td>99999</td>\n      <td>N</td>\n      <td>.</td>\n      <td>State-Fuel Level Increment</td>\n      <td>State-Fuel Level Increment</td>\n      <td>99999</td>\n      <td>MD</td>\n      <td>SAT</td>\n      <td>NaN</td>\n      <td>NaN</td>\n      <td>...</td>\n      <td>0.0</td>\n      <td>0.0</td>\n      <td>0.0</td>\n      <td>0.0</td>\n      <td>0</td>\n      <td>0</td>\n      <td>76102</td>\n      <td>76102</td>\n      <td>8675.0</td>\n      <td>2020</td>\n    </tr>\n    <tr>\n      <th>15112</th>\n      <td>99999</td>\n      <td>N</td>\n      <td>.</td>\n      <td>State-Fuel Level Increment</td>\n      <td>State-Fuel Level Increment</td>\n      <td>99999</td>\n      <td>NH</td>\n      <td>NEW</td>\n      <td>NaN</td>\n      <td>NaN</td>\n      <td>...</td>\n      <td>0.0</td>\n      <td>0.0</td>\n      <td>0.0</td>\n      <td>0.0</td>\n      <td>0</td>\n      <td>0</td>\n      <td>84267</td>\n      <td>84267</td>\n      <td>9605.0</td>\n      <td>2020</td>\n    </tr>\n    <tr>\n      <th>15113</th>\n      <td>99999</td>\n      <td>N</td>\n      <td>.</td>\n      <td>State-Fuel Level Increment</td>\n      <td>State-Fuel Level Increment</td>\n      <td>99999</td>\n      <td>MA</td>\n      <td>NEW</td>\n      <td>NaN</td>\n      <td>NaN</td>\n      <td>...</td>\n      <td>0.0</td>\n      <td>0.0</td>\n      <td>0.0</td>\n      <td>0.0</td>\n      <td>0</td>\n      <td>0</td>\n      <td>6973</td>\n      <td>6973</td>\n      <td>795.0</td>\n      <td>2020</td>\n    </tr>\n    <tr>\n      <th>15114</th>\n      <td>99999</td>\n      <td>N</td>\n      <td>.</td>\n      <td>State-Fuel Level Increment</td>\n      <td>State-Fuel Level Increment</td>\n      <td>99999</td>\n      <td>ID</td>\n      <td>MTN</td>\n      <td>NaN</td>\n      <td>NaN</td>\n      <td>...</td>\n      <td>0.0</td>\n      <td>0.0</td>\n      <td>0.0</td>\n      <td>0.0</td>\n      <td>0</td>\n      <td>0</td>\n      <td>39234</td>\n      <td>39234</td>\n      <td>4472.0</td>\n      <td>2020</td>\n    </tr>\n  </tbody>\n</table>\n<p>15115 rows × 97 columns</p>\n</div>"
     },
     "execution_count": 4,
     "metadata": {},
     "output_type": "execute_result"
    }
   ],
   "source": [
    "# import turbines data\n",
    "\n",
    "operators = pd.read_csv('eia923_operators.csv')\n",
    "operators"
   ],
   "metadata": {
    "collapsed": false,
    "ExecuteTime": {
     "end_time": "2024-01-22T23:03:54.225691700Z",
     "start_time": "2024-01-22T23:03:54.026404100Z"
    }
   },
   "id": "b15dd44cddade9ef"
  },
  {
   "cell_type": "markdown",
   "source": [
    "# general info on each data frame\n",
    "* rows and cols\n",
    "* data type in each col"
   ],
   "metadata": {
    "collapsed": false
   },
   "id": "838a822aaa267e00"
  },
  {
   "cell_type": "code",
   "execution_count": 5,
   "outputs": [
    {
     "data": {
      "text/plain": "(70808, 27)"
     },
     "execution_count": 5,
     "metadata": {},
     "output_type": "execute_result"
    }
   ],
   "source": [
    "turbines.shape"
   ],
   "metadata": {
    "collapsed": false,
    "ExecuteTime": {
     "end_time": "2024-01-22T23:30:45.865461400Z",
     "start_time": "2024-01-22T23:30:45.820474500Z"
    }
   },
   "id": "68ee4d68212713cd"
  },
  {
   "cell_type": "code",
   "execution_count": 15,
   "outputs": [
    {
     "name": "stdout",
     "output_type": "stream",
     "text": [
      "<class 'pandas.core.frame.DataFrame'>\n",
      "RangeIndex: 70808 entries, 0 to 70807\n",
      "Data columns (total 27 columns):\n",
      " #   Column         Non-Null Count  Dtype  \n",
      "---  ------         --------------  -----  \n",
      " 0   case_id        70808 non-null  int64  \n",
      " 1   faa_ors        65016 non-null  object \n",
      " 2   faa_asn        65686 non-null  object \n",
      " 3   usgs_pr_id     38263 non-null  float64\n",
      " 4   eia_id         65015 non-null  float64\n",
      " 5   t_state        70808 non-null  object \n",
      " 6   t_county       70808 non-null  object \n",
      " 7   t_fips         70808 non-null  int64  \n",
      " 8   p_name         70808 non-null  object \n",
      " 9   p_year         70195 non-null  float64\n",
      " 10  p_tnum         70808 non-null  int64  \n",
      " 11  p_cap          66326 non-null  float64\n",
      " 12  t_manu         65168 non-null  object \n",
      " 13  t_model        65031 non-null  object \n",
      " 14  t_cap          65328 non-null  float64\n",
      " 15  t_hh           64628 non-null  float64\n",
      " 16  t_rd           64874 non-null  float64\n",
      " 17  t_rsa          64874 non-null  float64\n",
      " 18  t_ttlh         64628 non-null  float64\n",
      " 19  retrofit       70808 non-null  int64  \n",
      " 20  retrofit_year  5986 non-null   float64\n",
      " 21  t_conf_atr     70808 non-null  int64  \n",
      " 22  t_conf_loc     70808 non-null  int64  \n",
      " 23  t_img_date     62492 non-null  object \n",
      " 24  t_img_srce     70808 non-null  object \n",
      " 25  xlong          70808 non-null  float64\n",
      " 26  ylat           70808 non-null  float64\n",
      "dtypes: float64(12), int64(6), object(9)\n",
      "memory usage: 14.6+ MB\n"
     ]
    }
   ],
   "source": [
    "turbines.info()"
   ],
   "metadata": {
    "collapsed": false,
    "ExecuteTime": {
     "end_time": "2024-01-22T23:43:42.792713Z",
     "start_time": "2024-01-22T23:43:42.729259Z"
    }
   },
   "id": "844a0a2bbbe526b4"
  },
  {
   "cell_type": "code",
   "execution_count": 6,
   "outputs": [
    {
     "data": {
      "text/plain": "(15115, 97)"
     },
     "execution_count": 6,
     "metadata": {},
     "output_type": "execute_result"
    }
   ],
   "source": [
    "operators.shape"
   ],
   "metadata": {
    "collapsed": false,
    "ExecuteTime": {
     "end_time": "2024-01-22T23:30:52.453884200Z",
     "start_time": "2024-01-22T23:30:52.405899200Z"
    }
   },
   "id": "53c42e3722a65b4b"
  },
  {
   "cell_type": "code",
   "execution_count": 16,
   "outputs": [
    {
     "name": "stdout",
     "output_type": "stream",
     "text": [
      "<class 'pandas.core.frame.DataFrame'>\n",
      "RangeIndex: 15115 entries, 0 to 15114\n",
      "Data columns (total 97 columns):\n",
      " #   Column                              Non-Null Count  Dtype  \n",
      "---  ------                              --------------  -----  \n",
      " 0   plant_id                            15115 non-null  int64  \n",
      " 1   combined_heat_and_power_plant       15115 non-null  object \n",
      " 2   nuclear_unit_id                     15115 non-null  object \n",
      " 3   plant_name                          15114 non-null  object \n",
      " 4   operator_name                       15114 non-null  object \n",
      " 5   operator_id                         15115 non-null  object \n",
      " 6   plant_state                         15114 non-null  object \n",
      " 7   census_region                       15115 non-null  object \n",
      " 8   nerc_region                         14550 non-null  object \n",
      " 9   reserved                            0 non-null      float64\n",
      " 10  naics_code                          15115 non-null  int64  \n",
      " 11  eia_sector_number                   15115 non-null  int64  \n",
      " 12  sector_name                         15115 non-null  object \n",
      " 13  reported_prime_mover                15115 non-null  object \n",
      " 14  reported_fuel_type_code             15115 non-null  object \n",
      " 15  aer_fuel_type_code                  15115 non-null  object \n",
      " 16  balancing_authority_code            14724 non-null  object \n",
      " 17  respondent_frequency                14953 non-null  object \n",
      " 18  physical_unit_label                 8234 non-null   object \n",
      " 19  quantity_january                    15115 non-null  int64  \n",
      " 20  quantity_february                   15115 non-null  int64  \n",
      " 21  quantity_march                      15115 non-null  int64  \n",
      " 22  quantity_april                      15115 non-null  int64  \n",
      " 23  quantity_may                        15115 non-null  int64  \n",
      " 24  quantity_june                       15115 non-null  int64  \n",
      " 25  quantity_july                       15115 non-null  int64  \n",
      " 26  quantity_august                     15115 non-null  int64  \n",
      " 27  quantity_september                  15115 non-null  int64  \n",
      " 28  quantity_october                    15115 non-null  int64  \n",
      " 29  quantity_november                   15115 non-null  int64  \n",
      " 30  quantity_december                   15115 non-null  int64  \n",
      " 31  elec_quantity_january               15115 non-null  int64  \n",
      " 32  elec_quantity_february              15115 non-null  int64  \n",
      " 33  elec_quantity_march                 15115 non-null  int64  \n",
      " 34  elec_quantity_april                 15115 non-null  int64  \n",
      " 35  elec_quantity_may                   15115 non-null  int64  \n",
      " 36  elec_quantity_june                  15115 non-null  int64  \n",
      " 37  elec_quantity_july                  15115 non-null  int64  \n",
      " 38  elec_quantity_august                15115 non-null  int64  \n",
      " 39  elec_quantity_september             15115 non-null  int64  \n",
      " 40  elec_quantity_october               15115 non-null  int64  \n",
      " 41  elec_quantity_november              15115 non-null  int64  \n",
      " 42  elec_quantity_december              15115 non-null  int64  \n",
      " 43  mm_btu_per_unit_january             15115 non-null  float64\n",
      " 44  mm_btu_per_unit_february            15115 non-null  float64\n",
      " 45  mm_btu_per_unit_march               15115 non-null  float64\n",
      " 46  mm_btu_per_unit_april               15115 non-null  float64\n",
      " 47  mm_btu_per_unit_may                 15115 non-null  float64\n",
      " 48  mm_btu_per_unit_june                15115 non-null  float64\n",
      " 49  mm_btu_per_unit_july                15115 non-null  float64\n",
      " 50  mm_btu_per_unit_august              15115 non-null  float64\n",
      " 51  mm_btu_per_unit_september           15115 non-null  float64\n",
      " 52  mm_btu_per_unit_october             15115 non-null  float64\n",
      " 53  mm_btu_per_unit_november            15115 non-null  float64\n",
      " 54  mm_btu_per_unit_december            15115 non-null  float64\n",
      " 55  tot_mm_btu_january                  15115 non-null  int64  \n",
      " 56  tot_mm_btu_february                 15115 non-null  int64  \n",
      " 57  tot_mm_btu_march                    15115 non-null  int64  \n",
      " 58  tot_mm_btu_april                    15115 non-null  int64  \n",
      " 59  tot_mm_btu_may                      15115 non-null  int64  \n",
      " 60  tot_mm_btu_june                     15115 non-null  int64  \n",
      " 61  tot_mm_btu_july                     15115 non-null  int64  \n",
      " 62  tot_mm_btu_august                   15115 non-null  int64  \n",
      " 63  tot_mm_btu_september                15115 non-null  int64  \n",
      " 64  tot_mm_btu_october                  15115 non-null  int64  \n",
      " 65  tot_mm_btu_november                 15115 non-null  int64  \n",
      " 66  tot_mm_btu_december                 15115 non-null  int64  \n",
      " 67  elec_mm_btu_january                 15115 non-null  int64  \n",
      " 68  elec_mm_btu_february                15115 non-null  int64  \n",
      " 69  elec_mm_btu_march                   15115 non-null  int64  \n",
      " 70  elec_mm_btu_april                   15115 non-null  int64  \n",
      " 71  elec_mm_btu_may                     15115 non-null  int64  \n",
      " 72  elec_mm_btu_june                    15115 non-null  int64  \n",
      " 73  elec_mm_btu_july                    15115 non-null  int64  \n",
      " 74  elec_mm_btu_august                  15115 non-null  int64  \n",
      " 75  elec_mm_btu_september               15115 non-null  int64  \n",
      " 76  elec_mm_btu_october                 15115 non-null  int64  \n",
      " 77  elec_mm_btu_november                15115 non-null  int64  \n",
      " 78  elec_mm_btu_december                15115 non-null  int64  \n",
      " 79  netgen_january                      15115 non-null  float64\n",
      " 80  netgen_february                     15115 non-null  float64\n",
      " 81  netgen_march                        15115 non-null  float64\n",
      " 82  netgen_april                        15115 non-null  float64\n",
      " 83  netgen_may                          15115 non-null  float64\n",
      " 84  netgen_june                         15115 non-null  float64\n",
      " 85  netgen_july                         15115 non-null  float64\n",
      " 86  netgen_august                       15115 non-null  float64\n",
      " 87  netgen_september                    15115 non-null  float64\n",
      " 88  netgen_october                      15115 non-null  float64\n",
      " 89  netgen_november                     15115 non-null  float64\n",
      " 90  netgen_december                     15115 non-null  float64\n",
      " 91  total_fuel_consumption_quantity     15115 non-null  int64  \n",
      " 92  electric_fuel_consumption_quantity  15115 non-null  int64  \n",
      " 93  total_fuel_consumption_mm_btu       15115 non-null  int64  \n",
      " 94  elec_fuel_consumption_mm_btu        15115 non-null  int64  \n",
      " 95  net_generation_megawatthours        15115 non-null  float64\n",
      " 96  year                                15115 non-null  int64  \n",
      "dtypes: float64(26), int64(56), object(15)\n",
      "memory usage: 11.2+ MB\n"
     ]
    }
   ],
   "source": [
    "operators.info()"
   ],
   "metadata": {
    "collapsed": false,
    "ExecuteTime": {
     "end_time": "2024-01-22T23:47:59.651743900Z",
     "start_time": "2024-01-22T23:47:59.584720200Z"
    }
   },
   "id": "fbfaf9ea1df9a188"
  },
  {
   "cell_type": "markdown",
   "source": [
    "# count eia_id nulls"
   ],
   "metadata": {
    "collapsed": false
   },
   "id": "6b70644a4c16fce"
  },
  {
   "cell_type": "code",
   "execution_count": 10,
   "outputs": [
    {
     "name": "stdout",
     "output_type": "stream",
     "text": [
      "5793\n"
     ]
    }
   ],
   "source": [
    "# count nulls in eia_id\n",
    "eia_id_nulls = turbines['eia_id'].isnull().sum()\n",
    "print(eia_id_nulls)"
   ],
   "metadata": {
    "collapsed": false,
    "ExecuteTime": {
     "end_time": "2024-01-22T23:36:32.528186Z",
     "start_time": "2024-01-22T23:36:32.489480400Z"
    }
   },
   "id": "ff445bee62b91854"
  },
  {
   "cell_type": "code",
   "execution_count": 9,
   "outputs": [
    {
     "name": "stdout",
     "output_type": "stream",
     "text": [
      "0\n"
     ]
    }
   ],
   "source": [
    "# count values --> string \"NULL\" in eia_id\n",
    "# remember conditionals are in parentheses (      )\n",
    "eia_id_nulls_String = (turbines['eia_id'] == 'NULL').sum()\n",
    "print(eia_id_nulls_String)\n",
    "\n",
    "# there are no 'NULL' string values --> "
   ],
   "metadata": {
    "collapsed": false,
    "ExecuteTime": {
     "end_time": "2024-01-22T23:35:33.425750900Z",
     "start_time": "2024-01-22T23:35:33.392304500Z"
    }
   },
   "id": "4da8627f26078d27"
  },
  {
   "cell_type": "code",
   "execution_count": 14,
   "outputs": [
    {
     "data": {
      "text/plain": "8.1812789515309"
     },
     "execution_count": 14,
     "metadata": {},
     "output_type": "execute_result"
    }
   ],
   "source": [
    "# get percentage of nulls in eia_id\n",
    "\n",
    "percent_eia_nulls = eia_id_nulls / turbines.shape[0] * 100\n",
    "percent_eia_nulls"
   ],
   "metadata": {
    "collapsed": false,
    "ExecuteTime": {
     "end_time": "2024-01-22T23:40:16.731853800Z",
     "start_time": "2024-01-22T23:40:16.682928600Z"
    }
   },
   "id": "6df3f13cee9d44d2"
  },
  {
   "cell_type": "markdown",
   "source": [
    "8.18% nulls in eia_id"
   ],
   "metadata": {
    "collapsed": false
   },
   "id": "737bd7983aa10cf7"
  },
  {
   "cell_type": "markdown",
   "source": [
    "### are projects the same as plants?\n",
    "* ie is there only 1 plant_id per p_name (project name)\n",
    "* in turbines : group by p_name --> then do a count of plant_id ==> it should be 1 if they are the same.\n",
    "\n",
    "*Answer* --> no, not all of the p_names (turbines) have a corresponding plant_name (operators).  The names do not match.   "
   ],
   "metadata": {
    "collapsed": false
   },
   "id": "d75fc00be8040d51"
  },
  {
   "cell_type": "code",
   "execution_count": 18,
   "outputs": [
    {
     "name": "stdout",
     "output_type": "stream",
     "text": [
      "4535\n"
     ]
    }
   ],
   "source": [
    "# count 'unknown' in p_name\n",
    "\n",
    "p_name_unknown =  turbines['p_name'].str.contains('unknown', case=False).sum()\n",
    "print(p_name_unknown)\n",
    "\n",
    "# so there are less p_name unknowns than there are eia_id nulls\n",
    "\n",
    "# but it seems that even"
   ],
   "metadata": {
    "collapsed": false,
    "ExecuteTime": {
     "end_time": "2024-01-23T00:08:58.033696200Z",
     "start_time": "2024-01-23T00:08:57.974743400Z"
    }
   },
   "id": "fae6033ba9ea665"
  },
  {
   "cell_type": "code",
   "execution_count": 21,
   "outputs": [
    {
     "data": {
      "text/plain": "p_name\nunknown Tehachapi Wind Resource Area 1        713\nStateline Wind Project                        454\nMesa Wind Farm                                432\nunknown Torrance County                       355\nMojave 16, 17 & 18 (Desertwind III PPC Tru    288\n                                             ... \nTeichert Aggregates                             1\nGobNob                                          1\nBTI Wind                                        1\nBrookfield Tehachapi 3                          1\nunknown Lyon County                             1\nName: count, Length: 1708, dtype: int64"
     },
     "execution_count": 21,
     "metadata": {},
     "output_type": "execute_result"
    }
   ],
   "source": [
    "turbines_unique_p_name = turbines['p_name'].value_counts()\n",
    "turbines_unique_p_name\n",
    "\n",
    "# 1708 unique project names"
   ],
   "metadata": {
    "collapsed": false,
    "ExecuteTime": {
     "end_time": "2024-01-23T00:21:49.879250200Z",
     "start_time": "2024-01-23T00:21:49.832979Z"
    }
   },
   "id": "1217fafadbcb547c"
  },
  {
   "cell_type": "code",
   "execution_count": 23,
   "outputs": [
    {
     "data": {
      "text/plain": "plant_name\nState-Fuel Level Increment       162\nMansfield Mill                    11\nHaynes                            11\nSt Clair                          11\nParadise                          10\n                                ... \nWWRF Solar Plant                   1\nPanther Creek Wind Farm II         1\nPanther Creek Wind Farm I          1\nFPL Energy Ashtabula Wind LLC      1\nEQX005.0 Toyama Fuel Cell          1\nName: count, Length: 10448, dtype: int64"
     },
     "execution_count": 23,
     "metadata": {},
     "output_type": "execute_result"
    }
   ],
   "source": [
    "operators_unique_plant_name = operators['plant_name'].value_counts()\n",
    "operators_unique_plant_name"
   ],
   "metadata": {
    "collapsed": false,
    "ExecuteTime": {
     "end_time": "2024-01-23T00:22:17.462976800Z",
     "start_time": "2024-01-23T00:22:17.418681800Z"
    }
   },
   "id": "553daceeb8188d65"
  },
  {
   "cell_type": "code",
   "execution_count": 24,
   "outputs": [
    {
     "data": {
      "text/plain": "       case_id    faa_ors           faa_asn  usgs_pr_id   eia_id t_state  \\\n0      3000001        NaN               NaN      6569.0  54686.0      CA   \n2      3000008        NaN               NaN      3463.0  10597.0      CA   \n3      3000016        NaN               NaN     15543.0  50535.0      CA   \n5      3000025        NaN               NaN     12159.0  10005.0      CA   \n8      3000039        NaN               NaN     15579.0  50535.0      CA   \n...        ...        ...               ...         ...      ...     ...   \n70626  3117926  40-003040  2020-WTW-1408-OE         NaN  56335.0      OK   \n70639  3117954  27-002696  2020-WTE-1999-OE         NaN  56424.0      MN   \n70682  3118028  36-020197  2019-WTE-8213-OE         NaN  56575.0      NY   \n70760  3118173  04-020391   2020-WTW-850-OE         NaN  58155.0      AZ   \n70773  3118363  19-022438               NaN         NaN  57875.0      IA   \n\n               t_county  t_fips          p_name  p_year  ...    t_rsa  t_ttlh  \\\n0           Kern County    6029       Difwind 6  1987.0  ...      NaN     NaN   \n2           Kern County    6029        Ridgetop  1985.0  ...      NaN     NaN   \n3      Riverside County    6065  Mesa Wind Farm  1983.0  ...   183.85    30.4   \n5         Merced County    6047  Dinosaur Point  1988.0  ...      NaN     NaN   \n8      Riverside County    6065  Mesa Wind Farm  1983.0  ...   183.85    30.4   \n...                 ...     ...             ...     ...  ...      ...     ...   \n70626      Kiowa County   40075  Blue Canyon II  2005.0  ...  5026.55   107.0   \n70639      Mower County   27099    Mower County  2006.0  ...  9160.88   134.0   \n70682       Erie County   36029     Steel Winds  2007.0  ...  6792.91   126.5   \n70760   Coconino County    4005    Perrin Ranch  2012.0  ...  5345.62   121.3   \n70773      Adair County   19001   Morning Light  2012.0  ...  9160.88   134.1   \n\n      retrofit retrofit_year  t_conf_atr  t_conf_loc  t_img_date  \\\n0            0           NaN           1           3  2018-11-03   \n2            0           NaN           1           3  2018-05-08   \n3            0           NaN           3           3  2018-11-03   \n5            0           NaN           1           3  2018-09-19   \n8            0           NaN           3           3  2018-11-03   \n...        ...           ...         ...         ...         ...   \n70626        0           NaN           3           3  2021-10-06   \n70639        1        2020.0           2           3  2020-07-31   \n70682        0           NaN           3           3  2021-11-24   \n70760        0           NaN           3           3  2019-10-20   \n70773        0           NaN           2           3  2020-08-18   \n\n          t_img_srce       xlong       ylat  \n0      Digital Globe -118.270027  35.066048  \n2      Digital Globe -118.302780  35.078526  \n3      Digital Globe -116.652931  33.954193  \n5      Digital Globe -121.170876  37.035725  \n8      Digital Globe -116.658089  33.958694  \n...              ...         ...        ...  \n70626  Digital Globe  -98.642632  34.884048  \n70639  Digital Globe  -92.654350  43.566082  \n70682  Digital Globe  -78.864914  42.813736  \n70760  Digital Globe -112.296204  35.417610  \n70773  Digital Globe  -94.574005  41.401367  \n\n[65015 rows x 27 columns]",
      "text/html": "<div>\n<style scoped>\n    .dataframe tbody tr th:only-of-type {\n        vertical-align: middle;\n    }\n\n    .dataframe tbody tr th {\n        vertical-align: top;\n    }\n\n    .dataframe thead th {\n        text-align: right;\n    }\n</style>\n<table border=\"1\" class=\"dataframe\">\n  <thead>\n    <tr style=\"text-align: right;\">\n      <th></th>\n      <th>case_id</th>\n      <th>faa_ors</th>\n      <th>faa_asn</th>\n      <th>usgs_pr_id</th>\n      <th>eia_id</th>\n      <th>t_state</th>\n      <th>t_county</th>\n      <th>t_fips</th>\n      <th>p_name</th>\n      <th>p_year</th>\n      <th>...</th>\n      <th>t_rsa</th>\n      <th>t_ttlh</th>\n      <th>retrofit</th>\n      <th>retrofit_year</th>\n      <th>t_conf_atr</th>\n      <th>t_conf_loc</th>\n      <th>t_img_date</th>\n      <th>t_img_srce</th>\n      <th>xlong</th>\n      <th>ylat</th>\n    </tr>\n  </thead>\n  <tbody>\n    <tr>\n      <th>0</th>\n      <td>3000001</td>\n      <td>NaN</td>\n      <td>NaN</td>\n      <td>6569.0</td>\n      <td>54686.0</td>\n      <td>CA</td>\n      <td>Kern County</td>\n      <td>6029</td>\n      <td>Difwind 6</td>\n      <td>1987.0</td>\n      <td>...</td>\n      <td>NaN</td>\n      <td>NaN</td>\n      <td>0</td>\n      <td>NaN</td>\n      <td>1</td>\n      <td>3</td>\n      <td>2018-11-03</td>\n      <td>Digital Globe</td>\n      <td>-118.270027</td>\n      <td>35.066048</td>\n    </tr>\n    <tr>\n      <th>2</th>\n      <td>3000008</td>\n      <td>NaN</td>\n      <td>NaN</td>\n      <td>3463.0</td>\n      <td>10597.0</td>\n      <td>CA</td>\n      <td>Kern County</td>\n      <td>6029</td>\n      <td>Ridgetop</td>\n      <td>1985.0</td>\n      <td>...</td>\n      <td>NaN</td>\n      <td>NaN</td>\n      <td>0</td>\n      <td>NaN</td>\n      <td>1</td>\n      <td>3</td>\n      <td>2018-05-08</td>\n      <td>Digital Globe</td>\n      <td>-118.302780</td>\n      <td>35.078526</td>\n    </tr>\n    <tr>\n      <th>3</th>\n      <td>3000016</td>\n      <td>NaN</td>\n      <td>NaN</td>\n      <td>15543.0</td>\n      <td>50535.0</td>\n      <td>CA</td>\n      <td>Riverside County</td>\n      <td>6065</td>\n      <td>Mesa Wind Farm</td>\n      <td>1983.0</td>\n      <td>...</td>\n      <td>183.85</td>\n      <td>30.4</td>\n      <td>0</td>\n      <td>NaN</td>\n      <td>3</td>\n      <td>3</td>\n      <td>2018-11-03</td>\n      <td>Digital Globe</td>\n      <td>-116.652931</td>\n      <td>33.954193</td>\n    </tr>\n    <tr>\n      <th>5</th>\n      <td>3000025</td>\n      <td>NaN</td>\n      <td>NaN</td>\n      <td>12159.0</td>\n      <td>10005.0</td>\n      <td>CA</td>\n      <td>Merced County</td>\n      <td>6047</td>\n      <td>Dinosaur Point</td>\n      <td>1988.0</td>\n      <td>...</td>\n      <td>NaN</td>\n      <td>NaN</td>\n      <td>0</td>\n      <td>NaN</td>\n      <td>1</td>\n      <td>3</td>\n      <td>2018-09-19</td>\n      <td>Digital Globe</td>\n      <td>-121.170876</td>\n      <td>37.035725</td>\n    </tr>\n    <tr>\n      <th>8</th>\n      <td>3000039</td>\n      <td>NaN</td>\n      <td>NaN</td>\n      <td>15579.0</td>\n      <td>50535.0</td>\n      <td>CA</td>\n      <td>Riverside County</td>\n      <td>6065</td>\n      <td>Mesa Wind Farm</td>\n      <td>1983.0</td>\n      <td>...</td>\n      <td>183.85</td>\n      <td>30.4</td>\n      <td>0</td>\n      <td>NaN</td>\n      <td>3</td>\n      <td>3</td>\n      <td>2018-11-03</td>\n      <td>Digital Globe</td>\n      <td>-116.658089</td>\n      <td>33.958694</td>\n    </tr>\n    <tr>\n      <th>...</th>\n      <td>...</td>\n      <td>...</td>\n      <td>...</td>\n      <td>...</td>\n      <td>...</td>\n      <td>...</td>\n      <td>...</td>\n      <td>...</td>\n      <td>...</td>\n      <td>...</td>\n      <td>...</td>\n      <td>...</td>\n      <td>...</td>\n      <td>...</td>\n      <td>...</td>\n      <td>...</td>\n      <td>...</td>\n      <td>...</td>\n      <td>...</td>\n      <td>...</td>\n      <td>...</td>\n    </tr>\n    <tr>\n      <th>70626</th>\n      <td>3117926</td>\n      <td>40-003040</td>\n      <td>2020-WTW-1408-OE</td>\n      <td>NaN</td>\n      <td>56335.0</td>\n      <td>OK</td>\n      <td>Kiowa County</td>\n      <td>40075</td>\n      <td>Blue Canyon II</td>\n      <td>2005.0</td>\n      <td>...</td>\n      <td>5026.55</td>\n      <td>107.0</td>\n      <td>0</td>\n      <td>NaN</td>\n      <td>3</td>\n      <td>3</td>\n      <td>2021-10-06</td>\n      <td>Digital Globe</td>\n      <td>-98.642632</td>\n      <td>34.884048</td>\n    </tr>\n    <tr>\n      <th>70639</th>\n      <td>3117954</td>\n      <td>27-002696</td>\n      <td>2020-WTE-1999-OE</td>\n      <td>NaN</td>\n      <td>56424.0</td>\n      <td>MN</td>\n      <td>Mower County</td>\n      <td>27099</td>\n      <td>Mower County</td>\n      <td>2006.0</td>\n      <td>...</td>\n      <td>9160.88</td>\n      <td>134.0</td>\n      <td>1</td>\n      <td>2020.0</td>\n      <td>2</td>\n      <td>3</td>\n      <td>2020-07-31</td>\n      <td>Digital Globe</td>\n      <td>-92.654350</td>\n      <td>43.566082</td>\n    </tr>\n    <tr>\n      <th>70682</th>\n      <td>3118028</td>\n      <td>36-020197</td>\n      <td>2019-WTE-8213-OE</td>\n      <td>NaN</td>\n      <td>56575.0</td>\n      <td>NY</td>\n      <td>Erie County</td>\n      <td>36029</td>\n      <td>Steel Winds</td>\n      <td>2007.0</td>\n      <td>...</td>\n      <td>6792.91</td>\n      <td>126.5</td>\n      <td>0</td>\n      <td>NaN</td>\n      <td>3</td>\n      <td>3</td>\n      <td>2021-11-24</td>\n      <td>Digital Globe</td>\n      <td>-78.864914</td>\n      <td>42.813736</td>\n    </tr>\n    <tr>\n      <th>70760</th>\n      <td>3118173</td>\n      <td>04-020391</td>\n      <td>2020-WTW-850-OE</td>\n      <td>NaN</td>\n      <td>58155.0</td>\n      <td>AZ</td>\n      <td>Coconino County</td>\n      <td>4005</td>\n      <td>Perrin Ranch</td>\n      <td>2012.0</td>\n      <td>...</td>\n      <td>5345.62</td>\n      <td>121.3</td>\n      <td>0</td>\n      <td>NaN</td>\n      <td>3</td>\n      <td>3</td>\n      <td>2019-10-20</td>\n      <td>Digital Globe</td>\n      <td>-112.296204</td>\n      <td>35.417610</td>\n    </tr>\n    <tr>\n      <th>70773</th>\n      <td>3118363</td>\n      <td>19-022438</td>\n      <td>NaN</td>\n      <td>NaN</td>\n      <td>57875.0</td>\n      <td>IA</td>\n      <td>Adair County</td>\n      <td>19001</td>\n      <td>Morning Light</td>\n      <td>2012.0</td>\n      <td>...</td>\n      <td>9160.88</td>\n      <td>134.1</td>\n      <td>0</td>\n      <td>NaN</td>\n      <td>2</td>\n      <td>3</td>\n      <td>2020-08-18</td>\n      <td>Digital Globe</td>\n      <td>-94.574005</td>\n      <td>41.401367</td>\n    </tr>\n  </tbody>\n</table>\n<p>65015 rows × 27 columns</p>\n</div>"
     },
     "execution_count": 24,
     "metadata": {},
     "output_type": "execute_result"
    }
   ],
   "source": [
    "# create data frame with eia_id null rows removed\n",
    "turbines_nullRem = turbines.dropna(subset=['eia_id']).copy()\n",
    "turbines_nullRem"
   ],
   "metadata": {
    "collapsed": false,
    "ExecuteTime": {
     "end_time": "2024-01-23T00:28:04.603722500Z",
     "start_time": "2024-01-23T00:28:04.519619300Z"
    }
   },
   "id": "e54a2afabfa3f118"
  },
  {
   "cell_type": "code",
   "execution_count": 26,
   "outputs": [],
   "source": [
    "# rename column eia_id to plant_id\n",
    "turbines_nullRem = turbines_nullRem.rename(columns={'eia_id': 'plant_id'})"
   ],
   "metadata": {
    "collapsed": false,
    "ExecuteTime": {
     "end_time": "2024-01-23T00:42:05.034444600Z",
     "start_time": "2024-01-23T00:42:04.994969600Z"
    }
   },
   "id": "d0969ddec18714a9"
  },
  {
   "cell_type": "code",
   "execution_count": 25,
   "outputs": [
    {
     "data": {
      "text/plain": "       case_id faa_ors faa_asn  usgs_pr_id  eia_id t_state  \\\n1      3000003     NaN     NaN      3100.0     NaN      CA   \n4      3000020     NaN     NaN      1944.0     NaN      AK   \n6      3000026     NaN     NaN      6696.0     NaN      CA   \n7      3000034     NaN     NaN      5183.0     NaN      CA   \n9      3000053     NaN     NaN      6912.0     NaN      CA   \n...        ...     ...     ...         ...     ...     ...   \n70803  3118667     NaN     NaN         NaN     NaN      NM   \n70804  3118668     NaN     NaN         NaN     NaN      NM   \n70805  3118669     NaN     NaN         NaN     NaN      NM   \n70806  3118670     NaN     NaN         NaN     NaN      NM   \n70807  3118671     NaN     NaN         NaN     NaN      NM   \n\n                 t_county  t_fips                                  p_name  \\\n1             Kern County    6029  unknown Tehachapi Wind Resource Area 1   \n4      Bethel Census Area    2050                             Tuntutuliak   \n6             Kern County    6029  unknown Tehachapi Wind Resource Area 1   \n7             Kern County    6029  unknown Tehachapi Wind Resource Area 1   \n9             Kern County    6029  unknown Tehachapi Wind Resource Area 1   \n...                   ...     ...                                     ...   \n70803       Catron County   35003                   unknown Catron County   \n70804       Catron County   35003                   unknown Catron County   \n70805       Catron County   35003                   unknown Catron County   \n70806       Catron County   35003                   unknown Catron County   \n70807     Torrance County   35057                 unknown Torrance County   \n\n       p_year  ...   t_rsa  t_ttlh retrofit retrofit_year  t_conf_atr  \\\n1      1982.0  ...     NaN     NaN        0           NaN           1   \n4      2012.0  ...  226.98    39.5        0           NaN           3   \n6      1982.0  ...     NaN     NaN        0           NaN           1   \n7      1982.0  ...     NaN     NaN        0           NaN           1   \n9      1982.0  ...     NaN     NaN        0           NaN           1   \n...       ...  ...     ...     ...      ...           ...         ...   \n70803     NaN  ...     NaN     NaN        0           NaN           1   \n70804     NaN  ...     NaN     NaN        0           NaN           1   \n70805     NaN  ...     NaN     NaN        0           NaN           1   \n70806     NaN  ...     NaN     NaN        0           NaN           1   \n70807     NaN  ...     NaN     NaN        0           NaN           1   \n\n       t_conf_loc  t_img_date     t_img_srce       xlong       ylat  \n1               3  2018-11-03  Digital Globe -118.299385  35.044796  \n4               3  2020-05-19  Digital Globe -162.661880  60.336800  \n6               3  2018-11-03  Digital Globe -118.267090  35.072395  \n7               3  2018-05-08  Digital Globe -118.370842  35.073112  \n9               3  2018-10-28  Digital Globe -118.253685  35.079994  \n...           ...         ...            ...         ...        ...  \n70803           3  2021-12-02  Digital Globe -108.901253  34.164696  \n70804           3  2021-12-02  Digital Globe -108.907745  34.103058  \n70805           3  2021-12-02  Digital Globe -108.915382  34.110283  \n70806           3  2021-12-02  Digital Globe -108.869209  34.157585  \n70807           3  2021-12-05  Digital Globe -105.590172  34.613602  \n\n[5793 rows x 27 columns]",
      "text/html": "<div>\n<style scoped>\n    .dataframe tbody tr th:only-of-type {\n        vertical-align: middle;\n    }\n\n    .dataframe tbody tr th {\n        vertical-align: top;\n    }\n\n    .dataframe thead th {\n        text-align: right;\n    }\n</style>\n<table border=\"1\" class=\"dataframe\">\n  <thead>\n    <tr style=\"text-align: right;\">\n      <th></th>\n      <th>case_id</th>\n      <th>faa_ors</th>\n      <th>faa_asn</th>\n      <th>usgs_pr_id</th>\n      <th>eia_id</th>\n      <th>t_state</th>\n      <th>t_county</th>\n      <th>t_fips</th>\n      <th>p_name</th>\n      <th>p_year</th>\n      <th>...</th>\n      <th>t_rsa</th>\n      <th>t_ttlh</th>\n      <th>retrofit</th>\n      <th>retrofit_year</th>\n      <th>t_conf_atr</th>\n      <th>t_conf_loc</th>\n      <th>t_img_date</th>\n      <th>t_img_srce</th>\n      <th>xlong</th>\n      <th>ylat</th>\n    </tr>\n  </thead>\n  <tbody>\n    <tr>\n      <th>1</th>\n      <td>3000003</td>\n      <td>NaN</td>\n      <td>NaN</td>\n      <td>3100.0</td>\n      <td>NaN</td>\n      <td>CA</td>\n      <td>Kern County</td>\n      <td>6029</td>\n      <td>unknown Tehachapi Wind Resource Area 1</td>\n      <td>1982.0</td>\n      <td>...</td>\n      <td>NaN</td>\n      <td>NaN</td>\n      <td>0</td>\n      <td>NaN</td>\n      <td>1</td>\n      <td>3</td>\n      <td>2018-11-03</td>\n      <td>Digital Globe</td>\n      <td>-118.299385</td>\n      <td>35.044796</td>\n    </tr>\n    <tr>\n      <th>4</th>\n      <td>3000020</td>\n      <td>NaN</td>\n      <td>NaN</td>\n      <td>1944.0</td>\n      <td>NaN</td>\n      <td>AK</td>\n      <td>Bethel Census Area</td>\n      <td>2050</td>\n      <td>Tuntutuliak</td>\n      <td>2012.0</td>\n      <td>...</td>\n      <td>226.98</td>\n      <td>39.5</td>\n      <td>0</td>\n      <td>NaN</td>\n      <td>3</td>\n      <td>3</td>\n      <td>2020-05-19</td>\n      <td>Digital Globe</td>\n      <td>-162.661880</td>\n      <td>60.336800</td>\n    </tr>\n    <tr>\n      <th>6</th>\n      <td>3000026</td>\n      <td>NaN</td>\n      <td>NaN</td>\n      <td>6696.0</td>\n      <td>NaN</td>\n      <td>CA</td>\n      <td>Kern County</td>\n      <td>6029</td>\n      <td>unknown Tehachapi Wind Resource Area 1</td>\n      <td>1982.0</td>\n      <td>...</td>\n      <td>NaN</td>\n      <td>NaN</td>\n      <td>0</td>\n      <td>NaN</td>\n      <td>1</td>\n      <td>3</td>\n      <td>2018-11-03</td>\n      <td>Digital Globe</td>\n      <td>-118.267090</td>\n      <td>35.072395</td>\n    </tr>\n    <tr>\n      <th>7</th>\n      <td>3000034</td>\n      <td>NaN</td>\n      <td>NaN</td>\n      <td>5183.0</td>\n      <td>NaN</td>\n      <td>CA</td>\n      <td>Kern County</td>\n      <td>6029</td>\n      <td>unknown Tehachapi Wind Resource Area 1</td>\n      <td>1982.0</td>\n      <td>...</td>\n      <td>NaN</td>\n      <td>NaN</td>\n      <td>0</td>\n      <td>NaN</td>\n      <td>1</td>\n      <td>3</td>\n      <td>2018-05-08</td>\n      <td>Digital Globe</td>\n      <td>-118.370842</td>\n      <td>35.073112</td>\n    </tr>\n    <tr>\n      <th>9</th>\n      <td>3000053</td>\n      <td>NaN</td>\n      <td>NaN</td>\n      <td>6912.0</td>\n      <td>NaN</td>\n      <td>CA</td>\n      <td>Kern County</td>\n      <td>6029</td>\n      <td>unknown Tehachapi Wind Resource Area 1</td>\n      <td>1982.0</td>\n      <td>...</td>\n      <td>NaN</td>\n      <td>NaN</td>\n      <td>0</td>\n      <td>NaN</td>\n      <td>1</td>\n      <td>3</td>\n      <td>2018-10-28</td>\n      <td>Digital Globe</td>\n      <td>-118.253685</td>\n      <td>35.079994</td>\n    </tr>\n    <tr>\n      <th>...</th>\n      <td>...</td>\n      <td>...</td>\n      <td>...</td>\n      <td>...</td>\n      <td>...</td>\n      <td>...</td>\n      <td>...</td>\n      <td>...</td>\n      <td>...</td>\n      <td>...</td>\n      <td>...</td>\n      <td>...</td>\n      <td>...</td>\n      <td>...</td>\n      <td>...</td>\n      <td>...</td>\n      <td>...</td>\n      <td>...</td>\n      <td>...</td>\n      <td>...</td>\n      <td>...</td>\n    </tr>\n    <tr>\n      <th>70803</th>\n      <td>3118667</td>\n      <td>NaN</td>\n      <td>NaN</td>\n      <td>NaN</td>\n      <td>NaN</td>\n      <td>NM</td>\n      <td>Catron County</td>\n      <td>35003</td>\n      <td>unknown Catron County</td>\n      <td>NaN</td>\n      <td>...</td>\n      <td>NaN</td>\n      <td>NaN</td>\n      <td>0</td>\n      <td>NaN</td>\n      <td>1</td>\n      <td>3</td>\n      <td>2021-12-02</td>\n      <td>Digital Globe</td>\n      <td>-108.901253</td>\n      <td>34.164696</td>\n    </tr>\n    <tr>\n      <th>70804</th>\n      <td>3118668</td>\n      <td>NaN</td>\n      <td>NaN</td>\n      <td>NaN</td>\n      <td>NaN</td>\n      <td>NM</td>\n      <td>Catron County</td>\n      <td>35003</td>\n      <td>unknown Catron County</td>\n      <td>NaN</td>\n      <td>...</td>\n      <td>NaN</td>\n      <td>NaN</td>\n      <td>0</td>\n      <td>NaN</td>\n      <td>1</td>\n      <td>3</td>\n      <td>2021-12-02</td>\n      <td>Digital Globe</td>\n      <td>-108.907745</td>\n      <td>34.103058</td>\n    </tr>\n    <tr>\n      <th>70805</th>\n      <td>3118669</td>\n      <td>NaN</td>\n      <td>NaN</td>\n      <td>NaN</td>\n      <td>NaN</td>\n      <td>NM</td>\n      <td>Catron County</td>\n      <td>35003</td>\n      <td>unknown Catron County</td>\n      <td>NaN</td>\n      <td>...</td>\n      <td>NaN</td>\n      <td>NaN</td>\n      <td>0</td>\n      <td>NaN</td>\n      <td>1</td>\n      <td>3</td>\n      <td>2021-12-02</td>\n      <td>Digital Globe</td>\n      <td>-108.915382</td>\n      <td>34.110283</td>\n    </tr>\n    <tr>\n      <th>70806</th>\n      <td>3118670</td>\n      <td>NaN</td>\n      <td>NaN</td>\n      <td>NaN</td>\n      <td>NaN</td>\n      <td>NM</td>\n      <td>Catron County</td>\n      <td>35003</td>\n      <td>unknown Catron County</td>\n      <td>NaN</td>\n      <td>...</td>\n      <td>NaN</td>\n      <td>NaN</td>\n      <td>0</td>\n      <td>NaN</td>\n      <td>1</td>\n      <td>3</td>\n      <td>2021-12-02</td>\n      <td>Digital Globe</td>\n      <td>-108.869209</td>\n      <td>34.157585</td>\n    </tr>\n    <tr>\n      <th>70807</th>\n      <td>3118671</td>\n      <td>NaN</td>\n      <td>NaN</td>\n      <td>NaN</td>\n      <td>NaN</td>\n      <td>NM</td>\n      <td>Torrance County</td>\n      <td>35057</td>\n      <td>unknown Torrance County</td>\n      <td>NaN</td>\n      <td>...</td>\n      <td>NaN</td>\n      <td>NaN</td>\n      <td>0</td>\n      <td>NaN</td>\n      <td>1</td>\n      <td>3</td>\n      <td>2021-12-05</td>\n      <td>Digital Globe</td>\n      <td>-105.590172</td>\n      <td>34.613602</td>\n    </tr>\n  </tbody>\n</table>\n<p>5793 rows × 27 columns</p>\n</div>"
     },
     "execution_count": 25,
     "metadata": {},
     "output_type": "execute_result"
    }
   ],
   "source": [
    "# create data frame with the removed rows from the step above\n",
    "# ie rows with a null eia\n",
    "# we will use p_name --> project name to join these to operators df\n",
    "\n",
    "turbines_null_eia = turbines[turbines['eia_id'].isnull()].copy()\n",
    "turbines_null_eia"
   ],
   "metadata": {
    "collapsed": false,
    "ExecuteTime": {
     "end_time": "2024-01-23T00:30:21.344153400Z",
     "start_time": "2024-01-23T00:30:21.260569Z"
    }
   },
   "id": "19bed99d7c9384e"
  },
  {
   "cell_type": "code",
   "execution_count": null,
   "outputs": [],
   "source": [],
   "metadata": {
    "collapsed": false
   },
   "id": "751065d82d7d3f95"
  },
  {
   "cell_type": "markdown",
   "source": [
    "# join .csv data\n",
    "* join on LHS table:  (turbines) --> plant_id  = plant identification number\n",
    "* join on RHS table:  (operators) --> plant_id\n"
   ],
   "metadata": {
    "collapsed": false
   },
   "id": "eac1cb21eb63f1c4"
  },
  {
   "cell_type": "code",
   "execution_count": 27,
   "outputs": [],
   "source": [
    "# rename turbines['eia_id'] --> turbines['plant_id']\n",
    "turbines = turbines.rename(columns={'eia_id': 'plant_id'})\n"
   ],
   "metadata": {
    "collapsed": false,
    "ExecuteTime": {
     "end_time": "2024-01-23T00:53:53.126739700Z",
     "start_time": "2024-01-23T00:53:53.079158800Z"
    }
   },
   "id": "c0dbb5c11c2f0799"
  },
  {
   "cell_type": "code",
   "execution_count": 29,
   "outputs": [
    {
     "data": {
      "text/plain": "       case_id faa_ors faa_asn  usgs_pr_id  plant_id t_state  \\\n0      3000001     NaN     NaN      6569.0   54686.0      CA   \n1      3000003     NaN     NaN      3100.0       NaN      CA   \n2      3000008     NaN     NaN      3463.0   10597.0      CA   \n3      3000016     NaN     NaN     15543.0   50535.0      CA   \n4      3000020     NaN     NaN      1944.0       NaN      AK   \n...        ...     ...     ...         ...       ...     ...   \n71820  3118667     NaN     NaN         NaN       NaN      NM   \n71821  3118668     NaN     NaN         NaN       NaN      NM   \n71822  3118669     NaN     NaN         NaN       NaN      NM   \n71823  3118670     NaN     NaN         NaN       NaN      NM   \n71824  3118671     NaN     NaN         NaN       NaN      NM   \n\n                 t_county  t_fips                                  p_name  \\\n0             Kern County    6029                               Difwind 6   \n1             Kern County    6029  unknown Tehachapi Wind Resource Area 1   \n2             Kern County    6029                                Ridgetop   \n3        Riverside County    6065                          Mesa Wind Farm   \n4      Bethel Census Area    2050                             Tuntutuliak   \n...                   ...     ...                                     ...   \n71820       Catron County   35003                   unknown Catron County   \n71821       Catron County   35003                   unknown Catron County   \n71822       Catron County   35003                   unknown Catron County   \n71823       Catron County   35003                   unknown Catron County   \n71824     Torrance County   35057                 unknown Torrance County   \n\n       p_year  ...  netgen_september  netgen_october netgen_november  \\\n0      1987.0  ...            1441.0          1570.0          1202.0   \n1      1982.0  ...               NaN             NaN             NaN   \n2      1985.0  ...            2317.0          2525.0          1932.0   \n3      1983.0  ...              48.0            52.0            40.0   \n4      2012.0  ...               NaN             NaN             NaN   \n...       ...  ...               ...             ...             ...   \n71820     NaN  ...               NaN             NaN             NaN   \n71821     NaN  ...               NaN             NaN             NaN   \n71822     NaN  ...               NaN             NaN             NaN   \n71823     NaN  ...               NaN             NaN             NaN   \n71824     NaN  ...               NaN             NaN             NaN   \n\n      netgen_december  total_fuel_consumption_quantity  \\\n0              1180.0                              0.0   \n1                 NaN                              NaN   \n2              1897.0                              0.0   \n3                39.0                              0.0   \n4                 NaN                              NaN   \n...               ...                              ...   \n71820             NaN                              NaN   \n71821             NaN                              NaN   \n71822             NaN                              NaN   \n71823             NaN                              NaN   \n71824             NaN                              NaN   \n\n       electric_fuel_consumption_quantity  total_fuel_consumption_mm_btu  \\\n0                                     0.0                       215326.0   \n1                                     NaN                            NaN   \n2                                     0.0                       346165.0   \n3                                     0.0                         7124.0   \n4                                     NaN                            NaN   \n...                                   ...                            ...   \n71820                                 NaN                            NaN   \n71821                                 NaN                            NaN   \n71822                                 NaN                            NaN   \n71823                                 NaN                            NaN   \n71824                                 NaN                            NaN   \n\n       elec_fuel_consumption_mm_btu  net_generation_megawatthours    year  \n0                          215326.0                       24544.0  2020.0  \n1                               NaN                           NaN     NaN  \n2                          346165.0                       39458.0  2020.0  \n3                            7124.0                         812.0  2020.0  \n4                               NaN                           NaN     NaN  \n...                             ...                           ...     ...  \n71820                           NaN                           NaN     NaN  \n71821                           NaN                           NaN     NaN  \n71822                           NaN                           NaN     NaN  \n71823                           NaN                           NaN     NaN  \n71824                           NaN                           NaN     NaN  \n\n[71825 rows x 123 columns]",
      "text/html": "<div>\n<style scoped>\n    .dataframe tbody tr th:only-of-type {\n        vertical-align: middle;\n    }\n\n    .dataframe tbody tr th {\n        vertical-align: top;\n    }\n\n    .dataframe thead th {\n        text-align: right;\n    }\n</style>\n<table border=\"1\" class=\"dataframe\">\n  <thead>\n    <tr style=\"text-align: right;\">\n      <th></th>\n      <th>case_id</th>\n      <th>faa_ors</th>\n      <th>faa_asn</th>\n      <th>usgs_pr_id</th>\n      <th>plant_id</th>\n      <th>t_state</th>\n      <th>t_county</th>\n      <th>t_fips</th>\n      <th>p_name</th>\n      <th>p_year</th>\n      <th>...</th>\n      <th>netgen_september</th>\n      <th>netgen_october</th>\n      <th>netgen_november</th>\n      <th>netgen_december</th>\n      <th>total_fuel_consumption_quantity</th>\n      <th>electric_fuel_consumption_quantity</th>\n      <th>total_fuel_consumption_mm_btu</th>\n      <th>elec_fuel_consumption_mm_btu</th>\n      <th>net_generation_megawatthours</th>\n      <th>year</th>\n    </tr>\n  </thead>\n  <tbody>\n    <tr>\n      <th>0</th>\n      <td>3000001</td>\n      <td>NaN</td>\n      <td>NaN</td>\n      <td>6569.0</td>\n      <td>54686.0</td>\n      <td>CA</td>\n      <td>Kern County</td>\n      <td>6029</td>\n      <td>Difwind 6</td>\n      <td>1987.0</td>\n      <td>...</td>\n      <td>1441.0</td>\n      <td>1570.0</td>\n      <td>1202.0</td>\n      <td>1180.0</td>\n      <td>0.0</td>\n      <td>0.0</td>\n      <td>215326.0</td>\n      <td>215326.0</td>\n      <td>24544.0</td>\n      <td>2020.0</td>\n    </tr>\n    <tr>\n      <th>1</th>\n      <td>3000003</td>\n      <td>NaN</td>\n      <td>NaN</td>\n      <td>3100.0</td>\n      <td>NaN</td>\n      <td>CA</td>\n      <td>Kern County</td>\n      <td>6029</td>\n      <td>unknown Tehachapi Wind Resource Area 1</td>\n      <td>1982.0</td>\n      <td>...</td>\n      <td>NaN</td>\n      <td>NaN</td>\n      <td>NaN</td>\n      <td>NaN</td>\n      <td>NaN</td>\n      <td>NaN</td>\n      <td>NaN</td>\n      <td>NaN</td>\n      <td>NaN</td>\n      <td>NaN</td>\n    </tr>\n    <tr>\n      <th>2</th>\n      <td>3000008</td>\n      <td>NaN</td>\n      <td>NaN</td>\n      <td>3463.0</td>\n      <td>10597.0</td>\n      <td>CA</td>\n      <td>Kern County</td>\n      <td>6029</td>\n      <td>Ridgetop</td>\n      <td>1985.0</td>\n      <td>...</td>\n      <td>2317.0</td>\n      <td>2525.0</td>\n      <td>1932.0</td>\n      <td>1897.0</td>\n      <td>0.0</td>\n      <td>0.0</td>\n      <td>346165.0</td>\n      <td>346165.0</td>\n      <td>39458.0</td>\n      <td>2020.0</td>\n    </tr>\n    <tr>\n      <th>3</th>\n      <td>3000016</td>\n      <td>NaN</td>\n      <td>NaN</td>\n      <td>15543.0</td>\n      <td>50535.0</td>\n      <td>CA</td>\n      <td>Riverside County</td>\n      <td>6065</td>\n      <td>Mesa Wind Farm</td>\n      <td>1983.0</td>\n      <td>...</td>\n      <td>48.0</td>\n      <td>52.0</td>\n      <td>40.0</td>\n      <td>39.0</td>\n      <td>0.0</td>\n      <td>0.0</td>\n      <td>7124.0</td>\n      <td>7124.0</td>\n      <td>812.0</td>\n      <td>2020.0</td>\n    </tr>\n    <tr>\n      <th>4</th>\n      <td>3000020</td>\n      <td>NaN</td>\n      <td>NaN</td>\n      <td>1944.0</td>\n      <td>NaN</td>\n      <td>AK</td>\n      <td>Bethel Census Area</td>\n      <td>2050</td>\n      <td>Tuntutuliak</td>\n      <td>2012.0</td>\n      <td>...</td>\n      <td>NaN</td>\n      <td>NaN</td>\n      <td>NaN</td>\n      <td>NaN</td>\n      <td>NaN</td>\n      <td>NaN</td>\n      <td>NaN</td>\n      <td>NaN</td>\n      <td>NaN</td>\n      <td>NaN</td>\n    </tr>\n    <tr>\n      <th>...</th>\n      <td>...</td>\n      <td>...</td>\n      <td>...</td>\n      <td>...</td>\n      <td>...</td>\n      <td>...</td>\n      <td>...</td>\n      <td>...</td>\n      <td>...</td>\n      <td>...</td>\n      <td>...</td>\n      <td>...</td>\n      <td>...</td>\n      <td>...</td>\n      <td>...</td>\n      <td>...</td>\n      <td>...</td>\n      <td>...</td>\n      <td>...</td>\n      <td>...</td>\n      <td>...</td>\n    </tr>\n    <tr>\n      <th>71820</th>\n      <td>3118667</td>\n      <td>NaN</td>\n      <td>NaN</td>\n      <td>NaN</td>\n      <td>NaN</td>\n      <td>NM</td>\n      <td>Catron County</td>\n      <td>35003</td>\n      <td>unknown Catron County</td>\n      <td>NaN</td>\n      <td>...</td>\n      <td>NaN</td>\n      <td>NaN</td>\n      <td>NaN</td>\n      <td>NaN</td>\n      <td>NaN</td>\n      <td>NaN</td>\n      <td>NaN</td>\n      <td>NaN</td>\n      <td>NaN</td>\n      <td>NaN</td>\n    </tr>\n    <tr>\n      <th>71821</th>\n      <td>3118668</td>\n      <td>NaN</td>\n      <td>NaN</td>\n      <td>NaN</td>\n      <td>NaN</td>\n      <td>NM</td>\n      <td>Catron County</td>\n      <td>35003</td>\n      <td>unknown Catron County</td>\n      <td>NaN</td>\n      <td>...</td>\n      <td>NaN</td>\n      <td>NaN</td>\n      <td>NaN</td>\n      <td>NaN</td>\n      <td>NaN</td>\n      <td>NaN</td>\n      <td>NaN</td>\n      <td>NaN</td>\n      <td>NaN</td>\n      <td>NaN</td>\n    </tr>\n    <tr>\n      <th>71822</th>\n      <td>3118669</td>\n      <td>NaN</td>\n      <td>NaN</td>\n      <td>NaN</td>\n      <td>NaN</td>\n      <td>NM</td>\n      <td>Catron County</td>\n      <td>35003</td>\n      <td>unknown Catron County</td>\n      <td>NaN</td>\n      <td>...</td>\n      <td>NaN</td>\n      <td>NaN</td>\n      <td>NaN</td>\n      <td>NaN</td>\n      <td>NaN</td>\n      <td>NaN</td>\n      <td>NaN</td>\n      <td>NaN</td>\n      <td>NaN</td>\n      <td>NaN</td>\n    </tr>\n    <tr>\n      <th>71823</th>\n      <td>3118670</td>\n      <td>NaN</td>\n      <td>NaN</td>\n      <td>NaN</td>\n      <td>NaN</td>\n      <td>NM</td>\n      <td>Catron County</td>\n      <td>35003</td>\n      <td>unknown Catron County</td>\n      <td>NaN</td>\n      <td>...</td>\n      <td>NaN</td>\n      <td>NaN</td>\n      <td>NaN</td>\n      <td>NaN</td>\n      <td>NaN</td>\n      <td>NaN</td>\n      <td>NaN</td>\n      <td>NaN</td>\n      <td>NaN</td>\n      <td>NaN</td>\n    </tr>\n    <tr>\n      <th>71824</th>\n      <td>3118671</td>\n      <td>NaN</td>\n      <td>NaN</td>\n      <td>NaN</td>\n      <td>NaN</td>\n      <td>NM</td>\n      <td>Torrance County</td>\n      <td>35057</td>\n      <td>unknown Torrance County</td>\n      <td>NaN</td>\n      <td>...</td>\n      <td>NaN</td>\n      <td>NaN</td>\n      <td>NaN</td>\n      <td>NaN</td>\n      <td>NaN</td>\n      <td>NaN</td>\n      <td>NaN</td>\n      <td>NaN</td>\n      <td>NaN</td>\n      <td>NaN</td>\n    </tr>\n  </tbody>\n</table>\n<p>71825 rows × 123 columns</p>\n</div>"
     },
     "execution_count": 29,
     "metadata": {},
     "output_type": "execute_result"
    }
   ],
   "source": [
    "# do a left join turbines --> operators on 'plant_id'\n",
    "# this will produce nulls in the plant_id col\n",
    "\n",
    "turbines_combined = pd.merge(turbines,operators, on='plant_id', how='left')\n",
    "turbines_combined"
   ],
   "metadata": {
    "collapsed": false,
    "ExecuteTime": {
     "end_time": "2024-01-23T00:57:55.769549300Z",
     "start_time": "2024-01-23T00:57:55.588873300Z"
    }
   },
   "id": "ec902aa86687c9e0"
  },
  {
   "cell_type": "markdown",
   "source": [
    "### get percentage of null plant_id in the resultant combined df"
   ],
   "metadata": {
    "collapsed": false
   },
   "id": "c087214014a9509d"
  },
  {
   "cell_type": "code",
   "execution_count": 30,
   "outputs": [
    {
     "name": "stdout",
     "output_type": "stream",
     "text": [
      "5793\n",
      "8.065436825617821\n",
      "8.1812789515309\n"
     ]
    }
   ],
   "source": [
    "\n",
    "\n",
    "# count nulls in plant_id\n",
    "plant_id_nulls = turbines_combined['plant_id'].isnull().sum()\n",
    "print(plant_id_nulls)\n",
    "\n",
    "percent_plant_nulls = plant_id_nulls / turbines_combined.shape[0] * 100\n",
    "print(percent_plant_nulls)\n",
    "print(percent_eia_nulls)"
   ],
   "metadata": {
    "collapsed": false,
    "ExecuteTime": {
     "end_time": "2024-01-23T01:01:12.102418Z",
     "start_time": "2024-01-23T01:01:12.049307300Z"
    }
   },
   "id": "45ae5b4fdf255168"
  },
  {
   "cell_type": "code",
   "execution_count": 31,
   "outputs": [],
   "source": [
    "# rename cols\n",
    "# p_name--> project_name\n",
    "# t_state --> state\n",
    "# t_county --> county\n",
    "\n",
    "turbines_combined = turbines_combined.rename(columns={\n",
    "    'p_name': 'project_name',\n",
    "    't_state': 'state',\n",
    "    't_county': 'county'\n",
    "})"
   ],
   "metadata": {
    "collapsed": false,
    "ExecuteTime": {
     "end_time": "2024-01-23T01:29:15.157212Z",
     "start_time": "2024-01-23T01:29:15.073470800Z"
    }
   },
   "id": "818f5990d831d85e"
  },
  {
   "cell_type": "markdown",
   "source": [
    "# drop the redundant cols"
   ],
   "metadata": {
    "collapsed": false
   },
   "id": "cc01cc90f643f99c"
  },
  {
   "cell_type": "code",
   "execution_count": 32,
   "outputs": [
    {
     "data": {
      "text/plain": "       plant_id                            project_name            plant_name  \\\n0       54686.0                               Difwind 6  Difwind Farms Ltd VI   \n1           NaN  unknown Tehachapi Wind Resource Area 1                   NaN   \n2       10597.0                                Ridgetop   Ridgetop Energy LLC   \n3       50535.0                          Mesa Wind Farm  Mesa Wind Power Corp   \n4           NaN                             Tuntutuliak                   NaN   \n...         ...                                     ...                   ...   \n71820       NaN                   unknown Catron County                   NaN   \n71821       NaN                   unknown Catron County                   NaN   \n71822       NaN                   unknown Catron County                   NaN   \n71823       NaN                   unknown Catron County                   NaN   \n71824       NaN                 unknown Torrance County                   NaN   \n\n                                       operator_name       xlong       ylat  \\\n0                        Terra-Gen Operating Co-Wind -118.270027  35.066048   \n1                                                NaN -118.299385  35.044796   \n2                        Terra-Gen Operating Co-Wind -118.302780  35.078526   \n3      Brookfield Renewable Trading and Marketing LP -116.652931  33.954193   \n4                                                NaN -162.661880  60.336800   \n...                                              ...         ...        ...   \n71820                                            NaN -108.901253  34.164696   \n71821                                            NaN -108.907745  34.103058   \n71822                                            NaN -108.915382  34.110283   \n71823                                            NaN -108.869209  34.157585   \n71824                                            NaN -105.590172  34.613602   \n\n      operator_id state              county  p_tnum  \n0            2770    CA         Kern County     250  \n1             NaN    CA         Kern County     713  \n2            2770    CA         Kern County     236  \n3           63235    CA    Riverside County     460  \n4             NaN    AK  Bethel Census Area       5  \n...           ...   ...                 ...     ...  \n71820         NaN    NM       Catron County      34  \n71821         NaN    NM       Catron County      34  \n71822         NaN    NM       Catron County      34  \n71823         NaN    NM       Catron County      34  \n71824         NaN    NM     Torrance County     355  \n\n[71825 rows x 10 columns]",
      "text/html": "<div>\n<style scoped>\n    .dataframe tbody tr th:only-of-type {\n        vertical-align: middle;\n    }\n\n    .dataframe tbody tr th {\n        vertical-align: top;\n    }\n\n    .dataframe thead th {\n        text-align: right;\n    }\n</style>\n<table border=\"1\" class=\"dataframe\">\n  <thead>\n    <tr style=\"text-align: right;\">\n      <th></th>\n      <th>plant_id</th>\n      <th>project_name</th>\n      <th>plant_name</th>\n      <th>operator_name</th>\n      <th>xlong</th>\n      <th>ylat</th>\n      <th>operator_id</th>\n      <th>state</th>\n      <th>county</th>\n      <th>p_tnum</th>\n    </tr>\n  </thead>\n  <tbody>\n    <tr>\n      <th>0</th>\n      <td>54686.0</td>\n      <td>Difwind 6</td>\n      <td>Difwind Farms Ltd VI</td>\n      <td>Terra-Gen Operating Co-Wind</td>\n      <td>-118.270027</td>\n      <td>35.066048</td>\n      <td>2770</td>\n      <td>CA</td>\n      <td>Kern County</td>\n      <td>250</td>\n    </tr>\n    <tr>\n      <th>1</th>\n      <td>NaN</td>\n      <td>unknown Tehachapi Wind Resource Area 1</td>\n      <td>NaN</td>\n      <td>NaN</td>\n      <td>-118.299385</td>\n      <td>35.044796</td>\n      <td>NaN</td>\n      <td>CA</td>\n      <td>Kern County</td>\n      <td>713</td>\n    </tr>\n    <tr>\n      <th>2</th>\n      <td>10597.0</td>\n      <td>Ridgetop</td>\n      <td>Ridgetop Energy LLC</td>\n      <td>Terra-Gen Operating Co-Wind</td>\n      <td>-118.302780</td>\n      <td>35.078526</td>\n      <td>2770</td>\n      <td>CA</td>\n      <td>Kern County</td>\n      <td>236</td>\n    </tr>\n    <tr>\n      <th>3</th>\n      <td>50535.0</td>\n      <td>Mesa Wind Farm</td>\n      <td>Mesa Wind Power Corp</td>\n      <td>Brookfield Renewable Trading and Marketing LP</td>\n      <td>-116.652931</td>\n      <td>33.954193</td>\n      <td>63235</td>\n      <td>CA</td>\n      <td>Riverside County</td>\n      <td>460</td>\n    </tr>\n    <tr>\n      <th>4</th>\n      <td>NaN</td>\n      <td>Tuntutuliak</td>\n      <td>NaN</td>\n      <td>NaN</td>\n      <td>-162.661880</td>\n      <td>60.336800</td>\n      <td>NaN</td>\n      <td>AK</td>\n      <td>Bethel Census Area</td>\n      <td>5</td>\n    </tr>\n    <tr>\n      <th>...</th>\n      <td>...</td>\n      <td>...</td>\n      <td>...</td>\n      <td>...</td>\n      <td>...</td>\n      <td>...</td>\n      <td>...</td>\n      <td>...</td>\n      <td>...</td>\n      <td>...</td>\n    </tr>\n    <tr>\n      <th>71820</th>\n      <td>NaN</td>\n      <td>unknown Catron County</td>\n      <td>NaN</td>\n      <td>NaN</td>\n      <td>-108.901253</td>\n      <td>34.164696</td>\n      <td>NaN</td>\n      <td>NM</td>\n      <td>Catron County</td>\n      <td>34</td>\n    </tr>\n    <tr>\n      <th>71821</th>\n      <td>NaN</td>\n      <td>unknown Catron County</td>\n      <td>NaN</td>\n      <td>NaN</td>\n      <td>-108.907745</td>\n      <td>34.103058</td>\n      <td>NaN</td>\n      <td>NM</td>\n      <td>Catron County</td>\n      <td>34</td>\n    </tr>\n    <tr>\n      <th>71822</th>\n      <td>NaN</td>\n      <td>unknown Catron County</td>\n      <td>NaN</td>\n      <td>NaN</td>\n      <td>-108.915382</td>\n      <td>34.110283</td>\n      <td>NaN</td>\n      <td>NM</td>\n      <td>Catron County</td>\n      <td>34</td>\n    </tr>\n    <tr>\n      <th>71823</th>\n      <td>NaN</td>\n      <td>unknown Catron County</td>\n      <td>NaN</td>\n      <td>NaN</td>\n      <td>-108.869209</td>\n      <td>34.157585</td>\n      <td>NaN</td>\n      <td>NM</td>\n      <td>Catron County</td>\n      <td>34</td>\n    </tr>\n    <tr>\n      <th>71824</th>\n      <td>NaN</td>\n      <td>unknown Torrance County</td>\n      <td>NaN</td>\n      <td>NaN</td>\n      <td>-105.590172</td>\n      <td>34.613602</td>\n      <td>NaN</td>\n      <td>NM</td>\n      <td>Torrance County</td>\n      <td>355</td>\n    </tr>\n  </tbody>\n</table>\n<p>71825 rows × 10 columns</p>\n</div>"
     },
     "execution_count": 32,
     "metadata": {},
     "output_type": "execute_result"
    }
   ],
   "source": [
    "selected_columns = ['plant_id', 'project_name', 'plant_name', 'operator_name', 'xlong', 'ylat', 'operator_id', 'state', 'county', 'p_tnum']\n",
    "\n",
    "turbines_combined = turbines_combined[selected_columns]\n",
    "turbines_combined"
   ],
   "metadata": {
    "collapsed": false,
    "ExecuteTime": {
     "end_time": "2024-01-23T01:32:05.219265600Z",
     "start_time": "2024-01-23T01:32:05.165219400Z"
    }
   },
   "id": "3e67faedb2557178"
  },
  {
   "cell_type": "markdown",
   "source": [
    "### reorder cols"
   ],
   "metadata": {
    "collapsed": false
   },
   "id": "4007ea4605c87226"
  },
  {
   "cell_type": "code",
   "execution_count": 34,
   "outputs": [
    {
     "data": {
      "text/plain": "       plant_id            plant_name                            project_name  \\\n0       54686.0  Difwind Farms Ltd VI                               Difwind 6   \n1           NaN                   NaN  unknown Tehachapi Wind Resource Area 1   \n2       10597.0   Ridgetop Energy LLC                                Ridgetop   \n3       50535.0  Mesa Wind Power Corp                          Mesa Wind Farm   \n4           NaN                   NaN                             Tuntutuliak   \n...         ...                   ...                                     ...   \n71820       NaN                   NaN                   unknown Catron County   \n71821       NaN                   NaN                   unknown Catron County   \n71822       NaN                   NaN                   unknown Catron County   \n71823       NaN                   NaN                   unknown Catron County   \n71824       NaN                   NaN                 unknown Torrance County   \n\n                                       operator_name operator_id state  \\\n0                        Terra-Gen Operating Co-Wind        2770    CA   \n1                                                NaN         NaN    CA   \n2                        Terra-Gen Operating Co-Wind        2770    CA   \n3      Brookfield Renewable Trading and Marketing LP       63235    CA   \n4                                                NaN         NaN    AK   \n...                                              ...         ...   ...   \n71820                                            NaN         NaN    NM   \n71821                                            NaN         NaN    NM   \n71822                                            NaN         NaN    NM   \n71823                                            NaN         NaN    NM   \n71824                                            NaN         NaN    NM   \n\n                   county       xlong       ylat  p_tnum  \n0             Kern County -118.270027  35.066048     250  \n1             Kern County -118.299385  35.044796     713  \n2             Kern County -118.302780  35.078526     236  \n3        Riverside County -116.652931  33.954193     460  \n4      Bethel Census Area -162.661880  60.336800       5  \n...                   ...         ...        ...     ...  \n71820       Catron County -108.901253  34.164696      34  \n71821       Catron County -108.907745  34.103058      34  \n71822       Catron County -108.915382  34.110283      34  \n71823       Catron County -108.869209  34.157585      34  \n71824     Torrance County -105.590172  34.613602     355  \n\n[71825 rows x 10 columns]",
      "text/html": "<div>\n<style scoped>\n    .dataframe tbody tr th:only-of-type {\n        vertical-align: middle;\n    }\n\n    .dataframe tbody tr th {\n        vertical-align: top;\n    }\n\n    .dataframe thead th {\n        text-align: right;\n    }\n</style>\n<table border=\"1\" class=\"dataframe\">\n  <thead>\n    <tr style=\"text-align: right;\">\n      <th></th>\n      <th>plant_id</th>\n      <th>plant_name</th>\n      <th>project_name</th>\n      <th>operator_name</th>\n      <th>operator_id</th>\n      <th>state</th>\n      <th>county</th>\n      <th>xlong</th>\n      <th>ylat</th>\n      <th>p_tnum</th>\n    </tr>\n  </thead>\n  <tbody>\n    <tr>\n      <th>0</th>\n      <td>54686.0</td>\n      <td>Difwind Farms Ltd VI</td>\n      <td>Difwind 6</td>\n      <td>Terra-Gen Operating Co-Wind</td>\n      <td>2770</td>\n      <td>CA</td>\n      <td>Kern County</td>\n      <td>-118.270027</td>\n      <td>35.066048</td>\n      <td>250</td>\n    </tr>\n    <tr>\n      <th>1</th>\n      <td>NaN</td>\n      <td>NaN</td>\n      <td>unknown Tehachapi Wind Resource Area 1</td>\n      <td>NaN</td>\n      <td>NaN</td>\n      <td>CA</td>\n      <td>Kern County</td>\n      <td>-118.299385</td>\n      <td>35.044796</td>\n      <td>713</td>\n    </tr>\n    <tr>\n      <th>2</th>\n      <td>10597.0</td>\n      <td>Ridgetop Energy LLC</td>\n      <td>Ridgetop</td>\n      <td>Terra-Gen Operating Co-Wind</td>\n      <td>2770</td>\n      <td>CA</td>\n      <td>Kern County</td>\n      <td>-118.302780</td>\n      <td>35.078526</td>\n      <td>236</td>\n    </tr>\n    <tr>\n      <th>3</th>\n      <td>50535.0</td>\n      <td>Mesa Wind Power Corp</td>\n      <td>Mesa Wind Farm</td>\n      <td>Brookfield Renewable Trading and Marketing LP</td>\n      <td>63235</td>\n      <td>CA</td>\n      <td>Riverside County</td>\n      <td>-116.652931</td>\n      <td>33.954193</td>\n      <td>460</td>\n    </tr>\n    <tr>\n      <th>4</th>\n      <td>NaN</td>\n      <td>NaN</td>\n      <td>Tuntutuliak</td>\n      <td>NaN</td>\n      <td>NaN</td>\n      <td>AK</td>\n      <td>Bethel Census Area</td>\n      <td>-162.661880</td>\n      <td>60.336800</td>\n      <td>5</td>\n    </tr>\n    <tr>\n      <th>...</th>\n      <td>...</td>\n      <td>...</td>\n      <td>...</td>\n      <td>...</td>\n      <td>...</td>\n      <td>...</td>\n      <td>...</td>\n      <td>...</td>\n      <td>...</td>\n      <td>...</td>\n    </tr>\n    <tr>\n      <th>71820</th>\n      <td>NaN</td>\n      <td>NaN</td>\n      <td>unknown Catron County</td>\n      <td>NaN</td>\n      <td>NaN</td>\n      <td>NM</td>\n      <td>Catron County</td>\n      <td>-108.901253</td>\n      <td>34.164696</td>\n      <td>34</td>\n    </tr>\n    <tr>\n      <th>71821</th>\n      <td>NaN</td>\n      <td>NaN</td>\n      <td>unknown Catron County</td>\n      <td>NaN</td>\n      <td>NaN</td>\n      <td>NM</td>\n      <td>Catron County</td>\n      <td>-108.907745</td>\n      <td>34.103058</td>\n      <td>34</td>\n    </tr>\n    <tr>\n      <th>71822</th>\n      <td>NaN</td>\n      <td>NaN</td>\n      <td>unknown Catron County</td>\n      <td>NaN</td>\n      <td>NaN</td>\n      <td>NM</td>\n      <td>Catron County</td>\n      <td>-108.915382</td>\n      <td>34.110283</td>\n      <td>34</td>\n    </tr>\n    <tr>\n      <th>71823</th>\n      <td>NaN</td>\n      <td>NaN</td>\n      <td>unknown Catron County</td>\n      <td>NaN</td>\n      <td>NaN</td>\n      <td>NM</td>\n      <td>Catron County</td>\n      <td>-108.869209</td>\n      <td>34.157585</td>\n      <td>34</td>\n    </tr>\n    <tr>\n      <th>71824</th>\n      <td>NaN</td>\n      <td>NaN</td>\n      <td>unknown Torrance County</td>\n      <td>NaN</td>\n      <td>NaN</td>\n      <td>NM</td>\n      <td>Torrance County</td>\n      <td>-105.590172</td>\n      <td>34.613602</td>\n      <td>355</td>\n    </tr>\n  </tbody>\n</table>\n<p>71825 rows × 10 columns</p>\n</div>"
     },
     "execution_count": 34,
     "metadata": {},
     "output_type": "execute_result"
    }
   ],
   "source": [
    "column_order = ['plant_id', 'plant_name', 'project_name', 'operator_name', 'operator_id', 'state', 'county', 'xlong', 'ylat', 'p_tnum']\n",
    "turbines_combined = turbines_combined[column_order]\n",
    "turbines_combined"
   ],
   "metadata": {
    "collapsed": false,
    "ExecuteTime": {
     "end_time": "2024-01-23T01:36:13.446993900Z",
     "start_time": "2024-01-23T01:36:13.385921500Z"
    }
   },
   "id": "3c07f4666685573b"
  },
  {
   "cell_type": "markdown",
   "source": [
    "### fill where operator_name is null with 'unknown'"
   ],
   "metadata": {
    "collapsed": false
   },
   "id": "94ea515857187d7c"
  },
  {
   "cell_type": "code",
   "execution_count": 35,
   "outputs": [
    {
     "data": {
      "text/plain": "       plant_id            plant_name                            project_name  \\\n0       54686.0  Difwind Farms Ltd VI                               Difwind 6   \n1           NaN                   NaN  unknown Tehachapi Wind Resource Area 1   \n2       10597.0   Ridgetop Energy LLC                                Ridgetop   \n3       50535.0  Mesa Wind Power Corp                          Mesa Wind Farm   \n4           NaN                   NaN                             Tuntutuliak   \n...         ...                   ...                                     ...   \n71820       NaN                   NaN                   unknown Catron County   \n71821       NaN                   NaN                   unknown Catron County   \n71822       NaN                   NaN                   unknown Catron County   \n71823       NaN                   NaN                   unknown Catron County   \n71824       NaN                   NaN                 unknown Torrance County   \n\n                                       operator_name operator_id state  \\\n0                        Terra-Gen Operating Co-Wind        2770    CA   \n1                                            unknown         NaN    CA   \n2                        Terra-Gen Operating Co-Wind        2770    CA   \n3      Brookfield Renewable Trading and Marketing LP       63235    CA   \n4                                            unknown         NaN    AK   \n...                                              ...         ...   ...   \n71820                                        unknown         NaN    NM   \n71821                                        unknown         NaN    NM   \n71822                                        unknown         NaN    NM   \n71823                                        unknown         NaN    NM   \n71824                                        unknown         NaN    NM   \n\n                   county       xlong       ylat  p_tnum  \n0             Kern County -118.270027  35.066048     250  \n1             Kern County -118.299385  35.044796     713  \n2             Kern County -118.302780  35.078526     236  \n3        Riverside County -116.652931  33.954193     460  \n4      Bethel Census Area -162.661880  60.336800       5  \n...                   ...         ...        ...     ...  \n71820       Catron County -108.901253  34.164696      34  \n71821       Catron County -108.907745  34.103058      34  \n71822       Catron County -108.915382  34.110283      34  \n71823       Catron County -108.869209  34.157585      34  \n71824     Torrance County -105.590172  34.613602     355  \n\n[71825 rows x 10 columns]",
      "text/html": "<div>\n<style scoped>\n    .dataframe tbody tr th:only-of-type {\n        vertical-align: middle;\n    }\n\n    .dataframe tbody tr th {\n        vertical-align: top;\n    }\n\n    .dataframe thead th {\n        text-align: right;\n    }\n</style>\n<table border=\"1\" class=\"dataframe\">\n  <thead>\n    <tr style=\"text-align: right;\">\n      <th></th>\n      <th>plant_id</th>\n      <th>plant_name</th>\n      <th>project_name</th>\n      <th>operator_name</th>\n      <th>operator_id</th>\n      <th>state</th>\n      <th>county</th>\n      <th>xlong</th>\n      <th>ylat</th>\n      <th>p_tnum</th>\n    </tr>\n  </thead>\n  <tbody>\n    <tr>\n      <th>0</th>\n      <td>54686.0</td>\n      <td>Difwind Farms Ltd VI</td>\n      <td>Difwind 6</td>\n      <td>Terra-Gen Operating Co-Wind</td>\n      <td>2770</td>\n      <td>CA</td>\n      <td>Kern County</td>\n      <td>-118.270027</td>\n      <td>35.066048</td>\n      <td>250</td>\n    </tr>\n    <tr>\n      <th>1</th>\n      <td>NaN</td>\n      <td>NaN</td>\n      <td>unknown Tehachapi Wind Resource Area 1</td>\n      <td>unknown</td>\n      <td>NaN</td>\n      <td>CA</td>\n      <td>Kern County</td>\n      <td>-118.299385</td>\n      <td>35.044796</td>\n      <td>713</td>\n    </tr>\n    <tr>\n      <th>2</th>\n      <td>10597.0</td>\n      <td>Ridgetop Energy LLC</td>\n      <td>Ridgetop</td>\n      <td>Terra-Gen Operating Co-Wind</td>\n      <td>2770</td>\n      <td>CA</td>\n      <td>Kern County</td>\n      <td>-118.302780</td>\n      <td>35.078526</td>\n      <td>236</td>\n    </tr>\n    <tr>\n      <th>3</th>\n      <td>50535.0</td>\n      <td>Mesa Wind Power Corp</td>\n      <td>Mesa Wind Farm</td>\n      <td>Brookfield Renewable Trading and Marketing LP</td>\n      <td>63235</td>\n      <td>CA</td>\n      <td>Riverside County</td>\n      <td>-116.652931</td>\n      <td>33.954193</td>\n      <td>460</td>\n    </tr>\n    <tr>\n      <th>4</th>\n      <td>NaN</td>\n      <td>NaN</td>\n      <td>Tuntutuliak</td>\n      <td>unknown</td>\n      <td>NaN</td>\n      <td>AK</td>\n      <td>Bethel Census Area</td>\n      <td>-162.661880</td>\n      <td>60.336800</td>\n      <td>5</td>\n    </tr>\n    <tr>\n      <th>...</th>\n      <td>...</td>\n      <td>...</td>\n      <td>...</td>\n      <td>...</td>\n      <td>...</td>\n      <td>...</td>\n      <td>...</td>\n      <td>...</td>\n      <td>...</td>\n      <td>...</td>\n    </tr>\n    <tr>\n      <th>71820</th>\n      <td>NaN</td>\n      <td>NaN</td>\n      <td>unknown Catron County</td>\n      <td>unknown</td>\n      <td>NaN</td>\n      <td>NM</td>\n      <td>Catron County</td>\n      <td>-108.901253</td>\n      <td>34.164696</td>\n      <td>34</td>\n    </tr>\n    <tr>\n      <th>71821</th>\n      <td>NaN</td>\n      <td>NaN</td>\n      <td>unknown Catron County</td>\n      <td>unknown</td>\n      <td>NaN</td>\n      <td>NM</td>\n      <td>Catron County</td>\n      <td>-108.907745</td>\n      <td>34.103058</td>\n      <td>34</td>\n    </tr>\n    <tr>\n      <th>71822</th>\n      <td>NaN</td>\n      <td>NaN</td>\n      <td>unknown Catron County</td>\n      <td>unknown</td>\n      <td>NaN</td>\n      <td>NM</td>\n      <td>Catron County</td>\n      <td>-108.915382</td>\n      <td>34.110283</td>\n      <td>34</td>\n    </tr>\n    <tr>\n      <th>71823</th>\n      <td>NaN</td>\n      <td>NaN</td>\n      <td>unknown Catron County</td>\n      <td>unknown</td>\n      <td>NaN</td>\n      <td>NM</td>\n      <td>Catron County</td>\n      <td>-108.869209</td>\n      <td>34.157585</td>\n      <td>34</td>\n    </tr>\n    <tr>\n      <th>71824</th>\n      <td>NaN</td>\n      <td>NaN</td>\n      <td>unknown Torrance County</td>\n      <td>unknown</td>\n      <td>NaN</td>\n      <td>NM</td>\n      <td>Torrance County</td>\n      <td>-105.590172</td>\n      <td>34.613602</td>\n      <td>355</td>\n    </tr>\n  </tbody>\n</table>\n<p>71825 rows × 10 columns</p>\n</div>"
     },
     "execution_count": 35,
     "metadata": {},
     "output_type": "execute_result"
    }
   ],
   "source": [
    "turbines_combined['operator_name'] = turbines_combined['operator_name'].fillna('unknown')\n",
    "turbines_combined"
   ],
   "metadata": {
    "collapsed": false,
    "ExecuteTime": {
     "end_time": "2024-01-23T01:44:30.476560600Z",
     "start_time": "2024-01-23T01:44:30.408436100Z"
    }
   },
   "id": "f94301ce609cf135"
  },
  {
   "cell_type": "markdown",
   "source": [
    "# write to csv"
   ],
   "metadata": {
    "collapsed": false
   },
   "id": "ad619924c4803979"
  },
  {
   "cell_type": "markdown",
   "source": [],
   "metadata": {
    "collapsed": false
   },
   "id": "a53885e0ab7c268a"
  },
  {
   "cell_type": "code",
   "execution_count": 37,
   "outputs": [],
   "source": [
    "turbines_combined.to_csv('turbines_data_cleaned.csv', index=False)"
   ],
   "metadata": {
    "collapsed": false,
    "ExecuteTime": {
     "end_time": "2024-01-23T23:45:23.395798900Z",
     "start_time": "2024-01-23T23:45:22.846015900Z"
    }
   },
   "id": "12f1079f5ea187be"
  },
  {
   "cell_type": "markdown",
   "source": [
    "### save all the required modules that I have been using for this project"
   ],
   "metadata": {
    "collapsed": false
   },
   "id": "67d9b22d819e7e84"
  },
  {
   "cell_type": "markdown",
   "source": [
    "pip freeze > requirements.txt"
   ],
   "metadata": {
    "collapsed": false
   },
   "id": "89c8377494defa3b"
  },
  {
   "cell_type": "code",
   "execution_count": 38,
   "outputs": [
    {
     "name": "stdout",
     "output_type": "stream",
     "text": [
      "Note: you may need to restart the kernel to use updated packages.\n"
     ]
    }
   ],
   "source": [
    "pip freeze > requirements.txt"
   ],
   "metadata": {
    "collapsed": false,
    "ExecuteTime": {
     "end_time": "2024-01-26T10:10:52.704214400Z",
     "start_time": "2024-01-26T10:10:50.729984400Z"
    }
   },
   "id": "efdf6a8460b15b3"
  }
 ],
 "metadata": {
  "kernelspec": {
   "display_name": "Python 3",
   "language": "python",
   "name": "python3"
  },
  "language_info": {
   "codemirror_mode": {
    "name": "ipython",
    "version": 2
   },
   "file_extension": ".py",
   "mimetype": "text/x-python",
   "name": "python",
   "nbconvert_exporter": "python",
   "pygments_lexer": "ipython2",
   "version": "2.7.6"
  }
 },
 "nbformat": 4,
 "nbformat_minor": 5
}
