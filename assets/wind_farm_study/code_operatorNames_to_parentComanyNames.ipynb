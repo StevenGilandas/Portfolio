{
 "cells": [
  {
   "cell_type": "code",
   "execution_count": 3,
   "outputs": [
    {
     "name": "stdout",
     "output_type": "stream",
     "text": [
      "Collecting openpyxlNote: you may need to restart the kernel to use updated packages.\n"
     ]
    },
    {
     "name": "stderr",
     "output_type": "stream",
     "text": [
      "\n",
      "[notice] A new release of pip is available: 23.2.1 -> 23.3.2\n",
      "[notice] To update, run: python.exe -m pip install --upgrade pip\n"
     ]
    },
    {
     "name": "stdout",
     "output_type": "stream",
     "text": [
      "\n",
      "  Downloading openpyxl-3.1.2-py2.py3-none-any.whl (249 kB)\n",
      "     ---------------------------------------- 0.0/250.0 kB ? eta -:--:--\n",
      "     -------------------------------------  245.8/250.0 kB 5.0 MB/s eta 0:00:01\n",
      "     -------------------------------------- 250.0/250.0 kB 5.1 MB/s eta 0:00:00\n",
      "Collecting et-xmlfile (from openpyxl)\n",
      "  Downloading et_xmlfile-1.1.0-py3-none-any.whl (4.7 kB)\n",
      "Installing collected packages: et-xmlfile, openpyxl\n",
      "Successfully installed et-xmlfile-1.1.0 openpyxl-3.1.2\n"
     ]
    }
   ],
   "source": [
    "pip install openpyxl"
   ],
   "metadata": {
    "collapsed": false,
    "ExecuteTime": {
     "end_time": "2024-01-23T23:08:15.559693800Z",
     "start_time": "2024-01-23T23:08:08.132203900Z"
    }
   },
   "id": "ad52892ebf3f8a95"
  },
  {
   "cell_type": "code",
   "execution_count": 1,
   "id": "initial_id",
   "metadata": {
    "collapsed": true,
    "ExecuteTime": {
     "end_time": "2024-01-23T23:04:08.408235800Z",
     "start_time": "2024-01-23T23:04:08.279426500Z"
    }
   },
   "outputs": [],
   "source": [
    "# import necessary modules\n",
    "import requests\n",
    "import pandas as pd\n",
    "import numpy as np\n",
    "import seaborn as sns\n",
    "import matplotlib.pyplot as plt\n",
    "\n",
    "\n",
    "%matplotlib inline"
   ]
  },
  {
   "cell_type": "markdown",
   "source": [
    "### import data from excel and csv"
   ],
   "metadata": {
    "collapsed": false
   },
   "id": "db0aa847bad8ccec"
  },
  {
   "cell_type": "code",
   "execution_count": 4,
   "outputs": [
    {
     "name": "stderr",
     "output_type": "stream",
     "text": [
      "C:\\Users\\Public\\Documents\\Wondershare\\CreatorTemp\\ipykernel_25228\\515787277.py:1: DtypeWarning: Columns (5) have mixed types. Specify dtype option on import or set low_memory=False.\n",
      "  operators = pd.read_csv('eia923_operators.csv')\n"
     ]
    },
    {
     "data": {
      "text/plain": "       case_id  usgs_pr_id   eia_id t_state            t_county  t_fips  \\\n0      3000016     15543.0  50535.0      CA    Riverside County    6065   \n1      3000020      1944.0      NaN      AK  Bethel Census Area    2050   \n2      3000039     15579.0  50535.0      CA    Riverside County    6065   \n3      3000055     15645.0  50535.0      CA    Riverside County    6065   \n4      3000086     15221.0  50281.0      CA    Riverside County    6065   \n...        ...         ...      ...     ...                 ...     ...   \n64608  3118511         NaN      NaN      WY       Carbon County   56007   \n64609  3118515         NaN      NaN      WY       Carbon County   56007   \n64610  3118556         NaN      NaN      WY       Carbon County   56007   \n64611  3118589         NaN      NaN      OK        Major County   40093   \n64612  3118614         NaN      NaN      TX         Knox County   48275   \n\n                             p_name  p_year  p_tnum    p_cap  ...   t_rd  \\\n0                    Mesa Wind Farm  1983.0     460   30.000  ...   15.3   \n1                       Tuntutuliak  2012.0       5    0.475  ...   17.0   \n2                    Mesa Wind Farm  1983.0     460   30.000  ...   15.3   \n3                    Mesa Wind Farm  1983.0     460   30.000  ...   15.3   \n4      San Gorgonio Farms Wind Farm  2008.0     147   31.000  ...   39.0   \n...                             ...     ...     ...      ...  ...    ...   \n64608               TB Flats I & II  2021.0     132  503.200  ...  136.0   \n64609               TB Flats I & II  2021.0     132  503.200  ...  136.0   \n64610               TB Flats I & II  2021.0     132  503.200  ...  136.0   \n64611                 Maverick Wind  2021.0       1    2.820  ...  127.0   \n64612            Griffin Trail Wind  2021.0      80  225.600  ...  127.0   \n\n          t_rsa  t_ttlh  retrofit  t_conf_atr  t_conf_loc  \\\n0        183.85    30.4         0           3           3   \n1        226.98    39.5         0           3           3   \n2        183.85    30.4         0           3           3   \n3        183.85    30.4         0           3           3   \n4       1194.59    51.0         0           2           3   \n...         ...     ...       ...         ...         ...   \n64608  14526.72   150.0         0           1           3   \n64609  14526.72   150.0         0           1           3   \n64610  14526.72   150.0         0           1           3   \n64611  12667.69   152.5         0           1           1   \n64612  12667.69   152.5         0           1           3   \n\n                t_img_date     t_img_srce       xlong       ylat  \n0      2018-03-11 00:00:00  Digital Globe -116.652931  33.954193  \n1               19/05/2020  Digital Globe -162.661880  60.336800  \n2      2018-03-11 00:00:00  Digital Globe -116.658089  33.958694  \n3      2018-03-11 00:00:00  Digital Globe -116.659988  33.960396  \n4               15/10/2017  Digital Globe -116.630142  33.923340  \n...                    ...            ...         ...        ...  \n64608  2021-12-09 00:00:00  Digital Globe -106.098686  42.075626  \n64609  2021-12-09 00:00:00  Digital Globe -106.098160  42.039207  \n64610  2021-12-09 00:00:00  Digital Globe -106.099281  42.058605  \n64611           20/08/2020  Digital Globe  -98.159561  36.210938  \n64612  2021-05-08 00:00:00  Digital Globe  -99.667862  33.582405  \n\n[64613 rows x 24 columns]",
      "text/html": "<div>\n<style scoped>\n    .dataframe tbody tr th:only-of-type {\n        vertical-align: middle;\n    }\n\n    .dataframe tbody tr th {\n        vertical-align: top;\n    }\n\n    .dataframe thead th {\n        text-align: right;\n    }\n</style>\n<table border=\"1\" class=\"dataframe\">\n  <thead>\n    <tr style=\"text-align: right;\">\n      <th></th>\n      <th>case_id</th>\n      <th>usgs_pr_id</th>\n      <th>eia_id</th>\n      <th>t_state</th>\n      <th>t_county</th>\n      <th>t_fips</th>\n      <th>p_name</th>\n      <th>p_year</th>\n      <th>p_tnum</th>\n      <th>p_cap</th>\n      <th>...</th>\n      <th>t_rd</th>\n      <th>t_rsa</th>\n      <th>t_ttlh</th>\n      <th>retrofit</th>\n      <th>t_conf_atr</th>\n      <th>t_conf_loc</th>\n      <th>t_img_date</th>\n      <th>t_img_srce</th>\n      <th>xlong</th>\n      <th>ylat</th>\n    </tr>\n  </thead>\n  <tbody>\n    <tr>\n      <th>0</th>\n      <td>3000016</td>\n      <td>15543.0</td>\n      <td>50535.0</td>\n      <td>CA</td>\n      <td>Riverside County</td>\n      <td>6065</td>\n      <td>Mesa Wind Farm</td>\n      <td>1983.0</td>\n      <td>460</td>\n      <td>30.000</td>\n      <td>...</td>\n      <td>15.3</td>\n      <td>183.85</td>\n      <td>30.4</td>\n      <td>0</td>\n      <td>3</td>\n      <td>3</td>\n      <td>2018-03-11 00:00:00</td>\n      <td>Digital Globe</td>\n      <td>-116.652931</td>\n      <td>33.954193</td>\n    </tr>\n    <tr>\n      <th>1</th>\n      <td>3000020</td>\n      <td>1944.0</td>\n      <td>NaN</td>\n      <td>AK</td>\n      <td>Bethel Census Area</td>\n      <td>2050</td>\n      <td>Tuntutuliak</td>\n      <td>2012.0</td>\n      <td>5</td>\n      <td>0.475</td>\n      <td>...</td>\n      <td>17.0</td>\n      <td>226.98</td>\n      <td>39.5</td>\n      <td>0</td>\n      <td>3</td>\n      <td>3</td>\n      <td>19/05/2020</td>\n      <td>Digital Globe</td>\n      <td>-162.661880</td>\n      <td>60.336800</td>\n    </tr>\n    <tr>\n      <th>2</th>\n      <td>3000039</td>\n      <td>15579.0</td>\n      <td>50535.0</td>\n      <td>CA</td>\n      <td>Riverside County</td>\n      <td>6065</td>\n      <td>Mesa Wind Farm</td>\n      <td>1983.0</td>\n      <td>460</td>\n      <td>30.000</td>\n      <td>...</td>\n      <td>15.3</td>\n      <td>183.85</td>\n      <td>30.4</td>\n      <td>0</td>\n      <td>3</td>\n      <td>3</td>\n      <td>2018-03-11 00:00:00</td>\n      <td>Digital Globe</td>\n      <td>-116.658089</td>\n      <td>33.958694</td>\n    </tr>\n    <tr>\n      <th>3</th>\n      <td>3000055</td>\n      <td>15645.0</td>\n      <td>50535.0</td>\n      <td>CA</td>\n      <td>Riverside County</td>\n      <td>6065</td>\n      <td>Mesa Wind Farm</td>\n      <td>1983.0</td>\n      <td>460</td>\n      <td>30.000</td>\n      <td>...</td>\n      <td>15.3</td>\n      <td>183.85</td>\n      <td>30.4</td>\n      <td>0</td>\n      <td>3</td>\n      <td>3</td>\n      <td>2018-03-11 00:00:00</td>\n      <td>Digital Globe</td>\n      <td>-116.659988</td>\n      <td>33.960396</td>\n    </tr>\n    <tr>\n      <th>4</th>\n      <td>3000086</td>\n      <td>15221.0</td>\n      <td>50281.0</td>\n      <td>CA</td>\n      <td>Riverside County</td>\n      <td>6065</td>\n      <td>San Gorgonio Farms Wind Farm</td>\n      <td>2008.0</td>\n      <td>147</td>\n      <td>31.000</td>\n      <td>...</td>\n      <td>39.0</td>\n      <td>1194.59</td>\n      <td>51.0</td>\n      <td>0</td>\n      <td>2</td>\n      <td>3</td>\n      <td>15/10/2017</td>\n      <td>Digital Globe</td>\n      <td>-116.630142</td>\n      <td>33.923340</td>\n    </tr>\n    <tr>\n      <th>...</th>\n      <td>...</td>\n      <td>...</td>\n      <td>...</td>\n      <td>...</td>\n      <td>...</td>\n      <td>...</td>\n      <td>...</td>\n      <td>...</td>\n      <td>...</td>\n      <td>...</td>\n      <td>...</td>\n      <td>...</td>\n      <td>...</td>\n      <td>...</td>\n      <td>...</td>\n      <td>...</td>\n      <td>...</td>\n      <td>...</td>\n      <td>...</td>\n      <td>...</td>\n      <td>...</td>\n    </tr>\n    <tr>\n      <th>64608</th>\n      <td>3118511</td>\n      <td>NaN</td>\n      <td>NaN</td>\n      <td>WY</td>\n      <td>Carbon County</td>\n      <td>56007</td>\n      <td>TB Flats I &amp; II</td>\n      <td>2021.0</td>\n      <td>132</td>\n      <td>503.200</td>\n      <td>...</td>\n      <td>136.0</td>\n      <td>14526.72</td>\n      <td>150.0</td>\n      <td>0</td>\n      <td>1</td>\n      <td>3</td>\n      <td>2021-12-09 00:00:00</td>\n      <td>Digital Globe</td>\n      <td>-106.098686</td>\n      <td>42.075626</td>\n    </tr>\n    <tr>\n      <th>64609</th>\n      <td>3118515</td>\n      <td>NaN</td>\n      <td>NaN</td>\n      <td>WY</td>\n      <td>Carbon County</td>\n      <td>56007</td>\n      <td>TB Flats I &amp; II</td>\n      <td>2021.0</td>\n      <td>132</td>\n      <td>503.200</td>\n      <td>...</td>\n      <td>136.0</td>\n      <td>14526.72</td>\n      <td>150.0</td>\n      <td>0</td>\n      <td>1</td>\n      <td>3</td>\n      <td>2021-12-09 00:00:00</td>\n      <td>Digital Globe</td>\n      <td>-106.098160</td>\n      <td>42.039207</td>\n    </tr>\n    <tr>\n      <th>64610</th>\n      <td>3118556</td>\n      <td>NaN</td>\n      <td>NaN</td>\n      <td>WY</td>\n      <td>Carbon County</td>\n      <td>56007</td>\n      <td>TB Flats I &amp; II</td>\n      <td>2021.0</td>\n      <td>132</td>\n      <td>503.200</td>\n      <td>...</td>\n      <td>136.0</td>\n      <td>14526.72</td>\n      <td>150.0</td>\n      <td>0</td>\n      <td>1</td>\n      <td>3</td>\n      <td>2021-12-09 00:00:00</td>\n      <td>Digital Globe</td>\n      <td>-106.099281</td>\n      <td>42.058605</td>\n    </tr>\n    <tr>\n      <th>64611</th>\n      <td>3118589</td>\n      <td>NaN</td>\n      <td>NaN</td>\n      <td>OK</td>\n      <td>Major County</td>\n      <td>40093</td>\n      <td>Maverick Wind</td>\n      <td>2021.0</td>\n      <td>1</td>\n      <td>2.820</td>\n      <td>...</td>\n      <td>127.0</td>\n      <td>12667.69</td>\n      <td>152.5</td>\n      <td>0</td>\n      <td>1</td>\n      <td>1</td>\n      <td>20/08/2020</td>\n      <td>Digital Globe</td>\n      <td>-98.159561</td>\n      <td>36.210938</td>\n    </tr>\n    <tr>\n      <th>64612</th>\n      <td>3118614</td>\n      <td>NaN</td>\n      <td>NaN</td>\n      <td>TX</td>\n      <td>Knox County</td>\n      <td>48275</td>\n      <td>Griffin Trail Wind</td>\n      <td>2021.0</td>\n      <td>80</td>\n      <td>225.600</td>\n      <td>...</td>\n      <td>127.0</td>\n      <td>12667.69</td>\n      <td>152.5</td>\n      <td>0</td>\n      <td>1</td>\n      <td>3</td>\n      <td>2021-05-08 00:00:00</td>\n      <td>Digital Globe</td>\n      <td>-99.667862</td>\n      <td>33.582405</td>\n    </tr>\n  </tbody>\n</table>\n<p>64613 rows × 24 columns</p>\n</div>"
     },
     "execution_count": 4,
     "metadata": {},
     "output_type": "execute_result"
    }
   ],
   "source": [
    "operators = pd.read_csv('eia923_operators.csv')\n",
    "\n",
    "excel_file_path = 'TurbinesData-will.xlsx'\n",
    "sheet_name = 'CLEAN Wind Turbine Data' \n",
    "turbines = pd.read_excel(excel_file_path, sheet_name)\n",
    "\n",
    "turbines"
   ],
   "metadata": {
    "collapsed": false,
    "ExecuteTime": {
     "end_time": "2024-01-23T23:09:41.456265200Z",
     "start_time": "2024-01-23T23:08:43.220651700Z"
    }
   },
   "id": "d1920541a603a743"
  },
  {
   "cell_type": "code",
   "execution_count": null,
   "outputs": [],
   "source": [],
   "metadata": {
    "collapsed": false
   },
   "id": "1c1d8da685f49fd5"
  },
  {
   "cell_type": "markdown",
   "source": [
    "### left join turbines and operators"
   ],
   "metadata": {
    "collapsed": false
   },
   "id": "1bc5f7be2f46e911"
  },
  {
   "cell_type": "code",
   "execution_count": 5,
   "outputs": [
    {
     "data": {
      "text/plain": "       case_id  usgs_pr_id   eia_id t_state            t_county  t_fips  \\\n0      3000016     15543.0  50535.0      CA    Riverside County    6065   \n1      3000020      1944.0      NaN      AK  Bethel Census Area    2050   \n2      3000039     15579.0  50535.0      CA    Riverside County    6065   \n3      3000055     15645.0  50535.0      CA    Riverside County    6065   \n4      3000086     15221.0  50281.0      CA    Riverside County    6065   \n...        ...         ...      ...     ...                 ...     ...   \n65623  3118511         NaN      NaN      WY       Carbon County   56007   \n65624  3118515         NaN      NaN      WY       Carbon County   56007   \n65625  3118556         NaN      NaN      WY       Carbon County   56007   \n65626  3118589         NaN      NaN      OK        Major County   40093   \n65627  3118614         NaN      NaN      TX         Knox County   48275   \n\n                             p_name  p_year  p_tnum    p_cap  ...  \\\n0                    Mesa Wind Farm  1983.0     460   30.000  ...   \n1                       Tuntutuliak  2012.0       5    0.475  ...   \n2                    Mesa Wind Farm  1983.0     460   30.000  ...   \n3                    Mesa Wind Farm  1983.0     460   30.000  ...   \n4      San Gorgonio Farms Wind Farm  2008.0     147   31.000  ...   \n...                             ...     ...     ...      ...  ...   \n65623               TB Flats I & II  2021.0     132  503.200  ...   \n65624               TB Flats I & II  2021.0     132  503.200  ...   \n65625               TB Flats I & II  2021.0     132  503.200  ...   \n65626                 Maverick Wind  2021.0       1    2.820  ...   \n65627            Griffin Trail Wind  2021.0      80  225.600  ...   \n\n      netgen_september netgen_october  netgen_november  netgen_december  \\\n0                 48.0           52.0             40.0             39.0   \n1                  NaN            NaN              NaN              NaN   \n2                 48.0           52.0             40.0             39.0   \n3                 48.0           52.0             40.0             39.0   \n4               5049.0         5501.0           4210.0           4134.0   \n...                ...            ...              ...              ...   \n65623              NaN            NaN              NaN              NaN   \n65624              NaN            NaN              NaN              NaN   \n65625              NaN            NaN              NaN              NaN   \n65626              NaN            NaN              NaN              NaN   \n65627              NaN            NaN              NaN              NaN   \n\n       total_fuel_consumption_quantity  electric_fuel_consumption_quantity  \\\n0                                  0.0                                 0.0   \n1                                  NaN                                 NaN   \n2                                  0.0                                 0.0   \n3                                  0.0                                 0.0   \n4                                  0.0                                 0.0   \n...                                ...                                 ...   \n65623                              NaN                                 NaN   \n65624                              NaN                                 NaN   \n65625                              NaN                                 NaN   \n65626                              NaN                                 NaN   \n65627                              NaN                                 NaN   \n\n       total_fuel_consumption_mm_btu  elec_fuel_consumption_mm_btu  \\\n0                             7124.0                        7124.0   \n1                                NaN                           NaN   \n2                             7124.0                        7124.0   \n3                             7124.0                        7124.0   \n4                           754303.0                      754303.0   \n...                              ...                           ...   \n65623                            NaN                           NaN   \n65624                            NaN                           NaN   \n65625                            NaN                           NaN   \n65626                            NaN                           NaN   \n65627                            NaN                           NaN   \n\n       net_generation_megawatthours    year  \n0                             812.0  2020.0  \n1                               NaN     NaN  \n2                             812.0  2020.0  \n3                             812.0  2020.0  \n4                           85980.0  2020.0  \n...                             ...     ...  \n65623                           NaN     NaN  \n65624                           NaN     NaN  \n65625                           NaN     NaN  \n65626                           NaN     NaN  \n65627                           NaN     NaN  \n\n[65628 rows x 121 columns]",
      "text/html": "<div>\n<style scoped>\n    .dataframe tbody tr th:only-of-type {\n        vertical-align: middle;\n    }\n\n    .dataframe tbody tr th {\n        vertical-align: top;\n    }\n\n    .dataframe thead th {\n        text-align: right;\n    }\n</style>\n<table border=\"1\" class=\"dataframe\">\n  <thead>\n    <tr style=\"text-align: right;\">\n      <th></th>\n      <th>case_id</th>\n      <th>usgs_pr_id</th>\n      <th>eia_id</th>\n      <th>t_state</th>\n      <th>t_county</th>\n      <th>t_fips</th>\n      <th>p_name</th>\n      <th>p_year</th>\n      <th>p_tnum</th>\n      <th>p_cap</th>\n      <th>...</th>\n      <th>netgen_september</th>\n      <th>netgen_october</th>\n      <th>netgen_november</th>\n      <th>netgen_december</th>\n      <th>total_fuel_consumption_quantity</th>\n      <th>electric_fuel_consumption_quantity</th>\n      <th>total_fuel_consumption_mm_btu</th>\n      <th>elec_fuel_consumption_mm_btu</th>\n      <th>net_generation_megawatthours</th>\n      <th>year</th>\n    </tr>\n  </thead>\n  <tbody>\n    <tr>\n      <th>0</th>\n      <td>3000016</td>\n      <td>15543.0</td>\n      <td>50535.0</td>\n      <td>CA</td>\n      <td>Riverside County</td>\n      <td>6065</td>\n      <td>Mesa Wind Farm</td>\n      <td>1983.0</td>\n      <td>460</td>\n      <td>30.000</td>\n      <td>...</td>\n      <td>48.0</td>\n      <td>52.0</td>\n      <td>40.0</td>\n      <td>39.0</td>\n      <td>0.0</td>\n      <td>0.0</td>\n      <td>7124.0</td>\n      <td>7124.0</td>\n      <td>812.0</td>\n      <td>2020.0</td>\n    </tr>\n    <tr>\n      <th>1</th>\n      <td>3000020</td>\n      <td>1944.0</td>\n      <td>NaN</td>\n      <td>AK</td>\n      <td>Bethel Census Area</td>\n      <td>2050</td>\n      <td>Tuntutuliak</td>\n      <td>2012.0</td>\n      <td>5</td>\n      <td>0.475</td>\n      <td>...</td>\n      <td>NaN</td>\n      <td>NaN</td>\n      <td>NaN</td>\n      <td>NaN</td>\n      <td>NaN</td>\n      <td>NaN</td>\n      <td>NaN</td>\n      <td>NaN</td>\n      <td>NaN</td>\n      <td>NaN</td>\n    </tr>\n    <tr>\n      <th>2</th>\n      <td>3000039</td>\n      <td>15579.0</td>\n      <td>50535.0</td>\n      <td>CA</td>\n      <td>Riverside County</td>\n      <td>6065</td>\n      <td>Mesa Wind Farm</td>\n      <td>1983.0</td>\n      <td>460</td>\n      <td>30.000</td>\n      <td>...</td>\n      <td>48.0</td>\n      <td>52.0</td>\n      <td>40.0</td>\n      <td>39.0</td>\n      <td>0.0</td>\n      <td>0.0</td>\n      <td>7124.0</td>\n      <td>7124.0</td>\n      <td>812.0</td>\n      <td>2020.0</td>\n    </tr>\n    <tr>\n      <th>3</th>\n      <td>3000055</td>\n      <td>15645.0</td>\n      <td>50535.0</td>\n      <td>CA</td>\n      <td>Riverside County</td>\n      <td>6065</td>\n      <td>Mesa Wind Farm</td>\n      <td>1983.0</td>\n      <td>460</td>\n      <td>30.000</td>\n      <td>...</td>\n      <td>48.0</td>\n      <td>52.0</td>\n      <td>40.0</td>\n      <td>39.0</td>\n      <td>0.0</td>\n      <td>0.0</td>\n      <td>7124.0</td>\n      <td>7124.0</td>\n      <td>812.0</td>\n      <td>2020.0</td>\n    </tr>\n    <tr>\n      <th>4</th>\n      <td>3000086</td>\n      <td>15221.0</td>\n      <td>50281.0</td>\n      <td>CA</td>\n      <td>Riverside County</td>\n      <td>6065</td>\n      <td>San Gorgonio Farms Wind Farm</td>\n      <td>2008.0</td>\n      <td>147</td>\n      <td>31.000</td>\n      <td>...</td>\n      <td>5049.0</td>\n      <td>5501.0</td>\n      <td>4210.0</td>\n      <td>4134.0</td>\n      <td>0.0</td>\n      <td>0.0</td>\n      <td>754303.0</td>\n      <td>754303.0</td>\n      <td>85980.0</td>\n      <td>2020.0</td>\n    </tr>\n    <tr>\n      <th>...</th>\n      <td>...</td>\n      <td>...</td>\n      <td>...</td>\n      <td>...</td>\n      <td>...</td>\n      <td>...</td>\n      <td>...</td>\n      <td>...</td>\n      <td>...</td>\n      <td>...</td>\n      <td>...</td>\n      <td>...</td>\n      <td>...</td>\n      <td>...</td>\n      <td>...</td>\n      <td>...</td>\n      <td>...</td>\n      <td>...</td>\n      <td>...</td>\n      <td>...</td>\n      <td>...</td>\n    </tr>\n    <tr>\n      <th>65623</th>\n      <td>3118511</td>\n      <td>NaN</td>\n      <td>NaN</td>\n      <td>WY</td>\n      <td>Carbon County</td>\n      <td>56007</td>\n      <td>TB Flats I &amp; II</td>\n      <td>2021.0</td>\n      <td>132</td>\n      <td>503.200</td>\n      <td>...</td>\n      <td>NaN</td>\n      <td>NaN</td>\n      <td>NaN</td>\n      <td>NaN</td>\n      <td>NaN</td>\n      <td>NaN</td>\n      <td>NaN</td>\n      <td>NaN</td>\n      <td>NaN</td>\n      <td>NaN</td>\n    </tr>\n    <tr>\n      <th>65624</th>\n      <td>3118515</td>\n      <td>NaN</td>\n      <td>NaN</td>\n      <td>WY</td>\n      <td>Carbon County</td>\n      <td>56007</td>\n      <td>TB Flats I &amp; II</td>\n      <td>2021.0</td>\n      <td>132</td>\n      <td>503.200</td>\n      <td>...</td>\n      <td>NaN</td>\n      <td>NaN</td>\n      <td>NaN</td>\n      <td>NaN</td>\n      <td>NaN</td>\n      <td>NaN</td>\n      <td>NaN</td>\n      <td>NaN</td>\n      <td>NaN</td>\n      <td>NaN</td>\n    </tr>\n    <tr>\n      <th>65625</th>\n      <td>3118556</td>\n      <td>NaN</td>\n      <td>NaN</td>\n      <td>WY</td>\n      <td>Carbon County</td>\n      <td>56007</td>\n      <td>TB Flats I &amp; II</td>\n      <td>2021.0</td>\n      <td>132</td>\n      <td>503.200</td>\n      <td>...</td>\n      <td>NaN</td>\n      <td>NaN</td>\n      <td>NaN</td>\n      <td>NaN</td>\n      <td>NaN</td>\n      <td>NaN</td>\n      <td>NaN</td>\n      <td>NaN</td>\n      <td>NaN</td>\n      <td>NaN</td>\n    </tr>\n    <tr>\n      <th>65626</th>\n      <td>3118589</td>\n      <td>NaN</td>\n      <td>NaN</td>\n      <td>OK</td>\n      <td>Major County</td>\n      <td>40093</td>\n      <td>Maverick Wind</td>\n      <td>2021.0</td>\n      <td>1</td>\n      <td>2.820</td>\n      <td>...</td>\n      <td>NaN</td>\n      <td>NaN</td>\n      <td>NaN</td>\n      <td>NaN</td>\n      <td>NaN</td>\n      <td>NaN</td>\n      <td>NaN</td>\n      <td>NaN</td>\n      <td>NaN</td>\n      <td>NaN</td>\n    </tr>\n    <tr>\n      <th>65627</th>\n      <td>3118614</td>\n      <td>NaN</td>\n      <td>NaN</td>\n      <td>TX</td>\n      <td>Knox County</td>\n      <td>48275</td>\n      <td>Griffin Trail Wind</td>\n      <td>2021.0</td>\n      <td>80</td>\n      <td>225.600</td>\n      <td>...</td>\n      <td>NaN</td>\n      <td>NaN</td>\n      <td>NaN</td>\n      <td>NaN</td>\n      <td>NaN</td>\n      <td>NaN</td>\n      <td>NaN</td>\n      <td>NaN</td>\n      <td>NaN</td>\n      <td>NaN</td>\n    </tr>\n  </tbody>\n</table>\n<p>65628 rows × 121 columns</p>\n</div>"
     },
     "execution_count": 5,
     "metadata": {},
     "output_type": "execute_result"
    }
   ],
   "source": [
    "# do a left join turbines --> operators \n",
    "# turbines['eia_id'] --> operators['plant_id']\n",
    "\n",
    "\n",
    "turbines_operators = pd.merge(turbines,operators, left_on='eia_id', right_on='plant_id', how='left')\n",
    "turbines_operators"
   ],
   "metadata": {
    "collapsed": false,
    "ExecuteTime": {
     "end_time": "2024-01-23T23:33:38.695642800Z",
     "start_time": "2024-01-23T23:33:38.534319Z"
    }
   },
   "id": "2d71f4ec83511e17"
  },
  {
   "cell_type": "markdown",
   "source": [
    "### if we did an inner join... "
   ],
   "metadata": {
    "collapsed": false
   },
   "id": "3ead3c11953d5c1b"
  },
  {
   "cell_type": "code",
   "execution_count": 20,
   "outputs": [
    {
     "data": {
      "text/plain": "       case_id  usgs_pr_id   eia_id t_state          t_county  t_fips  \\\n0      3000016     15543.0  50535.0      CA  Riverside County    6065   \n1      3000039     15579.0  50535.0      CA  Riverside County    6065   \n2      3000055     15645.0  50535.0      CA  Riverside County    6065   \n3      3000129     15606.0  50535.0      CA  Riverside County    6065   \n4      3000146     15597.0  50535.0      CA  Riverside County    6065   \n...        ...         ...      ...     ...               ...     ...   \n61888  3110862         NaN  56302.0      CA       Kern County    6029   \n61889  3110863         NaN  56302.0      CA       Kern County    6029   \n61890  3110864         NaN  56302.0      CA       Kern County    6029   \n61891  3113164         NaN  56302.0      CA       Kern County    6029   \n61892  3115253         NaN  55607.0      WY     Carbon County   56007   \n\n                      p_name  p_year  p_tnum  p_cap  ... netgen_september  \\\n0             Mesa Wind Farm  1983.0     460   30.0  ...             48.0   \n1             Mesa Wind Farm  1983.0     460   30.0  ...             48.0   \n2             Mesa Wind Farm  1983.0     460   30.0  ...             48.0   \n3             Mesa Wind Farm  1983.0     460   30.0  ...             48.0   \n4             Mesa Wind Farm  1983.0     460   30.0  ...             48.0   \n...                      ...     ...     ...    ...  ...              ...   \n61888       Oasis Repowering  2020.0      21   72.0  ...           4815.0   \n61889       Oasis Repowering  2020.0      21   72.0  ...           4815.0   \n61890       Oasis Repowering  2020.0      21   72.0  ...           4815.0   \n61891       Oasis Repowering  2020.0      21   72.0  ...           4815.0   \n61892  Foote Creek I Repower  2021.0       1    4.2  ...           2335.0   \n\n      netgen_october  netgen_november  netgen_december  \\\n0               52.0             40.0             39.0   \n1               52.0             40.0             39.0   \n2               52.0             40.0             39.0   \n3               52.0             40.0             39.0   \n4               52.0             40.0             39.0   \n...              ...              ...              ...   \n61888         5246.0           4015.0           3943.0   \n61889         5246.0           4015.0           3943.0   \n61890         5246.0           4015.0           3943.0   \n61891         5246.0           4015.0           3943.0   \n61892         4009.0           5908.0           6296.0   \n\n       total_fuel_consumption_quantity  electric_fuel_consumption_quantity  \\\n0                                    0                                   0   \n1                                    0                                   0   \n2                                    0                                   0   \n3                                    0                                   0   \n4                                    0                                   0   \n...                                ...                                 ...   \n61888                                0                                   0   \n61889                                0                                   0   \n61890                                0                                   0   \n61891                                0                                   0   \n61892                                0                                   0   \n\n       total_fuel_consumption_mm_btu  elec_fuel_consumption_mm_btu  \\\n0                               7124                          7124   \n1                               7124                          7124   \n2                               7124                          7124   \n3                               7124                          7124   \n4                               7124                          7124   \n...                              ...                           ...   \n61888                         719306                        719306   \n61889                         719306                        719306   \n61890                         719306                        719306   \n61891                         719306                        719306   \n61892                         431596                        431596   \n\n       net_generation_megawatthours  year  \n0                             812.0  2020  \n1                             812.0  2020  \n2                             812.0  2020  \n3                             812.0  2020  \n4                             812.0  2020  \n...                             ...   ...  \n61888                       81991.0  2020  \n61889                       81991.0  2020  \n61890                       81991.0  2020  \n61891                       81991.0  2020  \n61892                       49196.0  2020  \n\n[61893 rows x 121 columns]",
      "text/html": "<div>\n<style scoped>\n    .dataframe tbody tr th:only-of-type {\n        vertical-align: middle;\n    }\n\n    .dataframe tbody tr th {\n        vertical-align: top;\n    }\n\n    .dataframe thead th {\n        text-align: right;\n    }\n</style>\n<table border=\"1\" class=\"dataframe\">\n  <thead>\n    <tr style=\"text-align: right;\">\n      <th></th>\n      <th>case_id</th>\n      <th>usgs_pr_id</th>\n      <th>eia_id</th>\n      <th>t_state</th>\n      <th>t_county</th>\n      <th>t_fips</th>\n      <th>p_name</th>\n      <th>p_year</th>\n      <th>p_tnum</th>\n      <th>p_cap</th>\n      <th>...</th>\n      <th>netgen_september</th>\n      <th>netgen_october</th>\n      <th>netgen_november</th>\n      <th>netgen_december</th>\n      <th>total_fuel_consumption_quantity</th>\n      <th>electric_fuel_consumption_quantity</th>\n      <th>total_fuel_consumption_mm_btu</th>\n      <th>elec_fuel_consumption_mm_btu</th>\n      <th>net_generation_megawatthours</th>\n      <th>year</th>\n    </tr>\n  </thead>\n  <tbody>\n    <tr>\n      <th>0</th>\n      <td>3000016</td>\n      <td>15543.0</td>\n      <td>50535.0</td>\n      <td>CA</td>\n      <td>Riverside County</td>\n      <td>6065</td>\n      <td>Mesa Wind Farm</td>\n      <td>1983.0</td>\n      <td>460</td>\n      <td>30.0</td>\n      <td>...</td>\n      <td>48.0</td>\n      <td>52.0</td>\n      <td>40.0</td>\n      <td>39.0</td>\n      <td>0</td>\n      <td>0</td>\n      <td>7124</td>\n      <td>7124</td>\n      <td>812.0</td>\n      <td>2020</td>\n    </tr>\n    <tr>\n      <th>1</th>\n      <td>3000039</td>\n      <td>15579.0</td>\n      <td>50535.0</td>\n      <td>CA</td>\n      <td>Riverside County</td>\n      <td>6065</td>\n      <td>Mesa Wind Farm</td>\n      <td>1983.0</td>\n      <td>460</td>\n      <td>30.0</td>\n      <td>...</td>\n      <td>48.0</td>\n      <td>52.0</td>\n      <td>40.0</td>\n      <td>39.0</td>\n      <td>0</td>\n      <td>0</td>\n      <td>7124</td>\n      <td>7124</td>\n      <td>812.0</td>\n      <td>2020</td>\n    </tr>\n    <tr>\n      <th>2</th>\n      <td>3000055</td>\n      <td>15645.0</td>\n      <td>50535.0</td>\n      <td>CA</td>\n      <td>Riverside County</td>\n      <td>6065</td>\n      <td>Mesa Wind Farm</td>\n      <td>1983.0</td>\n      <td>460</td>\n      <td>30.0</td>\n      <td>...</td>\n      <td>48.0</td>\n      <td>52.0</td>\n      <td>40.0</td>\n      <td>39.0</td>\n      <td>0</td>\n      <td>0</td>\n      <td>7124</td>\n      <td>7124</td>\n      <td>812.0</td>\n      <td>2020</td>\n    </tr>\n    <tr>\n      <th>3</th>\n      <td>3000129</td>\n      <td>15606.0</td>\n      <td>50535.0</td>\n      <td>CA</td>\n      <td>Riverside County</td>\n      <td>6065</td>\n      <td>Mesa Wind Farm</td>\n      <td>1983.0</td>\n      <td>460</td>\n      <td>30.0</td>\n      <td>...</td>\n      <td>48.0</td>\n      <td>52.0</td>\n      <td>40.0</td>\n      <td>39.0</td>\n      <td>0</td>\n      <td>0</td>\n      <td>7124</td>\n      <td>7124</td>\n      <td>812.0</td>\n      <td>2020</td>\n    </tr>\n    <tr>\n      <th>4</th>\n      <td>3000146</td>\n      <td>15597.0</td>\n      <td>50535.0</td>\n      <td>CA</td>\n      <td>Riverside County</td>\n      <td>6065</td>\n      <td>Mesa Wind Farm</td>\n      <td>1983.0</td>\n      <td>460</td>\n      <td>30.0</td>\n      <td>...</td>\n      <td>48.0</td>\n      <td>52.0</td>\n      <td>40.0</td>\n      <td>39.0</td>\n      <td>0</td>\n      <td>0</td>\n      <td>7124</td>\n      <td>7124</td>\n      <td>812.0</td>\n      <td>2020</td>\n    </tr>\n    <tr>\n      <th>...</th>\n      <td>...</td>\n      <td>...</td>\n      <td>...</td>\n      <td>...</td>\n      <td>...</td>\n      <td>...</td>\n      <td>...</td>\n      <td>...</td>\n      <td>...</td>\n      <td>...</td>\n      <td>...</td>\n      <td>...</td>\n      <td>...</td>\n      <td>...</td>\n      <td>...</td>\n      <td>...</td>\n      <td>...</td>\n      <td>...</td>\n      <td>...</td>\n      <td>...</td>\n      <td>...</td>\n    </tr>\n    <tr>\n      <th>61888</th>\n      <td>3110862</td>\n      <td>NaN</td>\n      <td>56302.0</td>\n      <td>CA</td>\n      <td>Kern County</td>\n      <td>6029</td>\n      <td>Oasis Repowering</td>\n      <td>2020.0</td>\n      <td>21</td>\n      <td>72.0</td>\n      <td>...</td>\n      <td>4815.0</td>\n      <td>5246.0</td>\n      <td>4015.0</td>\n      <td>3943.0</td>\n      <td>0</td>\n      <td>0</td>\n      <td>719306</td>\n      <td>719306</td>\n      <td>81991.0</td>\n      <td>2020</td>\n    </tr>\n    <tr>\n      <th>61889</th>\n      <td>3110863</td>\n      <td>NaN</td>\n      <td>56302.0</td>\n      <td>CA</td>\n      <td>Kern County</td>\n      <td>6029</td>\n      <td>Oasis Repowering</td>\n      <td>2020.0</td>\n      <td>21</td>\n      <td>72.0</td>\n      <td>...</td>\n      <td>4815.0</td>\n      <td>5246.0</td>\n      <td>4015.0</td>\n      <td>3943.0</td>\n      <td>0</td>\n      <td>0</td>\n      <td>719306</td>\n      <td>719306</td>\n      <td>81991.0</td>\n      <td>2020</td>\n    </tr>\n    <tr>\n      <th>61890</th>\n      <td>3110864</td>\n      <td>NaN</td>\n      <td>56302.0</td>\n      <td>CA</td>\n      <td>Kern County</td>\n      <td>6029</td>\n      <td>Oasis Repowering</td>\n      <td>2020.0</td>\n      <td>21</td>\n      <td>72.0</td>\n      <td>...</td>\n      <td>4815.0</td>\n      <td>5246.0</td>\n      <td>4015.0</td>\n      <td>3943.0</td>\n      <td>0</td>\n      <td>0</td>\n      <td>719306</td>\n      <td>719306</td>\n      <td>81991.0</td>\n      <td>2020</td>\n    </tr>\n    <tr>\n      <th>61891</th>\n      <td>3113164</td>\n      <td>NaN</td>\n      <td>56302.0</td>\n      <td>CA</td>\n      <td>Kern County</td>\n      <td>6029</td>\n      <td>Oasis Repowering</td>\n      <td>2020.0</td>\n      <td>21</td>\n      <td>72.0</td>\n      <td>...</td>\n      <td>4815.0</td>\n      <td>5246.0</td>\n      <td>4015.0</td>\n      <td>3943.0</td>\n      <td>0</td>\n      <td>0</td>\n      <td>719306</td>\n      <td>719306</td>\n      <td>81991.0</td>\n      <td>2020</td>\n    </tr>\n    <tr>\n      <th>61892</th>\n      <td>3115253</td>\n      <td>NaN</td>\n      <td>55607.0</td>\n      <td>WY</td>\n      <td>Carbon County</td>\n      <td>56007</td>\n      <td>Foote Creek I Repower</td>\n      <td>2021.0</td>\n      <td>1</td>\n      <td>4.2</td>\n      <td>...</td>\n      <td>2335.0</td>\n      <td>4009.0</td>\n      <td>5908.0</td>\n      <td>6296.0</td>\n      <td>0</td>\n      <td>0</td>\n      <td>431596</td>\n      <td>431596</td>\n      <td>49196.0</td>\n      <td>2020</td>\n    </tr>\n  </tbody>\n</table>\n<p>61893 rows × 121 columns</p>\n</div>"
     },
     "execution_count": 20,
     "metadata": {},
     "output_type": "execute_result"
    }
   ],
   "source": [
    "# do innwe join turbines --> operators \n",
    "# turbines['eia_id'] --> operators['plant_id']\n",
    "\n",
    "\n",
    "turbines_operators_inner = pd.merge(turbines,operators, left_on='eia_id', right_on='plant_id', how='inner')\n",
    "turbines_operators_inner"
   ],
   "metadata": {
    "collapsed": false,
    "ExecuteTime": {
     "end_time": "2024-01-24T01:24:49.162205100Z",
     "start_time": "2024-01-24T01:24:49.006731Z"
    }
   },
   "id": "3bc42baac443d447"
  },
  {
   "cell_type": "markdown",
   "source": [
    "### export to csv"
   ],
   "metadata": {
    "collapsed": false
   },
   "id": "7d9874adb426458b"
  },
  {
   "cell_type": "code",
   "execution_count": 7,
   "outputs": [],
   "source": [
    "turbines_operators_inner.to_csv('turbines_cleaned_operator.csv', index=False)"
   ],
   "metadata": {
    "collapsed": false,
    "ExecuteTime": {
     "end_time": "2024-01-23T23:47:40.222223100Z",
     "start_time": "2024-01-23T23:47:37.040259100Z"
    }
   },
   "id": "da1591efdb4fc8ca"
  },
  {
   "cell_type": "markdown",
   "source": [
    "### find unique operators"
   ],
   "metadata": {
    "collapsed": false
   },
   "id": "b7370393763c106a"
  },
  {
   "cell_type": "code",
   "execution_count": 8,
   "outputs": [
    {
     "data": {
      "text/plain": "array(['Brookfield Renewable Trading and Marketing LP',\n       'San Gorgonio Farms Inc', 'Terra-Gen Operating Co-Wind',\n       'Allete Clean Energy', 'Pattern Operators LP',\n       'AE Power Services LLC', 'Eurus Combine Hills I LLC',\n       'Shell Wind Energy Inc.', 'GlidePath Power Operations LLC',\n       'Kotzebue Electric Assn Inc', 'AES Wind Generation Inc',\n       'Avangrid Renewables LLC', 'Sherbino II Wind Farm LLC',\n       'Meadow Lake Wind Farm LLC', 'Oak Creek Energy System Inc II',\n       'Pleasant Hill Wind Energy LLC', 'Green Mountain Power Corp',\n       'Alaska Village Elec Coop, Inc', 'Madison Gas & Electric Co',\n       'FPL Energy Green Power', 'FPLE High Winds, LLC', 'GL Wind LLC',\n       'Marshall Wind Farm, LLC', 'NRG Energy Gas & Wind Holdings Inc',\n       'Grant County Wind, LLC', 'RWE Renewables Americas LLC',\n       'EDF Renewable Asset Holdings, Inc.', 'Whitetail Wind Energy, LLC',\n       'Town of Princeton - (MA)', 'Harbec Energy',\n       'EDF Renewable Services Inc', 'Orion Energy Group LLC',\n       'Steele Flats Wind Project LLC', 'Cirrus Wind 1 LLC',\n       'Algonquin Power Co', 'Performance Services',\n       'NextEra Energy Operating Services LLC',\n       'Northern States Power Co - Minnesota', 'Flat Rock Windpower, LLC',\n       'Leeward Asset Management, LLC', 'ESI Vansycle Partners LP',\n       'City of Moorhead - (MN)', 'Longroad Energy Services LLC',\n       'CHI Energy Inc', 'CHI Operations Inc',\n       'Black Hills Electric Generation LLC',\n       'Gray County Wind Energy LLC', 'Kas Brothers Windfarm LLC',\n       'RENEW Energy Inc', 'Garwin McNeilus', 'FPL Energy Vansycle LLC',\n       'Energy Northwest', 'Westridge Windfarm LLC',\n       'Community Renewables, LLC', 'City of Worthington - (MN)',\n       'Midwest Power Partners LLC', 'Llano Estacado Wind Ranch',\n       'Texico Wind LP', 'Sacramento Municipal Util Dist',\n       'City of Lenox - (IA)', 'FPL Energy South Dakota Wind LLC',\n       'FPL Energy North Dakota Wind LLC',\n       'Southern Minnesota Mun P Agny',\n       'Consolidated Edison Development Inc.', 'Carleton College',\n       'American Mun Power-Ohio, Inc', 'City of Lamar - (CO)',\n       'Invenergy Services LLC', 'Aeolus Wind LLC',\n       'Blue Canyon Windpower LLC', 'Iowa Lakes Community College',\n       'MidAmerican Energy Co', 'Rock County Energy Center, LLC',\n       'Hull Municipal Light Plant',\n       'Greenbacker Renewable Energy Corporation',\n       'Puget Sound Energy Inc', 'Cycle Power Partners',\n       'FPL Energy Weatherford, LLC', 'Blue Canyon Windpower II LLC',\n       'Evergreen Wind, LLC', 'City of Stuart - (IA)',\n       'Nebraska Public Power District', 'Acciona Wind Energy USA LLC',\n       'Eastridge Wind Project', 'Moore 1',\n       'FPL Energy Burleigh County Wind LLC',\n       'Wisconsin Public Service Corp', 'Massachusetts Wtr Rauth-Deer I',\n       'Snyder Wind Farm LLC', 'Mesquite Wind LLC',\n       'NedPower Mt Storm LLC', 'Valcour Operating Services, LLC',\n       'Longroad Energy Services 2', 'Duke Energy DEGS North Allegheny',\n       'Old Trail Wind Farm LLC', 'FPL Energy Oliver County Wind',\n       'High Trail Wind Farm LLC', 'FPL Energy Mower County LLC',\n       'Ewington Wind Project', 'Wisconsin Power & Light Co',\n       'Harvest Windfarm, LLC', 'Basin Electric Power Coop',\n       'White Creek Wind 1 LLC', 'PacifiCorp',\n       'FPL Peetz Table Wind Energy', 'Telocaset Wind Power Partners',\n       'Threemile Canyon Wind I, LLC', 'Whirlwind Energy LLC',\n       'Oklahoma Gas & Electric Co', 'High Plains Wind Power LLC',\n       'PYCO Industries, Inc.', 'Duke Energy DEGS Ocotillo',\n       'Apollo Energy Corp', 'CalWind Resources Inc',\n       'Kodiak Electric Assn Inc', 'Evergy Kansas Central, Inc',\n       'Smoky Hills Wind Farm I LLC', 'Evergy Metro',\n       'Cloud County Windfarm, LLC', 'Smoky Hills Wind Project II LLC',\n       'Madison Windpower LLC', 'High Prairie Wind Farm II LLC',\n       'FPL Energy Oliver County Wind II LLC', 'FPC Services Inc.',\n       'AgriWind Project, LLC', 'Otter Tail Power Co',\n       'Butler Ridge Wind Energy Center', 'Logan Wind Energy LLC',\n       'Montana-Dakota Utilities Co', 'Bennett Creek Windfarm LLC',\n       'Hot Springs Windfarm, LLC', 'Portland General Electric Co',\n       'Arlington Wind Power Project LLC',\n       'Wheat Field Wind Power Project LLC',\n       'NextEra Energy Majestic Wind', 'Sherbino Mesa I Windfarm LLC',\n       'Bull Creek Wind LLC', 'Silver Star I Power Partners LLC',\n       'Hackberry Wind LLC', 'Mesalands Community College',\n       'FPL Energy Crystal Lake Wind II LLC',\n       'Pioneer Prairie Wind Farm I, LLC',\n       'Waverly Municipal Elec Utility',\n       'Exus North America Management Partners LLC',\n       'Rail Splitter Wind Farm LLC', 'DTE Sustainable Generation',\n       'Cassia Wind Farm, LLC', 'Cassia Gulch Wind Park, LLC',\n       'NaturEner Glacier Wind Energy 1 LLC',\n       'NaturEner Glacier Wind Energy 2 LLC',\n       'Turlock Irrigation District', 'Echo 1', 'Echo 3',\n       'NextEra Wolf Ridge LLC', 'Great Plains Windpark Legacy LLC',\n       'Duke Energy DEGS Notrees', 'NRG Energy Inc',\n       'Los Angeles Department of Water & Power',\n       'Iowa Lakes Electric Coop', 'Notus Clean Energy LLC',\n       'Blackstone Wind Farm LLC', 'Michigan Wind 1, LLC',\n       'Massachusetts Mun Wholes Electric Co',\n       'Interstate Power and Light Co',\n       'Diamond Shamrock Refining Company LP', 'DeWind Co.',\n       'Langford Wind Power LLC', 'Windy Flats Partners LLC',\n       'Coastal Community Action Program', 'Duke Energy DEGS Happy Jack',\n       'Duke Energy DEGS Silver Sage Wndpwr LLC',\n       'Harbor Wind Tenant LLC', 'Chevron USA',\n       'Loraine Windpower Project', 'Northern Colorado Wind LLC',\n       'Red Marlin Wind Ventures, LLC', 'NaturEner Rim Rock Energy LLC',\n       'PaTu Wind Farm LLC', 'Eurus Combine Hills II LLC',\n       'Ashtabula Wind II LLC', 'Day County Wind LLC',\n       'First State Marine Wind', 'FPL Energy Illinois Wind LLC',\n       'Garden Wind LLC', 'FPL Energy Story Wind LLC',\n       'Wisconsin Electric Power Co', 'Greensburg Wind Farm, LLC',\n       'Meadow Lake Wind Farm III LLC', 'Meadow Lake Wind Farm IV LLC',\n       'Blackstone Wind Farm II LLC', 'Lost Lakes Wind Farm LLC',\n       'Willmar Municipal Utilities', 'Granite Reliable Power',\n       'Fox Island Wind LLC', 'Helix Maine Wind Development, LLC',\n       'White Oak Energy LLC', 'Meadow Lake Wind Farm II LLC',\n       'City of Osage - (IA)', 'Loess Hills Wind Farm LLC',\n       'Cow Branch Wind Power, LLC', 'CR Clearing, LLC',\n       'Wind Capital Holdings, LLC', 'Oak Leaf Solar V LLC',\n       'Crystal Lake 3 LLC', 'ALLETE, Inc.', 'Winona County Wind LLC',\n       'Criterion Power Partners LLC', 'Lincoln Electric Company',\n       'Duke Energy DEGS Campbell Hill', 'Harvest Wind Project TIC',\n       'Duke Energy Top Of the World WindPower',\n       'Kit Carson Windpower LLC', 'Axium Arizona Renewables, LLC',\n       'FPL Energy Stateline II Inc', 'Nome Joint Utility Systems',\n       'Blue Canyon Windpower V LLC', 'Elk City LLC',\n       'Sagebrush Power Partners, LLC', 'Alaska Environmental Power',\n       'Unalakleet Valley Elec Coop', 'NRG Yield LLC', 'Pantex (NNSA)',\n       'Vestas Towers America, Inc', 'Cedar Point LLC',\n       'Caithness Shepherds Flat LLC', 'Echo 2',\n       'Milford Wind Corridor Stage II LLC', 'Shirley Wind LLC',\n       'BEAM US, LLC', 'Dept of Corrections NCCI Wind',\n       'Consumers Energy Co', 'EPP Renewable Energy',\n       'Paulding Wind Farm II LLC', 'Philips Lightolier',\n       'Bulldog Wind Energy, LLC', 'Bluestem LLC', 'Marble River, LLC',\n       'Air Force Civil Engineer Center',\n       'Minnesota Municipal Power Agny', 'Flat Water Wind Farm LLC',\n       'Spruce Mountain Wind LLC', 'Baldwin Wind LLC',\n       'Wolverine Wind Energy, LLC', 'Kirkwood Community College',\n       'Ashtabula Wind III LLC', 'Buffalo Center Wind LLC',\n       'AEP Onsite Partners, LLC', 'Adams Electric Cooperative',\n       'Kingston Wind Independence', 'Norsemen Wind Energy, LLC',\n       'Ridgewind Power Partners LLC', 'FPLE Wind, LLC',\n       'CPV Keenan II Renewable Energy Co LLC',\n       'Idaho Wind Partners 1 LLC', 'Capital Power Corporation',\n       'Idaho Winds LLC', 'Chisholm View Wind Project',\n       'Blue Canyon Windpower VI LLC', 'Trinity Hills Wind Farm LLC',\n       'Golden Spread Electric Cooperative, Inc', 'Perrin Ranch Wind LLC',\n       'FPL Energy Montezuma Wind', 'Power County Wind Park North LLC',\n       'Vasco Winds, LLC', 'Inland Empire Energy Ctr LLC',\n       'Ralls Wind Farm LLC', 'Red Mesa Wind LLC', 'Tuscola Bay Wind LLC',\n       'Michigan Wind 2, LLC', 'Harvest II Windfarm, LLC',\n       'Ironwood Windpower LLC', 'Laurel Wind Energy LLC',\n       'Record Hill Wind LLC', 'Cimarron Windpower II, LLC',\n       'Big Blue Wind Farm LLC (MN)', 'DTE Electric Company',\n       'Luther College Wind Energy Project LLC', 'Limon',\n       'MWRA Charlestown', 'Enel Green Power NA, Inc.',\n       'Fairhaven Wind LLC', 'Shooting Star Power Partners, LLC',\n       'Bishop Hill Energy II, LLC', 'TPW Petersburg LLC',\n       'NextEra Energy Resources Ensign Wind',\n       'Junction Hilltop Management LLC', 'Lakeswind Power Partners',\n       'University of Minnesota Morris Campus', 'SunEdison LLC',\n       'General Services Administration - Region 8',\n       'Cimarron Wind Energy LLC', 'Acciona Energy USA Global, LLC',\n       'Cooper Hatchery Inc.', 'Roth Rock Wind Farm LLC',\n       'Hamilton Wind Energy LLC', 'Narragansett Bay Commission',\n       'Haviland Plastic Products Co', 'Los Vientos Wind 1A, LLC',\n       'Los Vientos Wind 1B, LLC', 'Foundation CA Fund V Manager, LLC',\n       'Rocky Ridge Wind Project LLC',\n       'Black Hills Colorado Electric, LLC', 'Onward Energy',\n       'Pinyon Pines Wind I, LLC',\n       'NextEra Energy Montezuma Wind II, LLC',\n       'FPL Energy Operating Services, Inc.', 'High Mesa Energy, LLC',\n       'Foundation HA Energy Generation, LLC', 'Wildcat Wind, LLC',\n       'Foundation CA Fund VI Manager LLC', 'Blackwell Wind, LLC',\n       'Power County Wind Park South LLC', 'Ridgeline Energy LLC',\n       'Golden Valley Elec Assn Inc', 'Gordon Butte Wind LLC',\n       'Auwahi Wind Energy LLC', 'Suzlon Project VIII LLC',\n       'Utah Associated Mun Power Sys', 'Caney River Wind Project',\n       'Scituate Wind LLC', 'Deepwater Wind Block Island LLC',\n       'Cashton Greens Wind Farm LLC', 'Beebe Renewable Energy, LLC',\n       'Beebe 1B Renewable Energy, LLC', 'S.C. Johnson & Son, Inc.',\n       'SRIV Partnership LLC', 'Buffalo Dunes Wind Project LLC',\n       'Zotos International', 'Pheasant Run Wind LLC',\n       'Equity Industrial Turbines', 'Fort Hays State University',\n       'Wiota Wind Energy, LLC #1', 'Forward Fontanelle Power, LLC',\n       'Greenfield Wind Power, LLC', 'Sky Volt, LLC', 'Camelot Wind LLC',\n       'Heartland Community College', 'Galactic Wind',\n       'Tuscola Wind II LLC', 'Meadow Ridge Wind Energy, LLC',\n       'Bayonne Energy Center LLC', 'North Sky River Energy LLC',\n       'Colorado Highlands Wind LLC', 'Blue Summit Wind LLC',\n       'Canadian Hills Wind LLC', 'Musselshell Wind Project LLC',\n       'Musselshell Wind Project Two LLC', 'Aegis Renewables LLC',\n       'Stephens Ranch Wind Energy LLC', 'Kawailoa Wind LLC',\n       'NorthWestern Energy', 'BayWa r.e Wind LLC',\n       'Pinyon Pines Wind II, LLC', 'Gamesa Wind US LLC',\n       'Fire Island Wind LLC', 'Cumberland Rose Wind Energy, LLC',\n       'Headwaters Wind Farm LLC', 'OEE XVII, LLC', 'US Air Force',\n       'Consolidated Edison Solutions Inc', 'NorthWestern Energy - (SD)',\n       'Palo Duro Wind', 'Hidalgo Wind Farm LLC',\n       'Mesquite Creek Wind, LLC', 'Keechi Wind, LLC', 'Balko Wind LLC',\n       'Kingfisher Wind LLC', 'Mammoth Plains Wind Project',\n       'Huerfano River Wind, LLC', 'Sustainable Power Group, LLC',\n       'Los Vientos Windpower III, LLC', 'Saddleback Ridge Wind, LLC',\n       'Fourmile Wind Energy, LLC', 'Fair Wind Power Partners, LLC',\n       'Wind Colebrook South', 'Hoopeston Wind LLC', 'Southern Power Co',\n       'WED Coventry Six, LLC', 'WED Coventry Two, LLC',\n       'Tennessee Valley Authority', 'Beaver Ridge Wind LLC',\n       'Waverly Wind Farm LLC', 'Black Oak Wind, LLC',\n       'WED Coventry Four, LLC', 'New Creek Wind, LLC',\n       'Paulding Wind Farm III LLC', 'Cedar Bluff Wind, LLC',\n       'WED Coventry One, LLC', 'WED Coventry Three, LLC',\n       'Deerfield Wind Energy, LLC', 'Jericho Power LLC',\n       'NextEra Energy Seiling Wind', 'Astra Wind LLC',\n       'Rising Tree Wind Farm LLC', 'Willow Spring',\n       'Golden Hills Wind, LLC', 'Rising Tree Wind Farm III LLC',\n       'Arbuckle Mountain Wind Farm LLC', 'Green Pastures Wind II, LLC',\n       'TX Jumbo Road Wind, LLC', 'Los Vientos Windpower IV, LLC',\n       'Mariah Holdings II LLC c/o CAMS', 'Green Pastures Wind I, LLC',\n       'Golden West Power Partners, LLC', 'Cameron Wind 1 LLC',\n       'Los Vientos Windpower V, LLC', 'Capital Dynamics',\n       'NextEra Energy Resources Breckinridge', 'OEE XIX, LLC',\n       'BHE Renewables, LLC', 'Creston Ridge, LLC', 'Findlay Wind Farm',\n       'Cimarron Bend Wind Project II, LLC',\n       'Cimarron Bend Wind Project I, LLC', 'Ringer Hill Wind LLC',\n       'Kingman Wind Energy, LLC', 'Ninnescah Wind Energy LLC',\n       'Jericho Rise Wind Farm LLC', 'Brady Wind, LLC',\n       'Osborn Wind Energy LLC', 'Cotton Plains Wind I, LLC',\n       'Old Settler Wind, LLC', 'Rush Springs Wind Project',\n       'Javelina Wind Energy, LLC', 'Carousel Wind Farm, LLC',\n       'Red Horse 2', 'Shannon Wind LLC', 'Horse Creek Wind, LLC',\n       'Electra Wind, LLC', 'Benson Creek', 'Jett Creek', 'Prospector',\n       'Durbin Creek', 'Bluestem Wind Energy, LLC',\n       'Sendero Wind Energy, LLC', 'Frontier Windpower, LLC',\n       'Brady Wind II, LLC', 'South Fork Wind, LLC',\n       'CCC Hastings Renewable Energy, LLC', 'Oliver Wind III, LLC',\n       'Minco Wind IV, LLC', 'Javelina Wind Energy II, LLC',\n       'Chapman Ranch Wind LLC', 'August Wind Energy, LLC',\n       'Pisgah Mountain, LLC', 'WED Coventry Five, LLC',\n       'Roseman Energy, LLC', 'Birch Power LLC',\n       'FPL Energy Callahan Wind, LLC', 'Rocksprings Val Verde Wind, LLC',\n       'Dermott Wind, LLC', 'FPL Energy Red Canyon LLC',\n       'Wintec Energy Ltd', 'Redbed Plains Wind Farm LLC', 'AEM Wind LLC',\n       'Bay Windpower LLC', 'Creston Ridge II, LLC',\n       'Willow Springs Windfarm, LLC', 'Fluvanna Wind Energy LLC',\n       'Buckthorn Wind Project, LLC', 'Quilt Block Wind Farm LLC',\n       'FPL Energy Horse Hollow LLC', 'Bluff Point Wind, LLC',\n       'Foundation CA Fund VIII Manager, LLC', 'City of Algona - (IA)',\n       'Brewster', 'E&E Enterprises LLC', 'FPL Energy Oklahoma Wind LLC',\n       'Illinois Rural Electric Coop', 'Wind GEM, LLC',\n       'University of Minnesota WCROC', \"Shane's Wind Machine LLC\",\n       'Lincoln Electric System', 'Case Western Reserve University',\n       'New London Municipal Utilities', 'City of Geneseo - (IL)',\n       'Lime Wind LLC', 'Hawkeye Power Partners LLC',\n       'Hilltop Power, LLC', 'Canton Mountain Wind LLC', 'Town of Otis',\n       'Apple Blossom Wind, LLC',\n       'Regents of the University of Minnesota',\n       'Arkwright Summit Wind Farm LLC',\n       'Thunder Ranch Wind Project, LLC', 'Rattlesnake Power, LLC',\n       'Flat Top Wind I, LLC', 'Red Dirt Wind Project, LLC',\n       'Hog Creek Wind Project LLC', 'Cottonwood Wind Project',\n       'Golden Hills Interconnection Wind, LLC',\n       'Capricorn Ridge Wind LLC', 'Town of Ipswich - (MA)',\n       'Meadow Lake Wind Farm V LLC', 'Bearkat Wind Energy 1, LLC',\n       'WED Portsmouth One, LLC', 'OEE XXIV LLC',\n       'Public Service Co of Colorado', 'OEE XXIII LLC',\n       'Green Energy Machine, LLC', 'Persimmon Creek Wind Farm 1, LLC',\n       'Seward Wind LLC', 'Rattlesnake Creek Wind Project, LLC',\n       'Northwest Ohio Wind, LLC', 'West Texas A&M University',\n       'Kimball Wind, LLC',\n       'Enel Green Power Diamond Vista Wind Project, LLC',\n       'Desert Sky Wind Farm LP', 'Trent Wind Farm LP',\n       'FPL Energy Upton Wind LP', 'Tahoka Wind, LLC',\n       'Perennial Wind, LLC', 'Casa Mesa Wind, LLC', 'OEE XXV LLC',\n       'FPL Energy New Mexico Wind LLC', 'Meadow Lake Wind Farm VI LLC',\n       'Pratt Wind, LLC', 'Hale Wind Energy',\n       'Wildcat Ranch Wind Project, LLC', 'Lorenzo Wind, LLC',\n       'Hilltopper Wind Project, LLC', 'Turtle Creek Wind Farm LLC',\n       'Foxtail Wind, LLC', 'Armadillo Flats Wind Project, LLC',\n       \"Palmer's Creek Wind Farm, LLC\", 'Blue Summit II Wind, LLC',\n       'OEE XXVI LLC', 'Midway Wind, LLC',\n       'Foundation CA Fund IX Manager, LLC', 'Rio Bravo Windpower, LLC',\n       'Engie North America', 'Torrecillas Wind Energy, LLC',\n       'Antrim Wind Energy LLC', 'Prairie Queen Wind Farm LLC',\n       'Big Level Wind LLC', 'Heartland Divide Wind Project, LLC',\n       'Sholes Wind Energy Center, LLC', 'WED Shun III, LLC',\n       'WED Shun II, LLC', 'WED Shun I, LLC', 'WED Plainfield III, LLC',\n       'WED Green Hill, LLC', 'WED Plainfield, LLC',\n       'WED Plainfield II, LLC', 'Pecos Wind II LP', 'Pecos Wind I LP',\n       'NWP Indian Mesa Wind Farm LP', 'FPL Energy Langdon Wind LLC',\n       'Ranchero Wind Farm LLC', 'OEE XXX LLC', 'Lockett Windfarm, LLC',\n       'Fluvanna Wind Energy 2 LLC', 'Foard City Wind, LLC',\n       'Emmons-Logan Wind, LLC', 'Green River Wind Farm Phase 1, LLC',\n       'High Lonesome Wind Power, LLC', 'Crocker Wind Farm, LLC',\n       'FPL Energy Crystal Lake Wind LLC', 'Crowned Ridge Wind, LLC',\n       'White Cloud Wind Project, LLC', 'Mesteno Wind',\n       'Bronco Plains Wind, LLC', 'Willow Creek Wind Power LLC',\n       'Aurora Wind Project, LLC', 'Milligan 1 Wind, LLC',\n       'Blazing Star Wind Farm, LLC', 'Lexington Chenoa Wind Farm LLC',\n       'Whitney Hill Wind Power LLC', 'Mesquite Star LLC',\n       'Hidalgo Wind Farm II LLC', 'Coyote Ridge LLC',\n       'Clear Creek Wind, LLC', 'AES Distributed Energy',\n       'FPL Energy Hancock County Wind, LLC', 'OEE XXVIII LLC',\n       'Sage Draw Wind, LLC', 'Blue Summit III Wind, LLC',\n       'Nobles 2 Power Partners, LLC', 'Harvest Ridge Wind Farm',\n       'Paulding Wind Farm IV LLC', 'Mountain Breeze Wind, LLC',\n       'Pegasus Wind, LLC', 'Roundhouse Renewable Energy, LLC',\n       'Na Pua Makani Power Partners LLC', 'Scout Clean Energy LLC',\n       'Cedar Springs Wind III, LLC', 'Plum Creek Wind, LLC',\n       'Union Electric Co - (MO)', 'Wheatridge Wind Holdings, LLC',\n       'Sugar Creek Wind One LLC', 'Cedar Springs Wind, LLC',\n       'Southwestern Public Service Co', 'Bitter Ridge Wind Farm, LLC',\n       'Ponderosa Wind, LLC', 'Jordan Creek Wind Farm, LLC',\n       'Soldier Creek Wind LLC', 'Empire District Electric Co',\n       'Rattlesnake Flat, LLC', 'Cerro Gordo Wind Farm',\n       'Mohave County Wind Farm', 'Rock County Wind Fuel, LLC',\n       'Osceola Windpower LLC', 'Osceola Windpower II',\n       'FPL Energy Ashtabula Wind LLC', 'Elbow Creek Wind Project LLC',\n       'Wilton Wind II LLC', 'Wessington Wind',\n       'Black Hills Service Company LLC', 'Enel Kansas, LLC',\n       'Amadeus Wind LLC', 'Burke Wind LLC',\n       'Skeleton Creek Energy Center', 'Rosewater Wind Farm LLC'],\n      dtype=object)"
     },
     "execution_count": 8,
     "metadata": {},
     "output_type": "execute_result"
    }
   ],
   "source": [
    "unique_operators =turbines_operators_inner['operator_name'].unique()\n",
    "unique_operators"
   ],
   "metadata": {
    "collapsed": false,
    "ExecuteTime": {
     "end_time": "2024-01-24T00:08:48.172083300Z",
     "start_time": "2024-01-24T00:08:48.125166100Z"
    }
   },
   "id": "e0aca1b7465a4e6"
  },
  {
   "cell_type": "markdown",
   "source": [
    "### attempt to match child company with parent company using fuzzwuzzy string matching"
   ],
   "metadata": {
    "collapsed": false
   },
   "id": "e699473c749dc0ad"
  },
  {
   "cell_type": "code",
   "execution_count": 9,
   "outputs": [
    {
     "name": "stdout",
     "output_type": "stream",
     "text": [
      "Collecting fuzzywuzzyNote: you may need to restart the kernel to use updated packages.\n"
     ]
    },
    {
     "name": "stderr",
     "output_type": "stream",
     "text": [
      "\n",
      "[notice] A new release of pip is available: 23.2.1 -> 23.3.2\n",
      "[notice] To update, run: python.exe -m pip install --upgrade pip\n"
     ]
    },
    {
     "name": "stdout",
     "output_type": "stream",
     "text": [
      "\n",
      "  Downloading fuzzywuzzy-0.18.0-py2.py3-none-any.whl (18 kB)\n",
      "Installing collected packages: fuzzywuzzy\n",
      "Successfully installed fuzzywuzzy-0.18.0\n"
     ]
    }
   ],
   "source": [
    "pip install fuzzywuzzy"
   ],
   "metadata": {
    "collapsed": false,
    "ExecuteTime": {
     "end_time": "2024-01-24T00:28:53.642645Z",
     "start_time": "2024-01-24T00:28:47.054015700Z"
    }
   },
   "id": "f8be833f60d7540f"
  },
  {
   "cell_type": "code",
   "execution_count": 24,
   "outputs": [
    {
     "data": {
      "text/plain": "       case_id  usgs_pr_id   eia_id t_state          t_county  t_fips  \\\n0      3000016     15543.0  50535.0      CA  Riverside County    6065   \n1      3000039     15579.0  50535.0      CA  Riverside County    6065   \n2      3000055     15645.0  50535.0      CA  Riverside County    6065   \n3      3000129     15606.0  50535.0      CA  Riverside County    6065   \n4      3000146     15597.0  50535.0      CA  Riverside County    6065   \n...        ...         ...      ...     ...               ...     ...   \n61888  3110862         NaN  56302.0      CA       Kern County    6029   \n61889  3110863         NaN  56302.0      CA       Kern County    6029   \n61890  3110864         NaN  56302.0      CA       Kern County    6029   \n61891  3113164         NaN  56302.0      CA       Kern County    6029   \n61892  3115253         NaN  55607.0      WY     Carbon County   56007   \n\n                      p_name  p_year  p_tnum  p_cap  ... netgen_october  \\\n0             Mesa Wind Farm  1983.0     460   30.0  ...           52.0   \n1             Mesa Wind Farm  1983.0     460   30.0  ...           52.0   \n2             Mesa Wind Farm  1983.0     460   30.0  ...           52.0   \n3             Mesa Wind Farm  1983.0     460   30.0  ...           52.0   \n4             Mesa Wind Farm  1983.0     460   30.0  ...           52.0   \n...                      ...     ...     ...    ...  ...            ...   \n61888       Oasis Repowering  2020.0      21   72.0  ...         5246.0   \n61889       Oasis Repowering  2020.0      21   72.0  ...         5246.0   \n61890       Oasis Repowering  2020.0      21   72.0  ...         5246.0   \n61891       Oasis Repowering  2020.0      21   72.0  ...         5246.0   \n61892  Foote Creek I Repower  2021.0       1    4.2  ...         4009.0   \n\n      netgen_november  netgen_december  total_fuel_consumption_quantity  \\\n0                40.0             39.0                                0   \n1                40.0             39.0                                0   \n2                40.0             39.0                                0   \n3                40.0             39.0                                0   \n4                40.0             39.0                                0   \n...               ...              ...                              ...   \n61888          4015.0           3943.0                                0   \n61889          4015.0           3943.0                                0   \n61890          4015.0           3943.0                                0   \n61891          4015.0           3943.0                                0   \n61892          5908.0           6296.0                                0   \n\n       electric_fuel_consumption_quantity  total_fuel_consumption_mm_btu  \\\n0                                       0                           7124   \n1                                       0                           7124   \n2                                       0                           7124   \n3                                       0                           7124   \n4                                       0                           7124   \n...                                   ...                            ...   \n61888                                   0                         719306   \n61889                                   0                         719306   \n61890                                   0                         719306   \n61891                                   0                         719306   \n61892                                   0                         431596   \n\n       elec_fuel_consumption_mm_btu  net_generation_megawatthours  year  \\\n0                              7124                         812.0  2020   \n1                              7124                         812.0  2020   \n2                              7124                         812.0  2020   \n3                              7124                         812.0  2020   \n4                              7124                         812.0  2020   \n...                             ...                           ...   ...   \n61888                        719306                       81991.0  2020   \n61889                        719306                       81991.0  2020   \n61890                        719306                       81991.0  2020   \n61891                        719306                       81991.0  2020   \n61892                        431596                       49196.0  2020   \n\n                                      parent_company  \n0      Brookfield Renewable Trading and Marketing LP  \n1      Brookfield Renewable Trading and Marketing LP  \n2      Brookfield Renewable Trading and Marketing LP  \n3      Brookfield Renewable Trading and Marketing LP  \n4      Brookfield Renewable Trading and Marketing LP  \n...                                              ...  \n61888                    Terra-Gen Operating Co-Wind  \n61889                    Terra-Gen Operating Co-Wind  \n61890                    Terra-Gen Operating Co-Wind  \n61891                    Terra-Gen Operating Co-Wind  \n61892                                     PacifiCorp  \n\n[61893 rows x 122 columns]",
      "text/html": "<div>\n<style scoped>\n    .dataframe tbody tr th:only-of-type {\n        vertical-align: middle;\n    }\n\n    .dataframe tbody tr th {\n        vertical-align: top;\n    }\n\n    .dataframe thead th {\n        text-align: right;\n    }\n</style>\n<table border=\"1\" class=\"dataframe\">\n  <thead>\n    <tr style=\"text-align: right;\">\n      <th></th>\n      <th>case_id</th>\n      <th>usgs_pr_id</th>\n      <th>eia_id</th>\n      <th>t_state</th>\n      <th>t_county</th>\n      <th>t_fips</th>\n      <th>p_name</th>\n      <th>p_year</th>\n      <th>p_tnum</th>\n      <th>p_cap</th>\n      <th>...</th>\n      <th>netgen_october</th>\n      <th>netgen_november</th>\n      <th>netgen_december</th>\n      <th>total_fuel_consumption_quantity</th>\n      <th>electric_fuel_consumption_quantity</th>\n      <th>total_fuel_consumption_mm_btu</th>\n      <th>elec_fuel_consumption_mm_btu</th>\n      <th>net_generation_megawatthours</th>\n      <th>year</th>\n      <th>parent_company</th>\n    </tr>\n  </thead>\n  <tbody>\n    <tr>\n      <th>0</th>\n      <td>3000016</td>\n      <td>15543.0</td>\n      <td>50535.0</td>\n      <td>CA</td>\n      <td>Riverside County</td>\n      <td>6065</td>\n      <td>Mesa Wind Farm</td>\n      <td>1983.0</td>\n      <td>460</td>\n      <td>30.0</td>\n      <td>...</td>\n      <td>52.0</td>\n      <td>40.0</td>\n      <td>39.0</td>\n      <td>0</td>\n      <td>0</td>\n      <td>7124</td>\n      <td>7124</td>\n      <td>812.0</td>\n      <td>2020</td>\n      <td>Brookfield Renewable Trading and Marketing LP</td>\n    </tr>\n    <tr>\n      <th>1</th>\n      <td>3000039</td>\n      <td>15579.0</td>\n      <td>50535.0</td>\n      <td>CA</td>\n      <td>Riverside County</td>\n      <td>6065</td>\n      <td>Mesa Wind Farm</td>\n      <td>1983.0</td>\n      <td>460</td>\n      <td>30.0</td>\n      <td>...</td>\n      <td>52.0</td>\n      <td>40.0</td>\n      <td>39.0</td>\n      <td>0</td>\n      <td>0</td>\n      <td>7124</td>\n      <td>7124</td>\n      <td>812.0</td>\n      <td>2020</td>\n      <td>Brookfield Renewable Trading and Marketing LP</td>\n    </tr>\n    <tr>\n      <th>2</th>\n      <td>3000055</td>\n      <td>15645.0</td>\n      <td>50535.0</td>\n      <td>CA</td>\n      <td>Riverside County</td>\n      <td>6065</td>\n      <td>Mesa Wind Farm</td>\n      <td>1983.0</td>\n      <td>460</td>\n      <td>30.0</td>\n      <td>...</td>\n      <td>52.0</td>\n      <td>40.0</td>\n      <td>39.0</td>\n      <td>0</td>\n      <td>0</td>\n      <td>7124</td>\n      <td>7124</td>\n      <td>812.0</td>\n      <td>2020</td>\n      <td>Brookfield Renewable Trading and Marketing LP</td>\n    </tr>\n    <tr>\n      <th>3</th>\n      <td>3000129</td>\n      <td>15606.0</td>\n      <td>50535.0</td>\n      <td>CA</td>\n      <td>Riverside County</td>\n      <td>6065</td>\n      <td>Mesa Wind Farm</td>\n      <td>1983.0</td>\n      <td>460</td>\n      <td>30.0</td>\n      <td>...</td>\n      <td>52.0</td>\n      <td>40.0</td>\n      <td>39.0</td>\n      <td>0</td>\n      <td>0</td>\n      <td>7124</td>\n      <td>7124</td>\n      <td>812.0</td>\n      <td>2020</td>\n      <td>Brookfield Renewable Trading and Marketing LP</td>\n    </tr>\n    <tr>\n      <th>4</th>\n      <td>3000146</td>\n      <td>15597.0</td>\n      <td>50535.0</td>\n      <td>CA</td>\n      <td>Riverside County</td>\n      <td>6065</td>\n      <td>Mesa Wind Farm</td>\n      <td>1983.0</td>\n      <td>460</td>\n      <td>30.0</td>\n      <td>...</td>\n      <td>52.0</td>\n      <td>40.0</td>\n      <td>39.0</td>\n      <td>0</td>\n      <td>0</td>\n      <td>7124</td>\n      <td>7124</td>\n      <td>812.0</td>\n      <td>2020</td>\n      <td>Brookfield Renewable Trading and Marketing LP</td>\n    </tr>\n    <tr>\n      <th>...</th>\n      <td>...</td>\n      <td>...</td>\n      <td>...</td>\n      <td>...</td>\n      <td>...</td>\n      <td>...</td>\n      <td>...</td>\n      <td>...</td>\n      <td>...</td>\n      <td>...</td>\n      <td>...</td>\n      <td>...</td>\n      <td>...</td>\n      <td>...</td>\n      <td>...</td>\n      <td>...</td>\n      <td>...</td>\n      <td>...</td>\n      <td>...</td>\n      <td>...</td>\n      <td>...</td>\n    </tr>\n    <tr>\n      <th>61888</th>\n      <td>3110862</td>\n      <td>NaN</td>\n      <td>56302.0</td>\n      <td>CA</td>\n      <td>Kern County</td>\n      <td>6029</td>\n      <td>Oasis Repowering</td>\n      <td>2020.0</td>\n      <td>21</td>\n      <td>72.0</td>\n      <td>...</td>\n      <td>5246.0</td>\n      <td>4015.0</td>\n      <td>3943.0</td>\n      <td>0</td>\n      <td>0</td>\n      <td>719306</td>\n      <td>719306</td>\n      <td>81991.0</td>\n      <td>2020</td>\n      <td>Terra-Gen Operating Co-Wind</td>\n    </tr>\n    <tr>\n      <th>61889</th>\n      <td>3110863</td>\n      <td>NaN</td>\n      <td>56302.0</td>\n      <td>CA</td>\n      <td>Kern County</td>\n      <td>6029</td>\n      <td>Oasis Repowering</td>\n      <td>2020.0</td>\n      <td>21</td>\n      <td>72.0</td>\n      <td>...</td>\n      <td>5246.0</td>\n      <td>4015.0</td>\n      <td>3943.0</td>\n      <td>0</td>\n      <td>0</td>\n      <td>719306</td>\n      <td>719306</td>\n      <td>81991.0</td>\n      <td>2020</td>\n      <td>Terra-Gen Operating Co-Wind</td>\n    </tr>\n    <tr>\n      <th>61890</th>\n      <td>3110864</td>\n      <td>NaN</td>\n      <td>56302.0</td>\n      <td>CA</td>\n      <td>Kern County</td>\n      <td>6029</td>\n      <td>Oasis Repowering</td>\n      <td>2020.0</td>\n      <td>21</td>\n      <td>72.0</td>\n      <td>...</td>\n      <td>5246.0</td>\n      <td>4015.0</td>\n      <td>3943.0</td>\n      <td>0</td>\n      <td>0</td>\n      <td>719306</td>\n      <td>719306</td>\n      <td>81991.0</td>\n      <td>2020</td>\n      <td>Terra-Gen Operating Co-Wind</td>\n    </tr>\n    <tr>\n      <th>61891</th>\n      <td>3113164</td>\n      <td>NaN</td>\n      <td>56302.0</td>\n      <td>CA</td>\n      <td>Kern County</td>\n      <td>6029</td>\n      <td>Oasis Repowering</td>\n      <td>2020.0</td>\n      <td>21</td>\n      <td>72.0</td>\n      <td>...</td>\n      <td>5246.0</td>\n      <td>4015.0</td>\n      <td>3943.0</td>\n      <td>0</td>\n      <td>0</td>\n      <td>719306</td>\n      <td>719306</td>\n      <td>81991.0</td>\n      <td>2020</td>\n      <td>Terra-Gen Operating Co-Wind</td>\n    </tr>\n    <tr>\n      <th>61892</th>\n      <td>3115253</td>\n      <td>NaN</td>\n      <td>55607.0</td>\n      <td>WY</td>\n      <td>Carbon County</td>\n      <td>56007</td>\n      <td>Foote Creek I Repower</td>\n      <td>2021.0</td>\n      <td>1</td>\n      <td>4.2</td>\n      <td>...</td>\n      <td>4009.0</td>\n      <td>5908.0</td>\n      <td>6296.0</td>\n      <td>0</td>\n      <td>0</td>\n      <td>431596</td>\n      <td>431596</td>\n      <td>49196.0</td>\n      <td>2020</td>\n      <td>PacifiCorp</td>\n    </tr>\n  </tbody>\n</table>\n<p>61893 rows × 122 columns</p>\n</div>"
     },
     "execution_count": 24,
     "metadata": {},
     "output_type": "execute_result"
    }
   ],
   "source": [
    "from fuzzywuzzy import fuzz\n",
    "\n",
    "\n",
    "#  list of parent companies\n",
    "parent_companies = [\"Acciona\", \"AES\", \"Beebe\", \"Black Hills\", \"Blackstone\", \"Blue Canyon Windpower\", \"Blue Summit\", \"Brady Wind\", \"Cassia\",\n",
    "                    \"Cedar Springs Wind\", \"CHI\", \"Cimarron\", \"Consolidated Edison\", \"Creston Ridge\", \"DTE\", \"Duke Energy\", \"Echo\",\n",
    "                    \"EDF Renewable\", \"Enel\", \"Eurus Combine Hills\", \"Evergy\", \"Fluvanna Wind Energy\", \"Foundation CA Fund\",\n",
    "                    \"FPL Energy\", \"Golden Hills\", \"Green Pastures\", \"Harvest\", \"Heartland\", \"Hidalgo Wind Farm\", \"Iowa Lakes\",\n",
    "                    \"Lincoln Electric\", \"Longroad Energy Services\", \"Los Vientos Windpower\", \"Madison\", \"Massachusetts\",\n",
    "                    \"Meadow Lake Wind Farm\", \"Mesquite\", \"Michigan Wind\", \"Musselshell\", \"NaturEner\", \"NextEra\",\n",
    "                    \"NorthWestern Energy\", \"NRG\", \"OEE\", \"Osceola\", \"Paulding Wind Farm\", \"Pecos\", \"Pinyon Pines\",\n",
    "                    \"Power County Wind Park\", \"Rattlesnake\", \"Rising Tree Wind Farm\", \"Rock County\"]\n",
    "\n",
    "# list of child companies from the 'operator_name' column of the \n",
    "child_companies = list(turbines_operators_inner['operator_name'].unique())\n",
    "\n",
    "# Create a function to find the most similar parent company for a given child company\n",
    "def find_most_similar_parent(child_company):\n",
    "    ratios = [(parent_company, fuzz.ratio(parent_company.lower(), child_company.lower()))\n",
    "              for parent_company in parent_companies]\n",
    "    most_similar = max(ratios, key=lambda x: x[1])\n",
    "    # adjust similarity threshold\n",
    "    if most_similar[1] >= 60:\n",
    "        return most_similar[0]\n",
    "    else:\n",
    "        return child_company\n",
    "\n",
    "# Map child companies to the most similar parent companies\n",
    "turbines_operators_inner['parent_company'] = turbines_operators_inner['operator_name'].apply(find_most_similar_parent)\n",
    "\n",
    "# Displaying the DataFrame with the new 'parent_company' column\n",
    "turbines_operators_inner"
   ],
   "metadata": {
    "collapsed": false,
    "ExecuteTime": {
     "end_time": "2024-01-24T01:37:32.898295900Z",
     "start_time": "2024-01-24T01:35:31.471287600Z"
    }
   },
   "id": "ccfc5adcee5be762"
  },
  {
   "cell_type": "markdown",
   "source": [
    "### emphasise matching the first word with progressively less emphasis on each successive word in the operator_name string"
   ],
   "metadata": {
    "collapsed": false
   },
   "id": "43e905162937d724"
  },
  {
   "cell_type": "code",
   "execution_count": 32,
   "outputs": [
    {
     "data": {
      "text/plain": "       case_id  usgs_pr_id   eia_id t_state          t_county  t_fips  \\\n0      3000016     15543.0  50535.0      CA  Riverside County    6065   \n1      3000039     15579.0  50535.0      CA  Riverside County    6065   \n2      3000055     15645.0  50535.0      CA  Riverside County    6065   \n3      3000129     15606.0  50535.0      CA  Riverside County    6065   \n4      3000146     15597.0  50535.0      CA  Riverside County    6065   \n...        ...         ...      ...     ...               ...     ...   \n61888  3110862         NaN  56302.0      CA       Kern County    6029   \n61889  3110863         NaN  56302.0      CA       Kern County    6029   \n61890  3110864         NaN  56302.0      CA       Kern County    6029   \n61891  3113164         NaN  56302.0      CA       Kern County    6029   \n61892  3115253         NaN  55607.0      WY     Carbon County   56007   \n\n                      p_name  p_year  p_tnum  p_cap  ... netgen_october  \\\n0             Mesa Wind Farm  1983.0     460   30.0  ...           52.0   \n1             Mesa Wind Farm  1983.0     460   30.0  ...           52.0   \n2             Mesa Wind Farm  1983.0     460   30.0  ...           52.0   \n3             Mesa Wind Farm  1983.0     460   30.0  ...           52.0   \n4             Mesa Wind Farm  1983.0     460   30.0  ...           52.0   \n...                      ...     ...     ...    ...  ...            ...   \n61888       Oasis Repowering  2020.0      21   72.0  ...         5246.0   \n61889       Oasis Repowering  2020.0      21   72.0  ...         5246.0   \n61890       Oasis Repowering  2020.0      21   72.0  ...         5246.0   \n61891       Oasis Repowering  2020.0      21   72.0  ...         5246.0   \n61892  Foote Creek I Repower  2021.0       1    4.2  ...         4009.0   \n\n      netgen_november  netgen_december  total_fuel_consumption_quantity  \\\n0                40.0             39.0                                0   \n1                40.0             39.0                                0   \n2                40.0             39.0                                0   \n3                40.0             39.0                                0   \n4                40.0             39.0                                0   \n...               ...              ...                              ...   \n61888          4015.0           3943.0                                0   \n61889          4015.0           3943.0                                0   \n61890          4015.0           3943.0                                0   \n61891          4015.0           3943.0                                0   \n61892          5908.0           6296.0                                0   \n\n       electric_fuel_consumption_quantity  total_fuel_consumption_mm_btu  \\\n0                                       0                           7124   \n1                                       0                           7124   \n2                                       0                           7124   \n3                                       0                           7124   \n4                                       0                           7124   \n...                                   ...                            ...   \n61888                                   0                         719306   \n61889                                   0                         719306   \n61890                                   0                         719306   \n61891                                   0                         719306   \n61892                                   0                         431596   \n\n       elec_fuel_consumption_mm_btu  net_generation_megawatthours  year  \\\n0                              7124                         812.0  2020   \n1                              7124                         812.0  2020   \n2                              7124                         812.0  2020   \n3                              7124                         812.0  2020   \n4                              7124                         812.0  2020   \n...                             ...                           ...   ...   \n61888                        719306                       81991.0  2020   \n61889                        719306                       81991.0  2020   \n61890                        719306                       81991.0  2020   \n61891                        719306                       81991.0  2020   \n61892                        431596                       49196.0  2020   \n\n                                      parent_company  \n0      Brookfield Renewable Trading and Marketing LP  \n1      Brookfield Renewable Trading and Marketing LP  \n2      Brookfield Renewable Trading and Marketing LP  \n3      Brookfield Renewable Trading and Marketing LP  \n4      Brookfield Renewable Trading and Marketing LP  \n...                                              ...  \n61888                    Terra-Gen Operating Co-Wind  \n61889                    Terra-Gen Operating Co-Wind  \n61890                    Terra-Gen Operating Co-Wind  \n61891                    Terra-Gen Operating Co-Wind  \n61892                                     PacifiCorp  \n\n[61893 rows x 122 columns]",
      "text/html": "<div>\n<style scoped>\n    .dataframe tbody tr th:only-of-type {\n        vertical-align: middle;\n    }\n\n    .dataframe tbody tr th {\n        vertical-align: top;\n    }\n\n    .dataframe thead th {\n        text-align: right;\n    }\n</style>\n<table border=\"1\" class=\"dataframe\">\n  <thead>\n    <tr style=\"text-align: right;\">\n      <th></th>\n      <th>case_id</th>\n      <th>usgs_pr_id</th>\n      <th>eia_id</th>\n      <th>t_state</th>\n      <th>t_county</th>\n      <th>t_fips</th>\n      <th>p_name</th>\n      <th>p_year</th>\n      <th>p_tnum</th>\n      <th>p_cap</th>\n      <th>...</th>\n      <th>netgen_october</th>\n      <th>netgen_november</th>\n      <th>netgen_december</th>\n      <th>total_fuel_consumption_quantity</th>\n      <th>electric_fuel_consumption_quantity</th>\n      <th>total_fuel_consumption_mm_btu</th>\n      <th>elec_fuel_consumption_mm_btu</th>\n      <th>net_generation_megawatthours</th>\n      <th>year</th>\n      <th>parent_company</th>\n    </tr>\n  </thead>\n  <tbody>\n    <tr>\n      <th>0</th>\n      <td>3000016</td>\n      <td>15543.0</td>\n      <td>50535.0</td>\n      <td>CA</td>\n      <td>Riverside County</td>\n      <td>6065</td>\n      <td>Mesa Wind Farm</td>\n      <td>1983.0</td>\n      <td>460</td>\n      <td>30.0</td>\n      <td>...</td>\n      <td>52.0</td>\n      <td>40.0</td>\n      <td>39.0</td>\n      <td>0</td>\n      <td>0</td>\n      <td>7124</td>\n      <td>7124</td>\n      <td>812.0</td>\n      <td>2020</td>\n      <td>Brookfield Renewable Trading and Marketing LP</td>\n    </tr>\n    <tr>\n      <th>1</th>\n      <td>3000039</td>\n      <td>15579.0</td>\n      <td>50535.0</td>\n      <td>CA</td>\n      <td>Riverside County</td>\n      <td>6065</td>\n      <td>Mesa Wind Farm</td>\n      <td>1983.0</td>\n      <td>460</td>\n      <td>30.0</td>\n      <td>...</td>\n      <td>52.0</td>\n      <td>40.0</td>\n      <td>39.0</td>\n      <td>0</td>\n      <td>0</td>\n      <td>7124</td>\n      <td>7124</td>\n      <td>812.0</td>\n      <td>2020</td>\n      <td>Brookfield Renewable Trading and Marketing LP</td>\n    </tr>\n    <tr>\n      <th>2</th>\n      <td>3000055</td>\n      <td>15645.0</td>\n      <td>50535.0</td>\n      <td>CA</td>\n      <td>Riverside County</td>\n      <td>6065</td>\n      <td>Mesa Wind Farm</td>\n      <td>1983.0</td>\n      <td>460</td>\n      <td>30.0</td>\n      <td>...</td>\n      <td>52.0</td>\n      <td>40.0</td>\n      <td>39.0</td>\n      <td>0</td>\n      <td>0</td>\n      <td>7124</td>\n      <td>7124</td>\n      <td>812.0</td>\n      <td>2020</td>\n      <td>Brookfield Renewable Trading and Marketing LP</td>\n    </tr>\n    <tr>\n      <th>3</th>\n      <td>3000129</td>\n      <td>15606.0</td>\n      <td>50535.0</td>\n      <td>CA</td>\n      <td>Riverside County</td>\n      <td>6065</td>\n      <td>Mesa Wind Farm</td>\n      <td>1983.0</td>\n      <td>460</td>\n      <td>30.0</td>\n      <td>...</td>\n      <td>52.0</td>\n      <td>40.0</td>\n      <td>39.0</td>\n      <td>0</td>\n      <td>0</td>\n      <td>7124</td>\n      <td>7124</td>\n      <td>812.0</td>\n      <td>2020</td>\n      <td>Brookfield Renewable Trading and Marketing LP</td>\n    </tr>\n    <tr>\n      <th>4</th>\n      <td>3000146</td>\n      <td>15597.0</td>\n      <td>50535.0</td>\n      <td>CA</td>\n      <td>Riverside County</td>\n      <td>6065</td>\n      <td>Mesa Wind Farm</td>\n      <td>1983.0</td>\n      <td>460</td>\n      <td>30.0</td>\n      <td>...</td>\n      <td>52.0</td>\n      <td>40.0</td>\n      <td>39.0</td>\n      <td>0</td>\n      <td>0</td>\n      <td>7124</td>\n      <td>7124</td>\n      <td>812.0</td>\n      <td>2020</td>\n      <td>Brookfield Renewable Trading and Marketing LP</td>\n    </tr>\n    <tr>\n      <th>...</th>\n      <td>...</td>\n      <td>...</td>\n      <td>...</td>\n      <td>...</td>\n      <td>...</td>\n      <td>...</td>\n      <td>...</td>\n      <td>...</td>\n      <td>...</td>\n      <td>...</td>\n      <td>...</td>\n      <td>...</td>\n      <td>...</td>\n      <td>...</td>\n      <td>...</td>\n      <td>...</td>\n      <td>...</td>\n      <td>...</td>\n      <td>...</td>\n      <td>...</td>\n      <td>...</td>\n    </tr>\n    <tr>\n      <th>61888</th>\n      <td>3110862</td>\n      <td>NaN</td>\n      <td>56302.0</td>\n      <td>CA</td>\n      <td>Kern County</td>\n      <td>6029</td>\n      <td>Oasis Repowering</td>\n      <td>2020.0</td>\n      <td>21</td>\n      <td>72.0</td>\n      <td>...</td>\n      <td>5246.0</td>\n      <td>4015.0</td>\n      <td>3943.0</td>\n      <td>0</td>\n      <td>0</td>\n      <td>719306</td>\n      <td>719306</td>\n      <td>81991.0</td>\n      <td>2020</td>\n      <td>Terra-Gen Operating Co-Wind</td>\n    </tr>\n    <tr>\n      <th>61889</th>\n      <td>3110863</td>\n      <td>NaN</td>\n      <td>56302.0</td>\n      <td>CA</td>\n      <td>Kern County</td>\n      <td>6029</td>\n      <td>Oasis Repowering</td>\n      <td>2020.0</td>\n      <td>21</td>\n      <td>72.0</td>\n      <td>...</td>\n      <td>5246.0</td>\n      <td>4015.0</td>\n      <td>3943.0</td>\n      <td>0</td>\n      <td>0</td>\n      <td>719306</td>\n      <td>719306</td>\n      <td>81991.0</td>\n      <td>2020</td>\n      <td>Terra-Gen Operating Co-Wind</td>\n    </tr>\n    <tr>\n      <th>61890</th>\n      <td>3110864</td>\n      <td>NaN</td>\n      <td>56302.0</td>\n      <td>CA</td>\n      <td>Kern County</td>\n      <td>6029</td>\n      <td>Oasis Repowering</td>\n      <td>2020.0</td>\n      <td>21</td>\n      <td>72.0</td>\n      <td>...</td>\n      <td>5246.0</td>\n      <td>4015.0</td>\n      <td>3943.0</td>\n      <td>0</td>\n      <td>0</td>\n      <td>719306</td>\n      <td>719306</td>\n      <td>81991.0</td>\n      <td>2020</td>\n      <td>Terra-Gen Operating Co-Wind</td>\n    </tr>\n    <tr>\n      <th>61891</th>\n      <td>3113164</td>\n      <td>NaN</td>\n      <td>56302.0</td>\n      <td>CA</td>\n      <td>Kern County</td>\n      <td>6029</td>\n      <td>Oasis Repowering</td>\n      <td>2020.0</td>\n      <td>21</td>\n      <td>72.0</td>\n      <td>...</td>\n      <td>5246.0</td>\n      <td>4015.0</td>\n      <td>3943.0</td>\n      <td>0</td>\n      <td>0</td>\n      <td>719306</td>\n      <td>719306</td>\n      <td>81991.0</td>\n      <td>2020</td>\n      <td>Terra-Gen Operating Co-Wind</td>\n    </tr>\n    <tr>\n      <th>61892</th>\n      <td>3115253</td>\n      <td>NaN</td>\n      <td>55607.0</td>\n      <td>WY</td>\n      <td>Carbon County</td>\n      <td>56007</td>\n      <td>Foote Creek I Repower</td>\n      <td>2021.0</td>\n      <td>1</td>\n      <td>4.2</td>\n      <td>...</td>\n      <td>4009.0</td>\n      <td>5908.0</td>\n      <td>6296.0</td>\n      <td>0</td>\n      <td>0</td>\n      <td>431596</td>\n      <td>431596</td>\n      <td>49196.0</td>\n      <td>2020</td>\n      <td>PacifiCorp</td>\n    </tr>\n  </tbody>\n</table>\n<p>61893 rows × 122 columns</p>\n</div>"
     },
     "execution_count": 32,
     "metadata": {},
     "output_type": "execute_result"
    }
   ],
   "source": [
    "from fuzzywuzzy import fuzz\n",
    "\n",
    "# List of parent companies\n",
    "parent_companies = [\"Acciona\", \"AES\", \"Beebe\", \"Black Hills\", \"Blackstone\", \"Blue Canyon Windpower\", \"Blue Summit\", \"Brady Wind\", \"Cassia\",\n",
    "                    \"Cedar Springs Wind\", \"CHI\", \"Cimarron\", \"Consolidated Edison\", \"Creston Ridge\", \"DTE\", \"Duke Energy\", \"Echo\",\n",
    "                    \"EDF Renewable\", \"Enel\", \"Eurus Combine Hills\", \"Evergy\", \"Fluvanna Wind Energy\", \"Foundation CA Fund\",\n",
    "                    \"FPL Energy\", \"Golden Hills\", \"Green Pastures\", \"Harvest\", \"Heartland\", \"Hidalgo Wind Farm\", \"Iowa Lakes\",\n",
    "                    \"Lincoln Electric\", \"Longroad Energy Services\", \"Los Vientos Windpower\", \"Madison\", \"Massachusetts\",\n",
    "                    \"Meadow Lake Wind Farm\", \"Mesquite\", \"Michigan Wind\", \"Musselshell\", \"NaturEner\", \"NextEra\",\n",
    "                    \"NorthWestern Energy\", \"NRG\", \"OEE\", \"Osceola\", \"Paulding Wind Farm\", \"Pecos\", \"Pinyon Pines\",\n",
    "                    \"Power County Wind Park\", \"Rattlesnake\", \"Rising Tree Wind Farm\", \"Rock County\"]\n",
    "\n",
    "# List of child companies from the 'operator_name' column of the DataFrame\n",
    "child_companies = list(turbines_operators_inner['operator_name'].unique())\n",
    "\n",
    "# Create a function to find the most similar parent company for a given child company\n",
    "def find_most_similar_parent(child_company):\n",
    "    child_words = child_company.split()\n",
    "    \n",
    "    ratios = [\n",
    "        (\n",
    "            parent_company,\n",
    "            sum(\n",
    "                fuzz.ratio(parent_word.lower(), child_word.lower()) * (0.8 ** i)  # Adjust weight (0.8 ** i) for each word\n",
    "                for i, (parent_word, child_word) in enumerate(zip(parent_company.split(), child_words))\n",
    "            ) / len(parent_company.split())\n",
    "        )\n",
    "        for parent_company in parent_companies\n",
    "    ]\n",
    "    \n",
    "    most_similar = max(ratios, key=lambda x: x[1])\n",
    "    \n",
    "    # Adjust similarity threshold\n",
    "    if most_similar[1] >= 90:\n",
    "        return most_similar[0]\n",
    "    else:\n",
    "        return child_company\n",
    "\n",
    "# Map child companies to the most similar parent companies\n",
    "turbines_operators_inner['parent_company'] = turbines_operators_inner['operator_name'].apply(find_most_similar_parent)\n",
    "\n",
    "# Displaying the DataFrame with the new 'parent_company' column\n",
    "turbines_operators_inner\n"
   ],
   "metadata": {
    "collapsed": false,
    "ExecuteTime": {
     "end_time": "2024-01-24T02:17:04.671491500Z",
     "start_time": "2024-01-24T02:15:13.622305200Z"
    }
   },
   "id": "d5e33851ac14788c"
  },
  {
   "cell_type": "markdown",
   "source": [
    "### make lookup table of unique operator_name with corresponding parent company"
   ],
   "metadata": {
    "collapsed": false
   },
   "id": "1f064f0e67439506"
  },
  {
   "cell_type": "code",
   "execution_count": 33,
   "outputs": [
    {
     "data": {
      "text/plain": "                                       operator_name  \\\n0      Brookfield Renewable Trading and Marketing LP   \n432                           San Gorgonio Farms Inc   \n537                      Terra-Gen Operating Co-Wind   \n599                              Allete Clean Energy   \n747                             Pattern Operators LP   \n...                                              ...   \n61518                               Enel Kansas, LLC   \n61592                               Amadeus Wind LLC   \n61688                                 Burke Wind LLC   \n61762                   Skeleton Creek Energy Center   \n61853                        Rosewater Wind Farm LLC   \n\n                                      parent_company  \n0      Brookfield Renewable Trading and Marketing LP  \n432                           San Gorgonio Farms Inc  \n537                      Terra-Gen Operating Co-Wind  \n599                              Allete Clean Energy  \n747                             Pattern Operators LP  \n...                                              ...  \n61518                                           Enel  \n61592                               Amadeus Wind LLC  \n61688                                 Burke Wind LLC  \n61762                   Skeleton Creek Energy Center  \n61853                        Rosewater Wind Farm LLC  \n\n[613 rows x 2 columns]",
      "text/html": "<div>\n<style scoped>\n    .dataframe tbody tr th:only-of-type {\n        vertical-align: middle;\n    }\n\n    .dataframe tbody tr th {\n        vertical-align: top;\n    }\n\n    .dataframe thead th {\n        text-align: right;\n    }\n</style>\n<table border=\"1\" class=\"dataframe\">\n  <thead>\n    <tr style=\"text-align: right;\">\n      <th></th>\n      <th>operator_name</th>\n      <th>parent_company</th>\n    </tr>\n  </thead>\n  <tbody>\n    <tr>\n      <th>0</th>\n      <td>Brookfield Renewable Trading and Marketing LP</td>\n      <td>Brookfield Renewable Trading and Marketing LP</td>\n    </tr>\n    <tr>\n      <th>432</th>\n      <td>San Gorgonio Farms Inc</td>\n      <td>San Gorgonio Farms Inc</td>\n    </tr>\n    <tr>\n      <th>537</th>\n      <td>Terra-Gen Operating Co-Wind</td>\n      <td>Terra-Gen Operating Co-Wind</td>\n    </tr>\n    <tr>\n      <th>599</th>\n      <td>Allete Clean Energy</td>\n      <td>Allete Clean Energy</td>\n    </tr>\n    <tr>\n      <th>747</th>\n      <td>Pattern Operators LP</td>\n      <td>Pattern Operators LP</td>\n    </tr>\n    <tr>\n      <th>...</th>\n      <td>...</td>\n      <td>...</td>\n    </tr>\n    <tr>\n      <th>61518</th>\n      <td>Enel Kansas, LLC</td>\n      <td>Enel</td>\n    </tr>\n    <tr>\n      <th>61592</th>\n      <td>Amadeus Wind LLC</td>\n      <td>Amadeus Wind LLC</td>\n    </tr>\n    <tr>\n      <th>61688</th>\n      <td>Burke Wind LLC</td>\n      <td>Burke Wind LLC</td>\n    </tr>\n    <tr>\n      <th>61762</th>\n      <td>Skeleton Creek Energy Center</td>\n      <td>Skeleton Creek Energy Center</td>\n    </tr>\n    <tr>\n      <th>61853</th>\n      <td>Rosewater Wind Farm LLC</td>\n      <td>Rosewater Wind Farm LLC</td>\n    </tr>\n  </tbody>\n</table>\n<p>613 rows × 2 columns</p>\n</div>"
     },
     "execution_count": 33,
     "metadata": {},
     "output_type": "execute_result"
    }
   ],
   "source": [
    "company_lookup_table_df = turbines_operators_inner[['operator_name', 'parent_company']].drop_duplicates()\n",
    "company_lookup_table_df"
   ],
   "metadata": {
    "collapsed": false,
    "ExecuteTime": {
     "end_time": "2024-01-24T02:17:47.158430200Z",
     "start_time": "2024-01-24T02:17:47.108499300Z"
    }
   },
   "id": "50d90b365c10155d"
  },
  {
   "cell_type": "markdown",
   "source": [
    "### export csv"
   ],
   "metadata": {
    "collapsed": false
   },
   "id": "a1266eeaa5dabc2b"
  },
  {
   "cell_type": "code",
   "execution_count": 34,
   "outputs": [],
   "source": [
    "company_lookup_table_df.to_csv('company_lookup_table.csv', index=False)"
   ],
   "metadata": {
    "collapsed": false,
    "ExecuteTime": {
     "end_time": "2024-01-24T02:17:59.143010800Z",
     "start_time": "2024-01-24T02:17:59.103178900Z"
    }
   },
   "id": "5e43209d6498a19d"
  },
  {
   "cell_type": "markdown",
   "source": [
    "### export entire turbines_operators_inner data frame to csv"
   ],
   "metadata": {
    "collapsed": false
   },
   "id": "ab3d737350602a3a"
  },
  {
   "cell_type": "code",
   "execution_count": 38,
   "outputs": [
    {
     "ename": "PermissionError",
     "evalue": "[Errno 13] Permission denied: 'turbines_operators_combined_parent.csv'",
     "output_type": "error",
     "traceback": [
      "\u001B[1;31m---------------------------------------------------------------------------\u001B[0m",
      "\u001B[1;31mPermissionError\u001B[0m                           Traceback (most recent call last)",
      "Cell \u001B[1;32mIn[38], line 1\u001B[0m\n\u001B[1;32m----> 1\u001B[0m \u001B[43mturbines_operators_inner\u001B[49m\u001B[38;5;241;43m.\u001B[39;49m\u001B[43mto_csv\u001B[49m\u001B[43m(\u001B[49m\u001B[38;5;124;43m'\u001B[39;49m\u001B[38;5;124;43mturbines_operators_combined_parent.csv\u001B[39;49m\u001B[38;5;124;43m'\u001B[39;49m\u001B[43m,\u001B[49m\u001B[43m \u001B[49m\u001B[43mindex\u001B[49m\u001B[38;5;241;43m=\u001B[39;49m\u001B[38;5;28;43;01mFalse\u001B[39;49;00m\u001B[43m)\u001B[49m\n",
      "File \u001B[1;32mF:\\GA_dataAnalytics\\python_wd\\venv\\Lib\\site-packages\\pandas\\core\\generic.py:3902\u001B[0m, in \u001B[0;36mNDFrame.to_csv\u001B[1;34m(self, path_or_buf, sep, na_rep, float_format, columns, header, index, index_label, mode, encoding, compression, quoting, quotechar, lineterminator, chunksize, date_format, doublequote, escapechar, decimal, errors, storage_options)\u001B[0m\n\u001B[0;32m   3891\u001B[0m df \u001B[38;5;241m=\u001B[39m \u001B[38;5;28mself\u001B[39m \u001B[38;5;28;01mif\u001B[39;00m \u001B[38;5;28misinstance\u001B[39m(\u001B[38;5;28mself\u001B[39m, ABCDataFrame) \u001B[38;5;28;01melse\u001B[39;00m \u001B[38;5;28mself\u001B[39m\u001B[38;5;241m.\u001B[39mto_frame()\n\u001B[0;32m   3893\u001B[0m formatter \u001B[38;5;241m=\u001B[39m DataFrameFormatter(\n\u001B[0;32m   3894\u001B[0m     frame\u001B[38;5;241m=\u001B[39mdf,\n\u001B[0;32m   3895\u001B[0m     header\u001B[38;5;241m=\u001B[39mheader,\n\u001B[1;32m   (...)\u001B[0m\n\u001B[0;32m   3899\u001B[0m     decimal\u001B[38;5;241m=\u001B[39mdecimal,\n\u001B[0;32m   3900\u001B[0m )\n\u001B[1;32m-> 3902\u001B[0m \u001B[38;5;28;01mreturn\u001B[39;00m \u001B[43mDataFrameRenderer\u001B[49m\u001B[43m(\u001B[49m\u001B[43mformatter\u001B[49m\u001B[43m)\u001B[49m\u001B[38;5;241;43m.\u001B[39;49m\u001B[43mto_csv\u001B[49m\u001B[43m(\u001B[49m\n\u001B[0;32m   3903\u001B[0m \u001B[43m    \u001B[49m\u001B[43mpath_or_buf\u001B[49m\u001B[43m,\u001B[49m\n\u001B[0;32m   3904\u001B[0m \u001B[43m    \u001B[49m\u001B[43mlineterminator\u001B[49m\u001B[38;5;241;43m=\u001B[39;49m\u001B[43mlineterminator\u001B[49m\u001B[43m,\u001B[49m\n\u001B[0;32m   3905\u001B[0m \u001B[43m    \u001B[49m\u001B[43msep\u001B[49m\u001B[38;5;241;43m=\u001B[39;49m\u001B[43msep\u001B[49m\u001B[43m,\u001B[49m\n\u001B[0;32m   3906\u001B[0m \u001B[43m    \u001B[49m\u001B[43mencoding\u001B[49m\u001B[38;5;241;43m=\u001B[39;49m\u001B[43mencoding\u001B[49m\u001B[43m,\u001B[49m\n\u001B[0;32m   3907\u001B[0m \u001B[43m    \u001B[49m\u001B[43merrors\u001B[49m\u001B[38;5;241;43m=\u001B[39;49m\u001B[43merrors\u001B[49m\u001B[43m,\u001B[49m\n\u001B[0;32m   3908\u001B[0m \u001B[43m    \u001B[49m\u001B[43mcompression\u001B[49m\u001B[38;5;241;43m=\u001B[39;49m\u001B[43mcompression\u001B[49m\u001B[43m,\u001B[49m\n\u001B[0;32m   3909\u001B[0m \u001B[43m    \u001B[49m\u001B[43mquoting\u001B[49m\u001B[38;5;241;43m=\u001B[39;49m\u001B[43mquoting\u001B[49m\u001B[43m,\u001B[49m\n\u001B[0;32m   3910\u001B[0m \u001B[43m    \u001B[49m\u001B[43mcolumns\u001B[49m\u001B[38;5;241;43m=\u001B[39;49m\u001B[43mcolumns\u001B[49m\u001B[43m,\u001B[49m\n\u001B[0;32m   3911\u001B[0m \u001B[43m    \u001B[49m\u001B[43mindex_label\u001B[49m\u001B[38;5;241;43m=\u001B[39;49m\u001B[43mindex_label\u001B[49m\u001B[43m,\u001B[49m\n\u001B[0;32m   3912\u001B[0m \u001B[43m    \u001B[49m\u001B[43mmode\u001B[49m\u001B[38;5;241;43m=\u001B[39;49m\u001B[43mmode\u001B[49m\u001B[43m,\u001B[49m\n\u001B[0;32m   3913\u001B[0m \u001B[43m    \u001B[49m\u001B[43mchunksize\u001B[49m\u001B[38;5;241;43m=\u001B[39;49m\u001B[43mchunksize\u001B[49m\u001B[43m,\u001B[49m\n\u001B[0;32m   3914\u001B[0m \u001B[43m    \u001B[49m\u001B[43mquotechar\u001B[49m\u001B[38;5;241;43m=\u001B[39;49m\u001B[43mquotechar\u001B[49m\u001B[43m,\u001B[49m\n\u001B[0;32m   3915\u001B[0m \u001B[43m    \u001B[49m\u001B[43mdate_format\u001B[49m\u001B[38;5;241;43m=\u001B[39;49m\u001B[43mdate_format\u001B[49m\u001B[43m,\u001B[49m\n\u001B[0;32m   3916\u001B[0m \u001B[43m    \u001B[49m\u001B[43mdoublequote\u001B[49m\u001B[38;5;241;43m=\u001B[39;49m\u001B[43mdoublequote\u001B[49m\u001B[43m,\u001B[49m\n\u001B[0;32m   3917\u001B[0m \u001B[43m    \u001B[49m\u001B[43mescapechar\u001B[49m\u001B[38;5;241;43m=\u001B[39;49m\u001B[43mescapechar\u001B[49m\u001B[43m,\u001B[49m\n\u001B[0;32m   3918\u001B[0m \u001B[43m    \u001B[49m\u001B[43mstorage_options\u001B[49m\u001B[38;5;241;43m=\u001B[39;49m\u001B[43mstorage_options\u001B[49m\u001B[43m,\u001B[49m\n\u001B[0;32m   3919\u001B[0m \u001B[43m\u001B[49m\u001B[43m)\u001B[49m\n",
      "File \u001B[1;32mF:\\GA_dataAnalytics\\python_wd\\venv\\Lib\\site-packages\\pandas\\io\\formats\\format.py:1152\u001B[0m, in \u001B[0;36mDataFrameRenderer.to_csv\u001B[1;34m(self, path_or_buf, encoding, sep, columns, index_label, mode, compression, quoting, quotechar, lineterminator, chunksize, date_format, doublequote, escapechar, errors, storage_options)\u001B[0m\n\u001B[0;32m   1131\u001B[0m     created_buffer \u001B[38;5;241m=\u001B[39m \u001B[38;5;28;01mFalse\u001B[39;00m\n\u001B[0;32m   1133\u001B[0m csv_formatter \u001B[38;5;241m=\u001B[39m CSVFormatter(\n\u001B[0;32m   1134\u001B[0m     path_or_buf\u001B[38;5;241m=\u001B[39mpath_or_buf,\n\u001B[0;32m   1135\u001B[0m     lineterminator\u001B[38;5;241m=\u001B[39mlineterminator,\n\u001B[1;32m   (...)\u001B[0m\n\u001B[0;32m   1150\u001B[0m     formatter\u001B[38;5;241m=\u001B[39m\u001B[38;5;28mself\u001B[39m\u001B[38;5;241m.\u001B[39mfmt,\n\u001B[0;32m   1151\u001B[0m )\n\u001B[1;32m-> 1152\u001B[0m \u001B[43mcsv_formatter\u001B[49m\u001B[38;5;241;43m.\u001B[39;49m\u001B[43msave\u001B[49m\u001B[43m(\u001B[49m\u001B[43m)\u001B[49m\n\u001B[0;32m   1154\u001B[0m \u001B[38;5;28;01mif\u001B[39;00m created_buffer:\n\u001B[0;32m   1155\u001B[0m     \u001B[38;5;28;01massert\u001B[39;00m \u001B[38;5;28misinstance\u001B[39m(path_or_buf, StringIO)\n",
      "File \u001B[1;32mF:\\GA_dataAnalytics\\python_wd\\venv\\Lib\\site-packages\\pandas\\io\\formats\\csvs.py:247\u001B[0m, in \u001B[0;36mCSVFormatter.save\u001B[1;34m(self)\u001B[0m\n\u001B[0;32m    243\u001B[0m \u001B[38;5;250m\u001B[39m\u001B[38;5;124;03m\"\"\"\u001B[39;00m\n\u001B[0;32m    244\u001B[0m \u001B[38;5;124;03mCreate the writer & save.\u001B[39;00m\n\u001B[0;32m    245\u001B[0m \u001B[38;5;124;03m\"\"\"\u001B[39;00m\n\u001B[0;32m    246\u001B[0m \u001B[38;5;66;03m# apply compression and byte/text conversion\u001B[39;00m\n\u001B[1;32m--> 247\u001B[0m \u001B[38;5;28;01mwith\u001B[39;00m \u001B[43mget_handle\u001B[49m\u001B[43m(\u001B[49m\n\u001B[0;32m    248\u001B[0m \u001B[43m    \u001B[49m\u001B[38;5;28;43mself\u001B[39;49m\u001B[38;5;241;43m.\u001B[39;49m\u001B[43mfilepath_or_buffer\u001B[49m\u001B[43m,\u001B[49m\n\u001B[0;32m    249\u001B[0m \u001B[43m    \u001B[49m\u001B[38;5;28;43mself\u001B[39;49m\u001B[38;5;241;43m.\u001B[39;49m\u001B[43mmode\u001B[49m\u001B[43m,\u001B[49m\n\u001B[0;32m    250\u001B[0m \u001B[43m    \u001B[49m\u001B[43mencoding\u001B[49m\u001B[38;5;241;43m=\u001B[39;49m\u001B[38;5;28;43mself\u001B[39;49m\u001B[38;5;241;43m.\u001B[39;49m\u001B[43mencoding\u001B[49m\u001B[43m,\u001B[49m\n\u001B[0;32m    251\u001B[0m \u001B[43m    \u001B[49m\u001B[43merrors\u001B[49m\u001B[38;5;241;43m=\u001B[39;49m\u001B[38;5;28;43mself\u001B[39;49m\u001B[38;5;241;43m.\u001B[39;49m\u001B[43merrors\u001B[49m\u001B[43m,\u001B[49m\n\u001B[0;32m    252\u001B[0m \u001B[43m    \u001B[49m\u001B[43mcompression\u001B[49m\u001B[38;5;241;43m=\u001B[39;49m\u001B[38;5;28;43mself\u001B[39;49m\u001B[38;5;241;43m.\u001B[39;49m\u001B[43mcompression\u001B[49m\u001B[43m,\u001B[49m\n\u001B[0;32m    253\u001B[0m \u001B[43m    \u001B[49m\u001B[43mstorage_options\u001B[49m\u001B[38;5;241;43m=\u001B[39;49m\u001B[38;5;28;43mself\u001B[39;49m\u001B[38;5;241;43m.\u001B[39;49m\u001B[43mstorage_options\u001B[49m\u001B[43m,\u001B[49m\n\u001B[0;32m    254\u001B[0m \u001B[43m\u001B[49m\u001B[43m)\u001B[49m \u001B[38;5;28;01mas\u001B[39;00m handles:\n\u001B[0;32m    255\u001B[0m     \u001B[38;5;66;03m# Note: self.encoding is irrelevant here\u001B[39;00m\n\u001B[0;32m    256\u001B[0m     \u001B[38;5;28mself\u001B[39m\u001B[38;5;241m.\u001B[39mwriter \u001B[38;5;241m=\u001B[39m csvlib\u001B[38;5;241m.\u001B[39mwriter(\n\u001B[0;32m    257\u001B[0m         handles\u001B[38;5;241m.\u001B[39mhandle,\n\u001B[0;32m    258\u001B[0m         lineterminator\u001B[38;5;241m=\u001B[39m\u001B[38;5;28mself\u001B[39m\u001B[38;5;241m.\u001B[39mlineterminator,\n\u001B[1;32m   (...)\u001B[0m\n\u001B[0;32m    263\u001B[0m         quotechar\u001B[38;5;241m=\u001B[39m\u001B[38;5;28mself\u001B[39m\u001B[38;5;241m.\u001B[39mquotechar,\n\u001B[0;32m    264\u001B[0m     )\n\u001B[0;32m    266\u001B[0m     \u001B[38;5;28mself\u001B[39m\u001B[38;5;241m.\u001B[39m_save()\n",
      "File \u001B[1;32mF:\\GA_dataAnalytics\\python_wd\\venv\\Lib\\site-packages\\pandas\\io\\common.py:863\u001B[0m, in \u001B[0;36mget_handle\u001B[1;34m(path_or_buf, mode, encoding, compression, memory_map, is_text, errors, storage_options)\u001B[0m\n\u001B[0;32m    858\u001B[0m \u001B[38;5;28;01melif\u001B[39;00m \u001B[38;5;28misinstance\u001B[39m(handle, \u001B[38;5;28mstr\u001B[39m):\n\u001B[0;32m    859\u001B[0m     \u001B[38;5;66;03m# Check whether the filename is to be opened in binary mode.\u001B[39;00m\n\u001B[0;32m    860\u001B[0m     \u001B[38;5;66;03m# Binary mode does not support 'encoding' and 'newline'.\u001B[39;00m\n\u001B[0;32m    861\u001B[0m     \u001B[38;5;28;01mif\u001B[39;00m ioargs\u001B[38;5;241m.\u001B[39mencoding \u001B[38;5;129;01mand\u001B[39;00m \u001B[38;5;124m\"\u001B[39m\u001B[38;5;124mb\u001B[39m\u001B[38;5;124m\"\u001B[39m \u001B[38;5;129;01mnot\u001B[39;00m \u001B[38;5;129;01min\u001B[39;00m ioargs\u001B[38;5;241m.\u001B[39mmode:\n\u001B[0;32m    862\u001B[0m         \u001B[38;5;66;03m# Encoding\u001B[39;00m\n\u001B[1;32m--> 863\u001B[0m         handle \u001B[38;5;241m=\u001B[39m \u001B[38;5;28;43mopen\u001B[39;49m\u001B[43m(\u001B[49m\n\u001B[0;32m    864\u001B[0m \u001B[43m            \u001B[49m\u001B[43mhandle\u001B[49m\u001B[43m,\u001B[49m\n\u001B[0;32m    865\u001B[0m \u001B[43m            \u001B[49m\u001B[43mioargs\u001B[49m\u001B[38;5;241;43m.\u001B[39;49m\u001B[43mmode\u001B[49m\u001B[43m,\u001B[49m\n\u001B[0;32m    866\u001B[0m \u001B[43m            \u001B[49m\u001B[43mencoding\u001B[49m\u001B[38;5;241;43m=\u001B[39;49m\u001B[43mioargs\u001B[49m\u001B[38;5;241;43m.\u001B[39;49m\u001B[43mencoding\u001B[49m\u001B[43m,\u001B[49m\n\u001B[0;32m    867\u001B[0m \u001B[43m            \u001B[49m\u001B[43merrors\u001B[49m\u001B[38;5;241;43m=\u001B[39;49m\u001B[43merrors\u001B[49m\u001B[43m,\u001B[49m\n\u001B[0;32m    868\u001B[0m \u001B[43m            \u001B[49m\u001B[43mnewline\u001B[49m\u001B[38;5;241;43m=\u001B[39;49m\u001B[38;5;124;43m\"\u001B[39;49m\u001B[38;5;124;43m\"\u001B[39;49m\u001B[43m,\u001B[49m\n\u001B[0;32m    869\u001B[0m \u001B[43m        \u001B[49m\u001B[43m)\u001B[49m\n\u001B[0;32m    870\u001B[0m     \u001B[38;5;28;01melse\u001B[39;00m:\n\u001B[0;32m    871\u001B[0m         \u001B[38;5;66;03m# Binary mode\u001B[39;00m\n\u001B[0;32m    872\u001B[0m         handle \u001B[38;5;241m=\u001B[39m \u001B[38;5;28mopen\u001B[39m(handle, ioargs\u001B[38;5;241m.\u001B[39mmode)\n",
      "\u001B[1;31mPermissionError\u001B[0m: [Errno 13] Permission denied: 'turbines_operators_combined_parent.csv'"
     ]
    }
   ],
   "source": [
    "turbines_operators_inner.to_csv('turbines_operators_combined_parent.csv', index=False)"
   ],
   "metadata": {
    "collapsed": false,
    "ExecuteTime": {
     "end_time": "2024-01-24T04:04:40.070633500Z",
     "start_time": "2024-01-24T04:04:39.994374800Z"
    }
   },
   "id": "cba8efaece3e082e"
  },
  {
   "cell_type": "code",
   "execution_count": 40,
   "outputs": [
    {
     "data": {
      "text/plain": "                          operator_name  wind_power_generated\n0                 MidAmerican Energy Co            2639544570\n1               Avangrid Renewables LLC            1654197406\n2           RWE Renewables Americas LLC            1445825880\n3    EDF Renewable Asset Holdings, Inc.            1252402341\n4                 AE Power Services LLC            1166239104\n..                                  ...                   ...\n608          Tennessee Valley Authority                     0\n609              Harbor Wind Tenant LLC                     0\n610                Performance Services                     0\n611      Rock County Energy Center, LLC                     0\n612        Inland Empire Energy Ctr LLC                     0\n\n[613 rows x 2 columns]",
      "text/html": "<div>\n<style scoped>\n    .dataframe tbody tr th:only-of-type {\n        vertical-align: middle;\n    }\n\n    .dataframe tbody tr th {\n        vertical-align: top;\n    }\n\n    .dataframe thead th {\n        text-align: right;\n    }\n</style>\n<table border=\"1\" class=\"dataframe\">\n  <thead>\n    <tr style=\"text-align: right;\">\n      <th></th>\n      <th>operator_name</th>\n      <th>wind_power_generated</th>\n    </tr>\n  </thead>\n  <tbody>\n    <tr>\n      <th>0</th>\n      <td>MidAmerican Energy Co</td>\n      <td>2639544570</td>\n    </tr>\n    <tr>\n      <th>1</th>\n      <td>Avangrid Renewables LLC</td>\n      <td>1654197406</td>\n    </tr>\n    <tr>\n      <th>2</th>\n      <td>RWE Renewables Americas LLC</td>\n      <td>1445825880</td>\n    </tr>\n    <tr>\n      <th>3</th>\n      <td>EDF Renewable Asset Holdings, Inc.</td>\n      <td>1252402341</td>\n    </tr>\n    <tr>\n      <th>4</th>\n      <td>AE Power Services LLC</td>\n      <td>1166239104</td>\n    </tr>\n    <tr>\n      <th>...</th>\n      <td>...</td>\n      <td>...</td>\n    </tr>\n    <tr>\n      <th>608</th>\n      <td>Tennessee Valley Authority</td>\n      <td>0</td>\n    </tr>\n    <tr>\n      <th>609</th>\n      <td>Harbor Wind Tenant LLC</td>\n      <td>0</td>\n    </tr>\n    <tr>\n      <th>610</th>\n      <td>Performance Services</td>\n      <td>0</td>\n    </tr>\n    <tr>\n      <th>611</th>\n      <td>Rock County Energy Center, LLC</td>\n      <td>0</td>\n    </tr>\n    <tr>\n      <th>612</th>\n      <td>Inland Empire Energy Ctr LLC</td>\n      <td>0</td>\n    </tr>\n  </tbody>\n</table>\n<p>613 rows × 2 columns</p>\n</div>"
     },
     "execution_count": 40,
     "metadata": {},
     "output_type": "execute_result"
    }
   ],
   "source": [
    "wind_power = pd.read_csv('014_wind_generation.csv')\n",
    "wind_power"
   ],
   "metadata": {
    "collapsed": false,
    "ExecuteTime": {
     "end_time": "2024-01-24T04:07:25.059473200Z",
     "start_time": "2024-01-24T04:07:25.001707400Z"
    }
   },
   "id": "ef9e104563ac5276"
  },
  {
   "cell_type": "code",
   "execution_count": 41,
   "outputs": [
    {
     "data": {
      "text/plain": "                          operator_name  net_generation_megawatthours\n373               MidAmerican Energy Co                  2.639545e+09\n32              Avangrid Renewables LLC                  1.654197e+09\n473         RWE Renewables Americas LLC                  1.445826e+09\n166  EDF Renewable Asset Holdings, Inc.                  1.252402e+09\n0                 AE Power Services LLC                  1.166239e+09\n..                                  ...                           ...\n543          Tennessee Valley Authority                  0.000000e+00\n272              Harbor Wind Tenant LLC                  0.000000e+00\n451                Performance Services                  0.000000e+00\n493      Rock County Energy Center, LLC                  0.000000e+00\n301        Inland Empire Energy Ctr LLC                  0.000000e+00\n\n[613 rows x 2 columns]",
      "text/html": "<div>\n<style scoped>\n    .dataframe tbody tr th:only-of-type {\n        vertical-align: middle;\n    }\n\n    .dataframe tbody tr th {\n        vertical-align: top;\n    }\n\n    .dataframe thead th {\n        text-align: right;\n    }\n</style>\n<table border=\"1\" class=\"dataframe\">\n  <thead>\n    <tr style=\"text-align: right;\">\n      <th></th>\n      <th>operator_name</th>\n      <th>net_generation_megawatthours</th>\n    </tr>\n  </thead>\n  <tbody>\n    <tr>\n      <th>373</th>\n      <td>MidAmerican Energy Co</td>\n      <td>2.639545e+09</td>\n    </tr>\n    <tr>\n      <th>32</th>\n      <td>Avangrid Renewables LLC</td>\n      <td>1.654197e+09</td>\n    </tr>\n    <tr>\n      <th>473</th>\n      <td>RWE Renewables Americas LLC</td>\n      <td>1.445826e+09</td>\n    </tr>\n    <tr>\n      <th>166</th>\n      <td>EDF Renewable Asset Holdings, Inc.</td>\n      <td>1.252402e+09</td>\n    </tr>\n    <tr>\n      <th>0</th>\n      <td>AE Power Services LLC</td>\n      <td>1.166239e+09</td>\n    </tr>\n    <tr>\n      <th>...</th>\n      <td>...</td>\n      <td>...</td>\n    </tr>\n    <tr>\n      <th>543</th>\n      <td>Tennessee Valley Authority</td>\n      <td>0.000000e+00</td>\n    </tr>\n    <tr>\n      <th>272</th>\n      <td>Harbor Wind Tenant LLC</td>\n      <td>0.000000e+00</td>\n    </tr>\n    <tr>\n      <th>451</th>\n      <td>Performance Services</td>\n      <td>0.000000e+00</td>\n    </tr>\n    <tr>\n      <th>493</th>\n      <td>Rock County Energy Center, LLC</td>\n      <td>0.000000e+00</td>\n    </tr>\n    <tr>\n      <th>301</th>\n      <td>Inland Empire Energy Ctr LLC</td>\n      <td>0.000000e+00</td>\n    </tr>\n  </tbody>\n</table>\n<p>613 rows × 2 columns</p>\n</div>"
     },
     "execution_count": 41,
     "metadata": {},
     "output_type": "execute_result"
    }
   ],
   "source": [
    "total_power = turbines_operators_inner.groupby(['operator_name'])['net_generation_megawatthours'].sum().reset_index()\n",
    "total_power.sort_values(by='net_generation_megawatthours', axis = 0, ascending = False, inplace=True)\n",
    "total_power"
   ],
   "metadata": {
    "collapsed": false,
    "ExecuteTime": {
     "end_time": "2024-01-24T04:12:16.923121400Z",
     "start_time": "2024-01-24T04:12:16.825040200Z"
    }
   },
   "id": "54f206b803e3c598"
  },
  {
   "cell_type": "code",
   "execution_count": 44,
   "outputs": [
    {
     "data": {
      "text/plain": "                 parent_company  state_count\n30      Avangrid Renewables LLC           23\n246      Invenergy Services LLC           13\n145               EDF Renewable           13\n321                         NRG           12\n166                  FPL Energy           11\n..                          ...          ...\n181  Fort Hays State University            1\n180        Foard City Wind, LLC            1\n179    Fluvanna Wind Energy LLC            1\n178  Fluvanna Wind Energy 2 LLC            1\n523         Zotos International            1\n\n[524 rows x 2 columns]",
      "text/html": "<div>\n<style scoped>\n    .dataframe tbody tr th:only-of-type {\n        vertical-align: middle;\n    }\n\n    .dataframe tbody tr th {\n        vertical-align: top;\n    }\n\n    .dataframe thead th {\n        text-align: right;\n    }\n</style>\n<table border=\"1\" class=\"dataframe\">\n  <thead>\n    <tr style=\"text-align: right;\">\n      <th></th>\n      <th>parent_company</th>\n      <th>state_count</th>\n    </tr>\n  </thead>\n  <tbody>\n    <tr>\n      <th>30</th>\n      <td>Avangrid Renewables LLC</td>\n      <td>23</td>\n    </tr>\n    <tr>\n      <th>246</th>\n      <td>Invenergy Services LLC</td>\n      <td>13</td>\n    </tr>\n    <tr>\n      <th>145</th>\n      <td>EDF Renewable</td>\n      <td>13</td>\n    </tr>\n    <tr>\n      <th>321</th>\n      <td>NRG</td>\n      <td>12</td>\n    </tr>\n    <tr>\n      <th>166</th>\n      <td>FPL Energy</td>\n      <td>11</td>\n    </tr>\n    <tr>\n      <th>...</th>\n      <td>...</td>\n      <td>...</td>\n    </tr>\n    <tr>\n      <th>181</th>\n      <td>Fort Hays State University</td>\n      <td>1</td>\n    </tr>\n    <tr>\n      <th>180</th>\n      <td>Foard City Wind, LLC</td>\n      <td>1</td>\n    </tr>\n    <tr>\n      <th>179</th>\n      <td>Fluvanna Wind Energy LLC</td>\n      <td>1</td>\n    </tr>\n    <tr>\n      <th>178</th>\n      <td>Fluvanna Wind Energy 2 LLC</td>\n      <td>1</td>\n    </tr>\n    <tr>\n      <th>523</th>\n      <td>Zotos International</td>\n      <td>1</td>\n    </tr>\n  </tbody>\n</table>\n<p>524 rows × 2 columns</p>\n</div>"
     },
     "execution_count": 44,
     "metadata": {},
     "output_type": "execute_result"
    }
   ],
   "source": [
    "state_count_df = turbines_operators_inner.groupby('parent_company')['t_state'].nunique().reset_index()\n",
    "state_count_df.columns = ['parent_company', 'state_count']\n",
    "state_count_df.sort_values(by='state_count', axis = 0, ascending = False, inplace=True)\n",
    "state_count_df"
   ],
   "metadata": {
    "collapsed": false,
    "ExecuteTime": {
     "end_time": "2024-01-24T04:27:38.090319800Z",
     "start_time": "2024-01-24T04:27:38.029771700Z"
    }
   },
   "id": "83282a8c26e021d3"
  },
  {
   "cell_type": "code",
   "execution_count": 45,
   "outputs": [],
   "source": [
    "state_count_df.to_csv('state_count_byParentCompany.csv', index=False)"
   ],
   "metadata": {
    "collapsed": false,
    "ExecuteTime": {
     "end_time": "2024-01-24T04:31:32.559273200Z",
     "start_time": "2024-01-24T04:31:32.470078700Z"
    }
   },
   "id": "aec07450311e5579"
  },
  {
   "cell_type": "code",
   "execution_count": 46,
   "outputs": [
    {
     "data": {
      "text/plain": "                          operator_name  state_count\n32              Avangrid Renewables LLC           23\n303              Invenergy Services LLC           13\n166  EDF Renewable Asset Holdings, Inc.           12\n386  NRG Energy Gas & Wind Holdings Inc           10\n443                Pattern Operators LP            8\n..                                  ...          ...\n217         FPL Energy Weatherford, LLC            1\n218         FPL Peetz Table Wind Energy            1\n219                FPLE High Winds, LLC            1\n220                      FPLE Wind, LLC            1\n612                 Zotos International            1\n\n[613 rows x 2 columns]",
      "text/html": "<div>\n<style scoped>\n    .dataframe tbody tr th:only-of-type {\n        vertical-align: middle;\n    }\n\n    .dataframe tbody tr th {\n        vertical-align: top;\n    }\n\n    .dataframe thead th {\n        text-align: right;\n    }\n</style>\n<table border=\"1\" class=\"dataframe\">\n  <thead>\n    <tr style=\"text-align: right;\">\n      <th></th>\n      <th>operator_name</th>\n      <th>state_count</th>\n    </tr>\n  </thead>\n  <tbody>\n    <tr>\n      <th>32</th>\n      <td>Avangrid Renewables LLC</td>\n      <td>23</td>\n    </tr>\n    <tr>\n      <th>303</th>\n      <td>Invenergy Services LLC</td>\n      <td>13</td>\n    </tr>\n    <tr>\n      <th>166</th>\n      <td>EDF Renewable Asset Holdings, Inc.</td>\n      <td>12</td>\n    </tr>\n    <tr>\n      <th>386</th>\n      <td>NRG Energy Gas &amp; Wind Holdings Inc</td>\n      <td>10</td>\n    </tr>\n    <tr>\n      <th>443</th>\n      <td>Pattern Operators LP</td>\n      <td>8</td>\n    </tr>\n    <tr>\n      <th>...</th>\n      <td>...</td>\n      <td>...</td>\n    </tr>\n    <tr>\n      <th>217</th>\n      <td>FPL Energy Weatherford, LLC</td>\n      <td>1</td>\n    </tr>\n    <tr>\n      <th>218</th>\n      <td>FPL Peetz Table Wind Energy</td>\n      <td>1</td>\n    </tr>\n    <tr>\n      <th>219</th>\n      <td>FPLE High Winds, LLC</td>\n      <td>1</td>\n    </tr>\n    <tr>\n      <th>220</th>\n      <td>FPLE Wind, LLC</td>\n      <td>1</td>\n    </tr>\n    <tr>\n      <th>612</th>\n      <td>Zotos International</td>\n      <td>1</td>\n    </tr>\n  </tbody>\n</table>\n<p>613 rows × 2 columns</p>\n</div>"
     },
     "execution_count": 46,
     "metadata": {},
     "output_type": "execute_result"
    }
   ],
   "source": [
    "state_countOperator_df = turbines_operators_inner.groupby('operator_name')['t_state'].nunique().reset_index()\n",
    "state_countOperator_df.columns = ['operator_name', 'state_count']\n",
    "state_countOperator_df.sort_values(by='state_count', axis = 0, ascending = False, inplace=True)\n",
    "state_countOperator_df"
   ],
   "metadata": {
    "collapsed": false,
    "ExecuteTime": {
     "end_time": "2024-01-24T04:34:03.163831400Z",
     "start_time": "2024-01-24T04:34:03.093070300Z"
    }
   },
   "id": "9ea22a77c5d7cf27"
  },
  {
   "cell_type": "code",
   "execution_count": 47,
   "outputs": [],
   "source": [
    "state_countOperator_df.to_csv('state_count_byOperator.csv', index=False)"
   ],
   "metadata": {
    "collapsed": false,
    "ExecuteTime": {
     "end_time": "2024-01-24T04:34:37.509016800Z",
     "start_time": "2024-01-24T04:34:37.472941100Z"
    }
   },
   "id": "60da72ce9eab89b4"
  },
  {
   "cell_type": "markdown",
   "source": [
    "# filter by parent companies that are in the google sheet list"
   ],
   "metadata": {
    "collapsed": false
   },
   "id": "8720a9139f85ac41"
  },
  {
   "cell_type": "code",
   "execution_count": 49,
   "outputs": [
    {
     "data": {
      "text/plain": "                    parent_company  state_count\n30         Avangrid Renewables LLC           23\n246         Invenergy Services LLC           13\n145                  EDF Renewable           13\n166                     FPL Energy           11\n441              Southern Power Co            6\n0            AE Power Services LLC            6\n387    RWE Renewables Americas LLC            6\n383  Public Service Co of Colorado            1\n309          MidAmerican Energy Co            1\n88        Capricorn Ridge Wind LLC            1",
      "text/html": "<div>\n<style scoped>\n    .dataframe tbody tr th:only-of-type {\n        vertical-align: middle;\n    }\n\n    .dataframe tbody tr th {\n        vertical-align: top;\n    }\n\n    .dataframe thead th {\n        text-align: right;\n    }\n</style>\n<table border=\"1\" class=\"dataframe\">\n  <thead>\n    <tr style=\"text-align: right;\">\n      <th></th>\n      <th>parent_company</th>\n      <th>state_count</th>\n    </tr>\n  </thead>\n  <tbody>\n    <tr>\n      <th>30</th>\n      <td>Avangrid Renewables LLC</td>\n      <td>23</td>\n    </tr>\n    <tr>\n      <th>246</th>\n      <td>Invenergy Services LLC</td>\n      <td>13</td>\n    </tr>\n    <tr>\n      <th>145</th>\n      <td>EDF Renewable</td>\n      <td>13</td>\n    </tr>\n    <tr>\n      <th>166</th>\n      <td>FPL Energy</td>\n      <td>11</td>\n    </tr>\n    <tr>\n      <th>441</th>\n      <td>Southern Power Co</td>\n      <td>6</td>\n    </tr>\n    <tr>\n      <th>0</th>\n      <td>AE Power Services LLC</td>\n      <td>6</td>\n    </tr>\n    <tr>\n      <th>387</th>\n      <td>RWE Renewables Americas LLC</td>\n      <td>6</td>\n    </tr>\n    <tr>\n      <th>383</th>\n      <td>Public Service Co of Colorado</td>\n      <td>1</td>\n    </tr>\n    <tr>\n      <th>309</th>\n      <td>MidAmerican Energy Co</td>\n      <td>1</td>\n    </tr>\n    <tr>\n      <th>88</th>\n      <td>Capricorn Ridge Wind LLC</td>\n      <td>1</td>\n    </tr>\n  </tbody>\n</table>\n</div>"
     },
     "execution_count": 49,
     "metadata": {},
     "output_type": "execute_result"
    }
   ],
   "source": [
    "# List of parent companies to filter\n",
    "selected_parent_companies = [\n",
    "    \"MidAmerican Energy Co\",\n",
    "    \"FPL Energy\",\n",
    "    \"Avangrid Renewables LLC\",\n",
    "    \"RWE Renewables Americas LLC\",\n",
    "    \"EDF Renewable\",\n",
    "    \"AE Power Services LLC\",\n",
    "    \"Invenergy Services LLC\",\n",
    "    \"Capricorn Ridge Wind LLC\",\n",
    "    \"Public Service Co of Colorado\",\n",
    "    \"Southern Power Co\"\n",
    "]\n",
    "\n",
    "# Filter state_count_df based on the selected parent companies\n",
    "filtered_state_count_df = state_count_df[state_count_df['parent_company'].isin(selected_parent_companies)]\n",
    "\n",
    "# Displaying the filtered DataFrame\n",
    "filtered_state_count_df\n"
   ],
   "metadata": {
    "collapsed": false,
    "ExecuteTime": {
     "end_time": "2024-01-25T00:41:50.976075900Z",
     "start_time": "2024-01-25T00:41:50.923556100Z"
    }
   },
   "id": "4f6916322946dfad"
  },
  {
   "cell_type": "code",
   "execution_count": 50,
   "outputs": [],
   "source": [
    "filtered_state_count_df.to_csv('filtered_state_count_byPC.csv', index=False)"
   ],
   "metadata": {
    "collapsed": false,
    "ExecuteTime": {
     "end_time": "2024-01-25T00:47:04.865887300Z",
     "start_time": "2024-01-25T00:47:04.812769Z"
    }
   },
   "id": "4804987fc3481703"
  },
  {
   "cell_type": "markdown",
   "source": [
    "# Efficiency\n",
    "### import efficiency .csv"
   ],
   "metadata": {
    "collapsed": false
   },
   "id": "fcec6aa5474405dd"
  },
  {
   "cell_type": "code",
   "execution_count": 54,
   "outputs": [
    {
     "data": {
      "text/plain": "                     operator_name  p_tnum    t_cap  Efficiency_kW_per_Turbine\n0            AE Power Services LLC     860  1679950                1953.430233\n1                     AEM Wind LLC      13    29900                2300.000000\n2         AEP Onsite Partners, LLC       3     1200                 400.000000\n3           AES Distributed Energy      57   216600                3800.000000\n4          AES Wind Generation Inc     517   826900                1599.419729\n..                             ...     ...      ...                        ...\n608    Wisconsin Electric Power Co     198   337200                1703.030303\n609     Wisconsin Power & Light Co     219   421150                1923.059361\n610  Wisconsin Public Service Corp     152   228000                1500.000000\n611     Wolverine Wind Energy, LLC       1     1500                1500.000000\n612            Zotos International       2     3300                1650.000000\n\n[613 rows x 4 columns]",
      "text/html": "<div>\n<style scoped>\n    .dataframe tbody tr th:only-of-type {\n        vertical-align: middle;\n    }\n\n    .dataframe tbody tr th {\n        vertical-align: top;\n    }\n\n    .dataframe thead th {\n        text-align: right;\n    }\n</style>\n<table border=\"1\" class=\"dataframe\">\n  <thead>\n    <tr style=\"text-align: right;\">\n      <th></th>\n      <th>operator_name</th>\n      <th>p_tnum</th>\n      <th>t_cap</th>\n      <th>Efficiency_kW_per_Turbine</th>\n    </tr>\n  </thead>\n  <tbody>\n    <tr>\n      <th>0</th>\n      <td>AE Power Services LLC</td>\n      <td>860</td>\n      <td>1679950</td>\n      <td>1953.430233</td>\n    </tr>\n    <tr>\n      <th>1</th>\n      <td>AEM Wind LLC</td>\n      <td>13</td>\n      <td>29900</td>\n      <td>2300.000000</td>\n    </tr>\n    <tr>\n      <th>2</th>\n      <td>AEP Onsite Partners, LLC</td>\n      <td>3</td>\n      <td>1200</td>\n      <td>400.000000</td>\n    </tr>\n    <tr>\n      <th>3</th>\n      <td>AES Distributed Energy</td>\n      <td>57</td>\n      <td>216600</td>\n      <td>3800.000000</td>\n    </tr>\n    <tr>\n      <th>4</th>\n      <td>AES Wind Generation Inc</td>\n      <td>517</td>\n      <td>826900</td>\n      <td>1599.419729</td>\n    </tr>\n    <tr>\n      <th>...</th>\n      <td>...</td>\n      <td>...</td>\n      <td>...</td>\n      <td>...</td>\n    </tr>\n    <tr>\n      <th>608</th>\n      <td>Wisconsin Electric Power Co</td>\n      <td>198</td>\n      <td>337200</td>\n      <td>1703.030303</td>\n    </tr>\n    <tr>\n      <th>609</th>\n      <td>Wisconsin Power &amp; Light Co</td>\n      <td>219</td>\n      <td>421150</td>\n      <td>1923.059361</td>\n    </tr>\n    <tr>\n      <th>610</th>\n      <td>Wisconsin Public Service Corp</td>\n      <td>152</td>\n      <td>228000</td>\n      <td>1500.000000</td>\n    </tr>\n    <tr>\n      <th>611</th>\n      <td>Wolverine Wind Energy, LLC</td>\n      <td>1</td>\n      <td>1500</td>\n      <td>1500.000000</td>\n    </tr>\n    <tr>\n      <th>612</th>\n      <td>Zotos International</td>\n      <td>2</td>\n      <td>3300</td>\n      <td>1650.000000</td>\n    </tr>\n  </tbody>\n</table>\n<p>613 rows × 4 columns</p>\n</div>"
     },
     "execution_count": 54,
     "metadata": {},
     "output_type": "execute_result"
    }
   ],
   "source": [
    "efficiency_df = pd.read_csv('Operator_Efficiency_measure.csv')\n",
    "lookup_table_manualEd_df = pd.read_csv('parent_child_lookup_manualEdit.csv')\n",
    "efficiency_df"
   ],
   "metadata": {
    "collapsed": false,
    "ExecuteTime": {
     "end_time": "2024-01-25T03:11:47.510954300Z",
     "start_time": "2024-01-25T03:11:47.444479100Z"
    }
   },
   "id": "8dc6899dac582b36"
  },
  {
   "cell_type": "code",
   "execution_count": 56,
   "outputs": [
    {
     "data": {
      "text/plain": "                     operator_name  p_tnum    t_cap  \\\n0            AE Power Services LLC     860  1679950   \n1                     AEM Wind LLC      13    29900   \n2         AEP Onsite Partners, LLC       3     1200   \n3           AES Distributed Energy      57   216600   \n4          AES Wind Generation Inc     517   826900   \n..                             ...     ...      ...   \n608    Wisconsin Electric Power Co     198   337200   \n609     Wisconsin Power & Light Co     219   421150   \n610  Wisconsin Public Service Corp     152   228000   \n611     Wolverine Wind Energy, LLC       1     1500   \n612            Zotos International       2     3300   \n\n     Efficiency_kW_per_Turbine                 parent_company  \n0                  1953.430233          AE Power Services LLC  \n1                  2300.000000                   AEM Wind LLC  \n2                   400.000000       AEP Onsite Partners, LLC  \n3                  3800.000000                            AES  \n4                  1599.419729                            AES  \n..                         ...                            ...  \n608                1703.030303    Wisconsin Electric Power Co  \n609                1923.059361     Wisconsin Power & Light Co  \n610                1500.000000  Wisconsin Public Service Corp  \n611                1500.000000     Wolverine Wind Energy, LLC  \n612                1650.000000            Zotos International  \n\n[613 rows x 5 columns]",
      "text/html": "<div>\n<style scoped>\n    .dataframe tbody tr th:only-of-type {\n        vertical-align: middle;\n    }\n\n    .dataframe tbody tr th {\n        vertical-align: top;\n    }\n\n    .dataframe thead th {\n        text-align: right;\n    }\n</style>\n<table border=\"1\" class=\"dataframe\">\n  <thead>\n    <tr style=\"text-align: right;\">\n      <th></th>\n      <th>operator_name</th>\n      <th>p_tnum</th>\n      <th>t_cap</th>\n      <th>Efficiency_kW_per_Turbine</th>\n      <th>parent_company</th>\n    </tr>\n  </thead>\n  <tbody>\n    <tr>\n      <th>0</th>\n      <td>AE Power Services LLC</td>\n      <td>860</td>\n      <td>1679950</td>\n      <td>1953.430233</td>\n      <td>AE Power Services LLC</td>\n    </tr>\n    <tr>\n      <th>1</th>\n      <td>AEM Wind LLC</td>\n      <td>13</td>\n      <td>29900</td>\n      <td>2300.000000</td>\n      <td>AEM Wind LLC</td>\n    </tr>\n    <tr>\n      <th>2</th>\n      <td>AEP Onsite Partners, LLC</td>\n      <td>3</td>\n      <td>1200</td>\n      <td>400.000000</td>\n      <td>AEP Onsite Partners, LLC</td>\n    </tr>\n    <tr>\n      <th>3</th>\n      <td>AES Distributed Energy</td>\n      <td>57</td>\n      <td>216600</td>\n      <td>3800.000000</td>\n      <td>AES</td>\n    </tr>\n    <tr>\n      <th>4</th>\n      <td>AES Wind Generation Inc</td>\n      <td>517</td>\n      <td>826900</td>\n      <td>1599.419729</td>\n      <td>AES</td>\n    </tr>\n    <tr>\n      <th>...</th>\n      <td>...</td>\n      <td>...</td>\n      <td>...</td>\n      <td>...</td>\n      <td>...</td>\n    </tr>\n    <tr>\n      <th>608</th>\n      <td>Wisconsin Electric Power Co</td>\n      <td>198</td>\n      <td>337200</td>\n      <td>1703.030303</td>\n      <td>Wisconsin Electric Power Co</td>\n    </tr>\n    <tr>\n      <th>609</th>\n      <td>Wisconsin Power &amp; Light Co</td>\n      <td>219</td>\n      <td>421150</td>\n      <td>1923.059361</td>\n      <td>Wisconsin Power &amp; Light Co</td>\n    </tr>\n    <tr>\n      <th>610</th>\n      <td>Wisconsin Public Service Corp</td>\n      <td>152</td>\n      <td>228000</td>\n      <td>1500.000000</td>\n      <td>Wisconsin Public Service Corp</td>\n    </tr>\n    <tr>\n      <th>611</th>\n      <td>Wolverine Wind Energy, LLC</td>\n      <td>1</td>\n      <td>1500</td>\n      <td>1500.000000</td>\n      <td>Wolverine Wind Energy, LLC</td>\n    </tr>\n    <tr>\n      <th>612</th>\n      <td>Zotos International</td>\n      <td>2</td>\n      <td>3300</td>\n      <td>1650.000000</td>\n      <td>Zotos International</td>\n    </tr>\n  </tbody>\n</table>\n<p>613 rows × 5 columns</p>\n</div>"
     },
     "execution_count": 56,
     "metadata": {},
     "output_type": "execute_result"
    }
   ],
   "source": [
    "# join the data frames\n",
    "efficiency_PC_df = pd.merge(efficiency_df,lookup_table_manualEd_df, on='operator_name', how='inner')\n",
    "efficiency_PC_df"
   ],
   "metadata": {
    "collapsed": false,
    "ExecuteTime": {
     "end_time": "2024-01-25T03:12:31.408775Z",
     "start_time": "2024-01-25T03:12:31.345576300Z"
    }
   },
   "id": "497dd19b2e9c9b79"
  },
  {
   "cell_type": "code",
   "execution_count": 57,
   "outputs": [],
   "source": [
    "# export to csv\n",
    "efficiency_PC_df.to_csv('efficiency_PC.csv', index=False)"
   ],
   "metadata": {
    "collapsed": false,
    "ExecuteTime": {
     "end_time": "2024-01-25T03:13:11.493417500Z",
     "start_time": "2024-01-25T03:13:11.424451Z"
    }
   },
   "id": "e02e60fff521883e"
  },
  {
   "cell_type": "markdown",
   "source": [],
   "metadata": {
    "collapsed": false
   },
   "id": "9b664dc25091547a"
  }
 ],
 "metadata": {
  "kernelspec": {
   "display_name": "Python 3",
   "language": "python",
   "name": "python3"
  },
  "language_info": {
   "codemirror_mode": {
    "name": "ipython",
    "version": 2
   },
   "file_extension": ".py",
   "mimetype": "text/x-python",
   "name": "python",
   "nbconvert_exporter": "python",
   "pygments_lexer": "ipython2",
   "version": "2.7.6"
  }
 },
 "nbformat": 4,
 "nbformat_minor": 5
}
